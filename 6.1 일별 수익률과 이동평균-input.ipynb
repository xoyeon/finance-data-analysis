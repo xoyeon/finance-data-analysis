{
  "nbformat": 4,
  "nbformat_minor": 0,
  "metadata": {
    "kernelspec": {
      "display_name": "Python 3",
      "language": "python",
      "name": "python3"
    },
    "language_info": {
      "codemirror_mode": {
        "name": "ipython",
        "version": 3
      },
      "file_extension": ".py",
      "mimetype": "text/x-python",
      "name": "python",
      "nbconvert_exporter": "python",
      "pygments_lexer": "ipython3",
      "version": "3.7.6"
    },
    "toc": {
      "base_numbering": 1,
      "nav_menu": {},
      "number_sections": true,
      "sideBar": true,
      "skip_h1_title": false,
      "title_cell": "Table of Contents",
      "title_sidebar": "Contents",
      "toc_cell": false,
      "toc_position": {
        "height": "calc(100% - 180px)",
        "left": "10px",
        "top": "150px",
        "width": "192px"
      },
      "toc_section_display": true,
      "toc_window_display": true
    },
    "varInspector": {
      "cols": {
        "lenName": 16,
        "lenType": 16,
        "lenVar": 40
      },
      "kernels_config": {
        "python": {
          "delete_cmd_postfix": "",
          "delete_cmd_prefix": "del ",
          "library": "var_list.py",
          "varRefreshCmd": "print(var_dic_list())"
        },
        "r": {
          "delete_cmd_postfix": ") ",
          "delete_cmd_prefix": "rm(",
          "library": "var_list.r",
          "varRefreshCmd": "cat(var_dic_list()) "
        }
      },
      "types_to_exclude": [
        "module",
        "function",
        "builtin_function_or_method",
        "instance",
        "_Feature"
      ],
      "window_display": false
    },
    "colab": {
      "name": "6.1 일별 수익률과 이동평균-input.ipynb의 사본",
      "provenance": [],
      "collapsed_sections": []
    }
  },
  "cells": [
    {
      "cell_type": "markdown",
      "metadata": {
        "id": "uQqmvI_AQhA2"
      },
      "source": [
        "[![Open In Colab](https://colab.research.google.com/assets/colab-badge.svg)](https://colab.research.google.com/github/corazzon/finance-data-analysis/blob/main/6.1%20%EC%9D%BC%EB%B3%84%20%EC%88%98%EC%9D%B5%EB%A5%A0%EA%B3%BC%20%EC%9D%B4%EB%8F%99%ED%8F%89%EA%B7%A0-input.ipynb)\n",
        "\n",
        "\n",
        "# 기술적 분석을 위한 판다스 기능 익히기\n",
        "## 기술적 분석\n",
        "금융시장의 가격 예측에는 몇가지 방법이 있다. 학계에서 일반적으로 인정되는 것은 효율적 시장 가설(EMH)과 랜덤워크 이론으로, 이는 <font color=\"red\">시장에서의 가격 예측이 불가능하다는 결론</font>에 이른다.\n",
        "\n",
        "이런 이론에도 불구하고 실무에서는 어떻게든 가격 움직임을 맞히려 애쓸 때가 많다. 기본적 분석(fundamental analysis)은 가격 결정의 원인을 거슬러올라간다. 주식은 회사의 소유지분이며, 주가는 기본적으로 그 회사의 수익성이나 사업 전망 등에 의해 결정된다 할 것이다. 수익성이 높은데 주가가 상대적으로 낮다면, 가격은 회사 가치에 일치하는 방향으로 움직일 것이라 기대할 수 있다. 기본적 분석은 이처럼 가격과 실제 가치의 괴리를 발견하기 위한 방법이다. 워런 버핏이 이런 투자 방법으로 유명하다.\n",
        "\n",
        "기술적 분석은 시장의 가격 그 자체에만 관심을 갖고, 그런 가격 움직임의 원인에는 관심을 두지 않는다. 몇가지 가정과, 과거와 현재의 가격 움직임에 따라 미래의 가격이 어떻게 움직일지를 예측한다. 기술적 분석은 이론적인 뒷받침이 거의 없으며, 분석의 유효성은 과거의 시장 경험에 의존한다. 오늘날 개인용 컴퓨터가 보급됨에 따라 확산되고 있다.\n",
        "\n",
        "기본적 분석은 경제분석가, 시장분석가, 에널리스트의 지지를 받으며 발전을 지속하고 있으며, 고액 연봉을 받는 이들 분석가들은 펀드매니저와 함께 시장의 주류를 형성하고 있다. 반면 기술적 분석가는 일부 증권사에서 한 두 명이 리서치 센터에 속하며 그래프를 통한 시장분석을 내 놓고 있으나, 보조적인 입장에서 개인투자자에게 참고자료를 제공하는 위치에 서 있다. 기관투자가들은 거의 대부분 기본적분석을 중심으로 시장 대응하고 있으며, 개인투자자들은 주로 기술적 분석에 의거하여 시장에 참여하고 있다.\n",
        "\n",
        "* 출처 : [기술적 분석 - 위키백과, 우리 모두의 백과사전](https://ko.wikipedia.org/wiki/%EA%B8%B0%EC%88%A0%EC%A0%81_%EB%B6%84%EC%84%9D)\n",
        "\n",
        "## 효율적 시장 가설(Efficient Market Hypothesis)\n",
        "\n",
        "금융경제학에서 모든 시장참여자가 완벽한 정보를 가지고 있을 때 자산가격이 균형에 도달한다는 가설이다.\n",
        "\n",
        "* 출처 : [효율적 시장 가설 - 위키백과, 우리 모두의 백과사전](https://ko.wikipedia.org/wiki/%ED%9A%A8%EC%9C%A8%EC%A0%81_%EC%8B%9C%EC%9E%A5_%EA%B0%80%EC%84%A4)\n",
        "\n",
        "## MTS(Mobile Trading System) 에서 제공하는 각종 기술적 분석 지표\n",
        "\n",
        "<img src=\"https://i.imgur.com/67VgH44.png\">"
      ]
    },
    {
      "cell_type": "markdown",
      "metadata": {
        "id": "VJ5TMpfoQhBI"
      },
      "source": [
        "## 라이브러리 로드"
      ]
    },
    {
      "cell_type": "code",
      "metadata": {
        "id": "LC_-OPRDQhBJ",
        "colab": {
          "base_uri": "https://localhost:8080/"
        },
        "outputId": "1d52a722-692d-4e99-9ce8-bed3451d783a"
      },
      "source": [
        "# 데이터 분석을 위한 pandas, 시각화를 위한 matplotlib, 주가 데이터 수집을 위한 FinanceDataReader\n",
        "import pandas as pd\n",
        "import matplotlib.pyplot as plt\n",
        "\n",
        "!pip install -U finance-datareader\n",
        "import FinanceDataReader as fdr"
      ],
      "execution_count": 1,
      "outputs": [
        {
          "output_type": "stream",
          "name": "stdout",
          "text": [
            "Requirement already satisfied: finance-datareader in /usr/local/lib/python3.7/dist-packages (0.9.31)\n",
            "Requirement already satisfied: pandas>=0.19.2 in /usr/local/lib/python3.7/dist-packages (from finance-datareader) (1.1.5)\n",
            "Requirement already satisfied: requests-file in /usr/local/lib/python3.7/dist-packages (from finance-datareader) (1.5.1)\n",
            "Requirement already satisfied: lxml in /usr/local/lib/python3.7/dist-packages (from finance-datareader) (4.2.6)\n",
            "Requirement already satisfied: requests>=2.3.0 in /usr/local/lib/python3.7/dist-packages (from finance-datareader) (2.23.0)\n",
            "Requirement already satisfied: tqdm in /usr/local/lib/python3.7/dist-packages (from finance-datareader) (4.62.3)\n",
            "Requirement already satisfied: numpy>=1.15.4 in /usr/local/lib/python3.7/dist-packages (from pandas>=0.19.2->finance-datareader) (1.19.5)\n",
            "Requirement already satisfied: python-dateutil>=2.7.3 in /usr/local/lib/python3.7/dist-packages (from pandas>=0.19.2->finance-datareader) (2.8.2)\n",
            "Requirement already satisfied: pytz>=2017.2 in /usr/local/lib/python3.7/dist-packages (from pandas>=0.19.2->finance-datareader) (2018.9)\n",
            "Requirement already satisfied: six>=1.5 in /usr/local/lib/python3.7/dist-packages (from python-dateutil>=2.7.3->pandas>=0.19.2->finance-datareader) (1.15.0)\n",
            "Requirement already satisfied: chardet<4,>=3.0.2 in /usr/local/lib/python3.7/dist-packages (from requests>=2.3.0->finance-datareader) (3.0.4)\n",
            "Requirement already satisfied: certifi>=2017.4.17 in /usr/local/lib/python3.7/dist-packages (from requests>=2.3.0->finance-datareader) (2021.10.8)\n",
            "Requirement already satisfied: urllib3!=1.25.0,!=1.25.1,<1.26,>=1.21.1 in /usr/local/lib/python3.7/dist-packages (from requests>=2.3.0->finance-datareader) (1.24.3)\n",
            "Requirement already satisfied: idna<3,>=2.5 in /usr/local/lib/python3.7/dist-packages (from requests>=2.3.0->finance-datareader) (2.10)\n"
          ]
        }
      ]
    },
    {
      "cell_type": "markdown",
      "metadata": {
        "id": "Nk4Am8KqQhBK"
      },
      "source": [
        "## 삼성전자 일별시세 불러오기"
      ]
    },
    {
      "cell_type": "code",
      "metadata": {
        "id": "XWRfl9uQQhBL",
        "colab": {
          "base_uri": "https://localhost:8080/"
        },
        "outputId": "24270f1f-2abb-46f1-aaac-d53728b700c5"
      },
      "source": [
        "# 삼성전자 : 005930\n",
        "df = fdr.DataReader(\"005930\", \"2020\", \"2021\")\n",
        "df.shape"
      ],
      "execution_count": 2,
      "outputs": [
        {
          "output_type": "execute_result",
          "data": {
            "text/plain": [
              "(248, 6)"
            ]
          },
          "metadata": {},
          "execution_count": 2
        }
      ]
    },
    {
      "cell_type": "code",
      "metadata": {
        "id": "qLJ4AvWVQhB_",
        "colab": {
          "base_uri": "https://localhost:8080/",
          "height": 238
        },
        "outputId": "575bfa22-6fbe-40b5-cd29-808555e98b99"
      },
      "source": [
        "# 일별 시세 미리보기\n",
        "df.head()"
      ],
      "execution_count": 3,
      "outputs": [
        {
          "output_type": "execute_result",
          "data": {
            "text/html": [
              "<div>\n",
              "<style scoped>\n",
              "    .dataframe tbody tr th:only-of-type {\n",
              "        vertical-align: middle;\n",
              "    }\n",
              "\n",
              "    .dataframe tbody tr th {\n",
              "        vertical-align: top;\n",
              "    }\n",
              "\n",
              "    .dataframe thead th {\n",
              "        text-align: right;\n",
              "    }\n",
              "</style>\n",
              "<table border=\"1\" class=\"dataframe\">\n",
              "  <thead>\n",
              "    <tr style=\"text-align: right;\">\n",
              "      <th></th>\n",
              "      <th>Open</th>\n",
              "      <th>High</th>\n",
              "      <th>Low</th>\n",
              "      <th>Close</th>\n",
              "      <th>Volume</th>\n",
              "      <th>Change</th>\n",
              "    </tr>\n",
              "    <tr>\n",
              "      <th>Date</th>\n",
              "      <th></th>\n",
              "      <th></th>\n",
              "      <th></th>\n",
              "      <th></th>\n",
              "      <th></th>\n",
              "      <th></th>\n",
              "    </tr>\n",
              "  </thead>\n",
              "  <tbody>\n",
              "    <tr>\n",
              "      <th>2020-01-02</th>\n",
              "      <td>55500</td>\n",
              "      <td>56000</td>\n",
              "      <td>55000</td>\n",
              "      <td>55200</td>\n",
              "      <td>12993228</td>\n",
              "      <td>-0.010753</td>\n",
              "    </tr>\n",
              "    <tr>\n",
              "      <th>2020-01-03</th>\n",
              "      <td>56000</td>\n",
              "      <td>56600</td>\n",
              "      <td>54900</td>\n",
              "      <td>55500</td>\n",
              "      <td>15422255</td>\n",
              "      <td>0.005435</td>\n",
              "    </tr>\n",
              "    <tr>\n",
              "      <th>2020-01-06</th>\n",
              "      <td>54900</td>\n",
              "      <td>55600</td>\n",
              "      <td>54600</td>\n",
              "      <td>55500</td>\n",
              "      <td>10278951</td>\n",
              "      <td>0.000000</td>\n",
              "    </tr>\n",
              "    <tr>\n",
              "      <th>2020-01-07</th>\n",
              "      <td>55700</td>\n",
              "      <td>56400</td>\n",
              "      <td>55600</td>\n",
              "      <td>55800</td>\n",
              "      <td>10009778</td>\n",
              "      <td>0.005405</td>\n",
              "    </tr>\n",
              "    <tr>\n",
              "      <th>2020-01-08</th>\n",
              "      <td>56200</td>\n",
              "      <td>57400</td>\n",
              "      <td>55900</td>\n",
              "      <td>56800</td>\n",
              "      <td>23501171</td>\n",
              "      <td>0.017921</td>\n",
              "    </tr>\n",
              "  </tbody>\n",
              "</table>\n",
              "</div>"
            ],
            "text/plain": [
              "             Open   High    Low  Close    Volume    Change\n",
              "Date                                                      \n",
              "2020-01-02  55500  56000  55000  55200  12993228 -0.010753\n",
              "2020-01-03  56000  56600  54900  55500  15422255  0.005435\n",
              "2020-01-06  54900  55600  54600  55500  10278951  0.000000\n",
              "2020-01-07  55700  56400  55600  55800  10009778  0.005405\n",
              "2020-01-08  56200  57400  55900  56800  23501171  0.017921"
            ]
          },
          "metadata": {},
          "execution_count": 3
        }
      ]
    },
    {
      "cell_type": "markdown",
      "metadata": {
        "id": "qFaBSdC8QhCH"
      },
      "source": [
        "## Shift 를 활용해 전일 대비 수익률 구하기 \n",
        "### Change 값 직접 구해보기"
      ]
    },
    {
      "cell_type": "code",
      "metadata": {
        "id": "5TsO8w-TQhCK"
      },
      "source": [
        "# Change = ( 종가 / 전일종가 ) - 1\n",
        "df[\"Change2\"] = df[\"Close\"] / df[\"Close\"].shift(1) -1"
      ],
      "execution_count": 4,
      "outputs": []
    },
    {
      "cell_type": "code",
      "metadata": {
        "id": "QTTkDM7-QhCM",
        "colab": {
          "base_uri": "https://localhost:8080/",
          "height": 455
        },
        "outputId": "c73a1237-5a94-4674-9269-ac1a81f551bb"
      },
      "source": [
        "# 불러온 값과 직접 구한 값이 같은지 확인하기\n",
        "df[[\"Change\", \"Change2\"]]"
      ],
      "execution_count": 5,
      "outputs": [
        {
          "output_type": "execute_result",
          "data": {
            "text/html": [
              "<div>\n",
              "<style scoped>\n",
              "    .dataframe tbody tr th:only-of-type {\n",
              "        vertical-align: middle;\n",
              "    }\n",
              "\n",
              "    .dataframe tbody tr th {\n",
              "        vertical-align: top;\n",
              "    }\n",
              "\n",
              "    .dataframe thead th {\n",
              "        text-align: right;\n",
              "    }\n",
              "</style>\n",
              "<table border=\"1\" class=\"dataframe\">\n",
              "  <thead>\n",
              "    <tr style=\"text-align: right;\">\n",
              "      <th></th>\n",
              "      <th>Change</th>\n",
              "      <th>Change2</th>\n",
              "    </tr>\n",
              "    <tr>\n",
              "      <th>Date</th>\n",
              "      <th></th>\n",
              "      <th></th>\n",
              "    </tr>\n",
              "  </thead>\n",
              "  <tbody>\n",
              "    <tr>\n",
              "      <th>2020-01-02</th>\n",
              "      <td>-0.010753</td>\n",
              "      <td>NaN</td>\n",
              "    </tr>\n",
              "    <tr>\n",
              "      <th>2020-01-03</th>\n",
              "      <td>0.005435</td>\n",
              "      <td>0.005435</td>\n",
              "    </tr>\n",
              "    <tr>\n",
              "      <th>2020-01-06</th>\n",
              "      <td>0.000000</td>\n",
              "      <td>0.000000</td>\n",
              "    </tr>\n",
              "    <tr>\n",
              "      <th>2020-01-07</th>\n",
              "      <td>0.005405</td>\n",
              "      <td>0.005405</td>\n",
              "    </tr>\n",
              "    <tr>\n",
              "      <th>2020-01-08</th>\n",
              "      <td>0.017921</td>\n",
              "      <td>0.017921</td>\n",
              "    </tr>\n",
              "    <tr>\n",
              "      <th>...</th>\n",
              "      <td>...</td>\n",
              "      <td>...</td>\n",
              "    </tr>\n",
              "    <tr>\n",
              "      <th>2020-12-23</th>\n",
              "      <td>0.022130</td>\n",
              "      <td>0.022130</td>\n",
              "    </tr>\n",
              "    <tr>\n",
              "      <th>2020-12-24</th>\n",
              "      <td>0.052774</td>\n",
              "      <td>0.052774</td>\n",
              "    </tr>\n",
              "    <tr>\n",
              "      <th>2020-12-28</th>\n",
              "      <td>0.011568</td>\n",
              "      <td>0.011568</td>\n",
              "    </tr>\n",
              "    <tr>\n",
              "      <th>2020-12-29</th>\n",
              "      <td>-0.005083</td>\n",
              "      <td>-0.005083</td>\n",
              "    </tr>\n",
              "    <tr>\n",
              "      <th>2020-12-30</th>\n",
              "      <td>0.034483</td>\n",
              "      <td>0.034483</td>\n",
              "    </tr>\n",
              "  </tbody>\n",
              "</table>\n",
              "<p>248 rows × 2 columns</p>\n",
              "</div>"
            ],
            "text/plain": [
              "              Change   Change2\n",
              "Date                          \n",
              "2020-01-02 -0.010753       NaN\n",
              "2020-01-03  0.005435  0.005435\n",
              "2020-01-06  0.000000  0.000000\n",
              "2020-01-07  0.005405  0.005405\n",
              "2020-01-08  0.017921  0.017921\n",
              "...              ...       ...\n",
              "2020-12-23  0.022130  0.022130\n",
              "2020-12-24  0.052774  0.052774\n",
              "2020-12-28  0.011568  0.011568\n",
              "2020-12-29 -0.005083 -0.005083\n",
              "2020-12-30  0.034483  0.034483\n",
              "\n",
              "[248 rows x 2 columns]"
            ]
          },
          "metadata": {},
          "execution_count": 5
        }
      ]
    },
    {
      "cell_type": "markdown",
      "metadata": {
        "id": "m27zX2nvQhCO"
      },
      "source": [
        "### pct_change 값 직접 구하기\n",
        "* pandas의 pct_change 를 사용해서 구해볼 수도 있습니다."
      ]
    },
    {
      "cell_type": "code",
      "metadata": {
        "id": "8-GTCoY6QhCP",
        "colab": {
          "base_uri": "https://localhost:8080/",
          "height": 238
        },
        "outputId": "63a26d4e-4f92-47d2-a212-488e9e168997"
      },
      "source": [
        "# pct_change = (종가/전일종가) - 1\n",
        "df[\"pct_change\"] = df[\"Close\"].pct_change()\n",
        "df.head()"
      ],
      "execution_count": 6,
      "outputs": [
        {
          "output_type": "execute_result",
          "data": {
            "text/html": [
              "<div>\n",
              "<style scoped>\n",
              "    .dataframe tbody tr th:only-of-type {\n",
              "        vertical-align: middle;\n",
              "    }\n",
              "\n",
              "    .dataframe tbody tr th {\n",
              "        vertical-align: top;\n",
              "    }\n",
              "\n",
              "    .dataframe thead th {\n",
              "        text-align: right;\n",
              "    }\n",
              "</style>\n",
              "<table border=\"1\" class=\"dataframe\">\n",
              "  <thead>\n",
              "    <tr style=\"text-align: right;\">\n",
              "      <th></th>\n",
              "      <th>Open</th>\n",
              "      <th>High</th>\n",
              "      <th>Low</th>\n",
              "      <th>Close</th>\n",
              "      <th>Volume</th>\n",
              "      <th>Change</th>\n",
              "      <th>Change2</th>\n",
              "      <th>pct_change</th>\n",
              "    </tr>\n",
              "    <tr>\n",
              "      <th>Date</th>\n",
              "      <th></th>\n",
              "      <th></th>\n",
              "      <th></th>\n",
              "      <th></th>\n",
              "      <th></th>\n",
              "      <th></th>\n",
              "      <th></th>\n",
              "      <th></th>\n",
              "    </tr>\n",
              "  </thead>\n",
              "  <tbody>\n",
              "    <tr>\n",
              "      <th>2020-01-02</th>\n",
              "      <td>55500</td>\n",
              "      <td>56000</td>\n",
              "      <td>55000</td>\n",
              "      <td>55200</td>\n",
              "      <td>12993228</td>\n",
              "      <td>-0.010753</td>\n",
              "      <td>NaN</td>\n",
              "      <td>NaN</td>\n",
              "    </tr>\n",
              "    <tr>\n",
              "      <th>2020-01-03</th>\n",
              "      <td>56000</td>\n",
              "      <td>56600</td>\n",
              "      <td>54900</td>\n",
              "      <td>55500</td>\n",
              "      <td>15422255</td>\n",
              "      <td>0.005435</td>\n",
              "      <td>0.005435</td>\n",
              "      <td>0.005435</td>\n",
              "    </tr>\n",
              "    <tr>\n",
              "      <th>2020-01-06</th>\n",
              "      <td>54900</td>\n",
              "      <td>55600</td>\n",
              "      <td>54600</td>\n",
              "      <td>55500</td>\n",
              "      <td>10278951</td>\n",
              "      <td>0.000000</td>\n",
              "      <td>0.000000</td>\n",
              "      <td>0.000000</td>\n",
              "    </tr>\n",
              "    <tr>\n",
              "      <th>2020-01-07</th>\n",
              "      <td>55700</td>\n",
              "      <td>56400</td>\n",
              "      <td>55600</td>\n",
              "      <td>55800</td>\n",
              "      <td>10009778</td>\n",
              "      <td>0.005405</td>\n",
              "      <td>0.005405</td>\n",
              "      <td>0.005405</td>\n",
              "    </tr>\n",
              "    <tr>\n",
              "      <th>2020-01-08</th>\n",
              "      <td>56200</td>\n",
              "      <td>57400</td>\n",
              "      <td>55900</td>\n",
              "      <td>56800</td>\n",
              "      <td>23501171</td>\n",
              "      <td>0.017921</td>\n",
              "      <td>0.017921</td>\n",
              "      <td>0.017921</td>\n",
              "    </tr>\n",
              "  </tbody>\n",
              "</table>\n",
              "</div>"
            ],
            "text/plain": [
              "             Open   High    Low  ...    Change   Change2  pct_change\n",
              "Date                             ...                                \n",
              "2020-01-02  55500  56000  55000  ... -0.010753       NaN         NaN\n",
              "2020-01-03  56000  56600  54900  ...  0.005435  0.005435    0.005435\n",
              "2020-01-06  54900  55600  54600  ...  0.000000  0.000000    0.000000\n",
              "2020-01-07  55700  56400  55600  ...  0.005405  0.005405    0.005405\n",
              "2020-01-08  56200  57400  55900  ...  0.017921  0.017921    0.017921\n",
              "\n",
              "[5 rows x 8 columns]"
            ]
          },
          "metadata": {},
          "execution_count": 6
        }
      ]
    },
    {
      "cell_type": "code",
      "metadata": {
        "id": "SkZEmAmqQhCP"
      },
      "source": [
        "# Diff 값 구하기\n",
        "df[\"Diff\"] = df[\"Close\"].diff()"
      ],
      "execution_count": 7,
      "outputs": []
    },
    {
      "cell_type": "code",
      "metadata": {
        "id": "qjUSao3aQhCV",
        "colab": {
          "base_uri": "https://localhost:8080/",
          "height": 295
        },
        "outputId": "93ea68e8-c754-4825-a768-05cf536d0d50"
      },
      "source": [
        "# \"Change\", \"pct_change\" 시각화 하기\n",
        "df[[\"Change\", \"pct_change\"]].plot(figsize=(10,4))\n",
        "plt.axhline(0, c=\"k\", lw=1)"
      ],
      "execution_count": 8,
      "outputs": [
        {
          "output_type": "execute_result",
          "data": {
            "text/plain": [
              "<matplotlib.lines.Line2D at 0x7f5bb67b3a10>"
            ]
          },
          "metadata": {},
          "execution_count": 8
        },
        {
          "output_type": "display_data",
          "data": {
            "image/png": "[encoded data removed]",
            "text/plain": [
              "<Figure size 720x288 with 1 Axes>"
            ]
          },
          "metadata": {
            "needs_background": "light"
          }
        }
      ]
    },
    {
      "cell_type": "markdown",
      "metadata": {
        "id": "OkitUzbSQhCW"
      },
      "source": [
        "## diff 를 통한 증감 구하기"
      ]
    },
    {
      "cell_type": "code",
      "metadata": {
        "id": "B14JFWqRQhCW",
        "colab": {
          "base_uri": "https://localhost:8080/"
        },
        "outputId": "534b74d5-c3a3-48df-bbda-53e5be41a76d"
      },
      "source": [
        "# 이전 데이터와 다음 데이터의 차이를 구합니다.\n",
        "df[\"Close\"].diff()"
      ],
      "execution_count": 9,
      "outputs": [
        {
          "output_type": "execute_result",
          "data": {
            "text/plain": [
              "Date\n",
              "2020-01-02       NaN\n",
              "2020-01-03     300.0\n",
              "2020-01-06       0.0\n",
              "2020-01-07     300.0\n",
              "2020-01-08    1000.0\n",
              "               ...  \n",
              "2020-12-23    1600.0\n",
              "2020-12-24    3900.0\n",
              "2020-12-28     900.0\n",
              "2020-12-29    -400.0\n",
              "2020-12-30    2700.0\n",
              "Name: Close, Length: 248, dtype: float64"
            ]
          },
          "metadata": {},
          "execution_count": 9
        }
      ]
    },
    {
      "cell_type": "code",
      "metadata": {
        "id": "1WtvdMKAQhCX",
        "colab": {
          "base_uri": "https://localhost:8080/"
        },
        "outputId": "38dab28b-2996-4ed3-903d-fb82079dd4d1"
      },
      "source": [
        "# shift로 diff 구하기\n",
        "# 종가 - 전일종가\n",
        "df[\"Diff_Shift\"] = df[\"Close\"] - df[\"Close\"].shift(1)\n",
        "df[\"Diff_Shift\"]"
      ],
      "execution_count": 10,
      "outputs": [
        {
          "output_type": "execute_result",
          "data": {
            "text/plain": [
              "Date\n",
              "2020-01-02       NaN\n",
              "2020-01-03     300.0\n",
              "2020-01-06       0.0\n",
              "2020-01-07     300.0\n",
              "2020-01-08    1000.0\n",
              "               ...  \n",
              "2020-12-23    1600.0\n",
              "2020-12-24    3900.0\n",
              "2020-12-28     900.0\n",
              "2020-12-29    -400.0\n",
              "2020-12-30    2700.0\n",
              "Name: Diff_Shift, Length: 248, dtype: float64"
            ]
          },
          "metadata": {},
          "execution_count": 10
        }
      ]
    },
    {
      "cell_type": "code",
      "metadata": {
        "colab": {
          "base_uri": "https://localhost:8080/",
          "height": 455
        },
        "id": "KCklhvEleO26",
        "outputId": "3daf7eed-59fe-4dd7-c289-87e5ce3a0ae3"
      },
      "source": [
        "df"
      ],
      "execution_count": 11,
      "outputs": [
        {
          "output_type": "execute_result",
          "data": {
            "text/html": [
              "<div>\n",
              "<style scoped>\n",
              "    .dataframe tbody tr th:only-of-type {\n",
              "        vertical-align: middle;\n",
              "    }\n",
              "\n",
              "    .dataframe tbody tr th {\n",
              "        vertical-align: top;\n",
              "    }\n",
              "\n",
              "    .dataframe thead th {\n",
              "        text-align: right;\n",
              "    }\n",
              "</style>\n",
              "<table border=\"1\" class=\"dataframe\">\n",
              "  <thead>\n",
              "    <tr style=\"text-align: right;\">\n",
              "      <th></th>\n",
              "      <th>Open</th>\n",
              "      <th>High</th>\n",
              "      <th>Low</th>\n",
              "      <th>Close</th>\n",
              "      <th>Volume</th>\n",
              "      <th>Change</th>\n",
              "      <th>Change2</th>\n",
              "      <th>pct_change</th>\n",
              "      <th>Diff</th>\n",
              "      <th>Diff_Shift</th>\n",
              "    </tr>\n",
              "    <tr>\n",
              "      <th>Date</th>\n",
              "      <th></th>\n",
              "      <th></th>\n",
              "      <th></th>\n",
              "      <th></th>\n",
              "      <th></th>\n",
              "      <th></th>\n",
              "      <th></th>\n",
              "      <th></th>\n",
              "      <th></th>\n",
              "      <th></th>\n",
              "    </tr>\n",
              "  </thead>\n",
              "  <tbody>\n",
              "    <tr>\n",
              "      <th>2020-01-02</th>\n",
              "      <td>55500</td>\n",
              "      <td>56000</td>\n",
              "      <td>55000</td>\n",
              "      <td>55200</td>\n",
              "      <td>12993228</td>\n",
              "      <td>-0.010753</td>\n",
              "      <td>NaN</td>\n",
              "      <td>NaN</td>\n",
              "      <td>NaN</td>\n",
              "      <td>NaN</td>\n",
              "    </tr>\n",
              "    <tr>\n",
              "      <th>2020-01-03</th>\n",
              "      <td>56000</td>\n",
              "      <td>56600</td>\n",
              "      <td>54900</td>\n",
              "      <td>55500</td>\n",
              "      <td>15422255</td>\n",
              "      <td>0.005435</td>\n",
              "      <td>0.005435</td>\n",
              "      <td>0.005435</td>\n",
              "      <td>300.0</td>\n",
              "      <td>300.0</td>\n",
              "    </tr>\n",
              "    <tr>\n",
              "      <th>2020-01-06</th>\n",
              "      <td>54900</td>\n",
              "      <td>55600</td>\n",
              "      <td>54600</td>\n",
              "      <td>55500</td>\n",
              "      <td>10278951</td>\n",
              "      <td>0.000000</td>\n",
              "      <td>0.000000</td>\n",
              "      <td>0.000000</td>\n",
              "      <td>0.0</td>\n",
              "      <td>0.0</td>\n",
              "    </tr>\n",
              "    <tr>\n",
              "      <th>2020-01-07</th>\n",
              "      <td>55700</td>\n",
              "      <td>56400</td>\n",
              "      <td>55600</td>\n",
              "      <td>55800</td>\n",
              "      <td>10009778</td>\n",
              "      <td>0.005405</td>\n",
              "      <td>0.005405</td>\n",
              "      <td>0.005405</td>\n",
              "      <td>300.0</td>\n",
              "      <td>300.0</td>\n",
              "    </tr>\n",
              "    <tr>\n",
              "      <th>2020-01-08</th>\n",
              "      <td>56200</td>\n",
              "      <td>57400</td>\n",
              "      <td>55900</td>\n",
              "      <td>56800</td>\n",
              "      <td>23501171</td>\n",
              "      <td>0.017921</td>\n",
              "      <td>0.017921</td>\n",
              "      <td>0.017921</td>\n",
              "      <td>1000.0</td>\n",
              "      <td>1000.0</td>\n",
              "    </tr>\n",
              "    <tr>\n",
              "      <th>...</th>\n",
              "      <td>...</td>\n",
              "      <td>...</td>\n",
              "      <td>...</td>\n",
              "      <td>...</td>\n",
              "      <td>...</td>\n",
              "      <td>...</td>\n",
              "      <td>...</td>\n",
              "      <td>...</td>\n",
              "      <td>...</td>\n",
              "      <td>...</td>\n",
              "    </tr>\n",
              "    <tr>\n",
              "      <th>2020-12-23</th>\n",
              "      <td>72400</td>\n",
              "      <td>74000</td>\n",
              "      <td>72300</td>\n",
              "      <td>73900</td>\n",
              "      <td>19411326</td>\n",
              "      <td>0.022130</td>\n",
              "      <td>0.022130</td>\n",
              "      <td>0.022130</td>\n",
              "      <td>1600.0</td>\n",
              "      <td>1600.0</td>\n",
              "    </tr>\n",
              "    <tr>\n",
              "      <th>2020-12-24</th>\n",
              "      <td>74100</td>\n",
              "      <td>78800</td>\n",
              "      <td>74000</td>\n",
              "      <td>77800</td>\n",
              "      <td>32502870</td>\n",
              "      <td>0.052774</td>\n",
              "      <td>0.052774</td>\n",
              "      <td>0.052774</td>\n",
              "      <td>3900.0</td>\n",
              "      <td>3900.0</td>\n",
              "    </tr>\n",
              "    <tr>\n",
              "      <th>2020-12-28</th>\n",
              "      <td>79000</td>\n",
              "      <td>80100</td>\n",
              "      <td>78200</td>\n",
              "      <td>78700</td>\n",
              "      <td>40085044</td>\n",
              "      <td>0.011568</td>\n",
              "      <td>0.011568</td>\n",
              "      <td>0.011568</td>\n",
              "      <td>900.0</td>\n",
              "      <td>900.0</td>\n",
              "    </tr>\n",
              "    <tr>\n",
              "      <th>2020-12-29</th>\n",
              "      <td>78800</td>\n",
              "      <td>78900</td>\n",
              "      <td>77300</td>\n",
              "      <td>78300</td>\n",
              "      <td>30339449</td>\n",
              "      <td>-0.005083</td>\n",
              "      <td>-0.005083</td>\n",
              "      <td>-0.005083</td>\n",
              "      <td>-400.0</td>\n",
              "      <td>-400.0</td>\n",
              "    </tr>\n",
              "    <tr>\n",
              "      <th>2020-12-30</th>\n",
              "      <td>77400</td>\n",
              "      <td>81300</td>\n",
              "      <td>77300</td>\n",
              "      <td>81000</td>\n",
              "      <td>29417421</td>\n",
              "      <td>0.034483</td>\n",
              "      <td>0.034483</td>\n",
              "      <td>0.034483</td>\n",
              "      <td>2700.0</td>\n",
              "      <td>2700.0</td>\n",
              "    </tr>\n",
              "  </tbody>\n",
              "</table>\n",
              "<p>248 rows × 10 columns</p>\n",
              "</div>"
            ],
            "text/plain": [
              "             Open   High    Low  ...  pct_change    Diff  Diff_Shift\n",
              "Date                             ...                                \n",
              "2020-01-02  55500  56000  55000  ...         NaN     NaN         NaN\n",
              "2020-01-03  56000  56600  54900  ...    0.005435   300.0       300.0\n",
              "2020-01-06  54900  55600  54600  ...    0.000000     0.0         0.0\n",
              "2020-01-07  55700  56400  55600  ...    0.005405   300.0       300.0\n",
              "2020-01-08  56200  57400  55900  ...    0.017921  1000.0      1000.0\n",
              "...           ...    ...    ...  ...         ...     ...         ...\n",
              "2020-12-23  72400  74000  72300  ...    0.022130  1600.0      1600.0\n",
              "2020-12-24  74100  78800  74000  ...    0.052774  3900.0      3900.0\n",
              "2020-12-28  79000  80100  78200  ...    0.011568   900.0       900.0\n",
              "2020-12-29  78800  78900  77300  ...   -0.005083  -400.0      -400.0\n",
              "2020-12-30  77400  81300  77300  ...    0.034483  2700.0      2700.0\n",
              "\n",
              "[248 rows x 10 columns]"
            ]
          },
          "metadata": {},
          "execution_count": 11
        }
      ]
    },
    {
      "cell_type": "markdown",
      "metadata": {
        "id": "uYo73ktWQhCX"
      },
      "source": [
        "## 누적 수익률\n",
        "* 일별 수익률을 누적곱으로 구합니다."
      ]
    },
    {
      "cell_type": "code",
      "metadata": {
        "id": "gCEboDPiQhCY",
        "colab": {
          "base_uri": "https://localhost:8080/"
        },
        "outputId": "c45747bb-f339-4336-aed2-c84e999c2222"
      },
      "source": [
        "# Change = ( 종가 / 전일종가 ) - 1\n",
        "df[\"Change\"] + 1"
      ],
      "execution_count": 12,
      "outputs": [
        {
          "output_type": "execute_result",
          "data": {
            "text/plain": [
              "Date\n",
              "2020-01-02    0.989247\n",
              "2020-01-03    1.005435\n",
              "2020-01-06    1.000000\n",
              "2020-01-07    1.005405\n",
              "2020-01-08    1.017921\n",
              "                ...   \n",
              "2020-12-23    1.022130\n",
              "2020-12-24    1.052774\n",
              "2020-12-28    1.011568\n",
              "2020-12-29    0.994917\n",
              "2020-12-30    1.034483\n",
              "Name: Change, Length: 248, dtype: float64"
            ]
          },
          "metadata": {},
          "execution_count": 12
        }
      ]
    },
    {
      "cell_type": "code",
      "metadata": {
        "colab": {
          "base_uri": "https://localhost:8080/"
        },
        "id": "rwGIzIv7dm5f",
        "outputId": "dca2a4f7-f12a-4f79-b143-8e556fd3ba3c"
      },
      "source": [
        "0.9 * 1.2 * 2.0"
      ],
      "execution_count": 13,
      "outputs": [
        {
          "output_type": "execute_result",
          "data": {
            "text/plain": [
              "2.16"
            ]
          },
          "metadata": {},
          "execution_count": 13
        }
      ]
    },
    {
      "cell_type": "code",
      "metadata": {
        "id": "7aNCWnSWQhCZ",
        "colab": {
          "base_uri": "https://localhost:8080/",
          "height": 311
        },
        "outputId": "c5d62e0d-2400-4058-a2fa-969ff64253e9"
      },
      "source": [
        "# cumulative Daily Returns 일별 수익률을 누적곱으로 구하기\n",
        "cum_daily_return = (df[\"Change\"] + 1).cumprod()\n",
        "cum_daily_return.plot(figsize=(10,4), title=\"Cumulative Daily Returns\")\n",
        "plt.axhline(1, c=\"k\", lw=1)"
      ],
      "execution_count": 14,
      "outputs": [
        {
          "output_type": "execute_result",
          "data": {
            "text/plain": [
              "<matplotlib.lines.Line2D at 0x7f5bad450890>"
            ]
          },
          "metadata": {},
          "execution_count": 14
        },
        {
          "output_type": "display_data",
          "data": {
            "image/png": "[encoded data removed]",
            "text/plain": [
              "<Figure size 720x288 with 1 Axes>"
            ]
          },
          "metadata": {
            "needs_background": "light"
          }
        }
      ]
    },
    {
      "cell_type": "markdown",
      "metadata": {
        "id": "C2XdIdrzQhCa"
      },
      "source": [
        "\n",
        "\n",
        "## 이동평균\n",
        "통계학에서 이동평균(롤링평균 또는 이동평균)은 전체 데이터 집합의 여러 하위 집합에 대한 일련의 평균을 만들어 데이터 요소를 분석하는 계산이다. 이동산술평균 (Moving Mean) 또는 롤링산술평균(Rolling Mean)이라고도 한다.\n",
        "\n",
        "일련의 연속된 숫자와 고정된 부분 집합 크기가 주어지면, 이동 평균의 첫 번째 요소는 연속된 숫자의 첫 고정 부분 집합의 평균을 취하여 구한다. 그런 다음 \"앞으로 이동\"하여 하위 집합을 변경한다. 즉, 부분 집합의 첫 번째 숫자를 제외하고 연속된 숫자의 다음 값을 포함시킨다.\n",
        "\n",
        "\n",
        "* 출처 : [이동평균 - 위키백과, 우리 모두의 백과사전](https://ko.wikipedia.org/wiki/%EC%9D%B4%EB%8F%99%ED%8F%89%EA%B7%A0)\n",
        "\n",
        "* 이동평균의 종류\n",
        "    * 단순이동평균(Simple Moving Average)\n",
        "    * 누적이동평균(Cumulative moving average)\n",
        "    * 가중이동평균(Weighted Moving Average)\n",
        "    * 지수이동평균(Exponential Moving Average)\n",
        "\n",
        "\n",
        "### rolling\n",
        "* window : 몇 개의 데이터를 가지고 연산을 할 것인지 결정\n",
        "    * 의미 : window가 클수록 부드러운 선의 형태를 가지고 있음 window가 center에 있지 않으면 window는 클수록 위상 차가 큼\n",
        "* min_periods : 최소한 몇 개의 데이터가 있어야 연산을 할 것인지 결정\n",
        "    * --> window 안의 데이터가 min_periods보다 적다면, \n",
        "       결과는 NaN\n",
        "* center : window의 위치를 window 끝으로 할 것인지 중간으로 할 것 인지 결정\n",
        "    * 의미 : 시계열 데이터에서는 window를 중간으로 할 수 없다(미래의 데이터는 볼 수 없기 때문에)\n",
        "* <font color=\"red\">연산을 mean()으로 했을 경우 'rolling'은 전체적으로 진짜 데이터에서 **잡음(noise)을 제거**하는 의미</font>\n",
        "\n",
        "### expanding\n",
        "\n",
        "* window : expanding에서는 window를 결정하지 않음\n",
        "    * 왜냐하면 window의 크기가 순차적으로 증가하기 때문\n",
        "* min_periods : 최소한 몇 개의 데이터가 있어야 연산을 할 것인지 결정\n",
        "    * --> 이것은 rolling과 같음\n",
        "* expanding에서의 sum()은 cumsum() 연산과 동일하게 진행되나 NaN 이 있을 경우 expanding은 무난하게 처리할 수 있음\n",
        "* 연산을 sum()으로 했을 경우, cumsum()과 같은 의미가 있음\n",
        "* <font color=\"red\">연산을 mean()으로 했을 경우 'expanding' 은 전체적으로 **추세**를 찾는 의미가 있음</font>\n",
        "\n",
        "<img src=\"https://i.imgur.com/mCBaCbd.png\">\n",
        "\n"
      ]
    },
    {
      "cell_type": "markdown",
      "metadata": {
        "id": "4zQILtVFQhCc"
      },
      "source": [
        "### 단순이동평균(SMA: Simple Moving Average)\n",
        "* rolling을 사용합니다."
      ]
    },
    {
      "cell_type": "code",
      "metadata": {
        "id": "YCWBI33YQhCd"
      },
      "source": [
        "# 윈도우 7, 14 단순 이동평균 구하기\n",
        "df[\"SMA7\"] = df[\"Close\"].rolling(7).mean()\n",
        "df[\"SMA14\"] = df[\"Close\"].rolling(14).mean()"
      ],
      "execution_count": 15,
      "outputs": []
    },
    {
      "cell_type": "code",
      "metadata": {
        "scrolled": true,
        "id": "uGpfLmrEQhCe",
        "colab": {
          "base_uri": "https://localhost:8080/",
          "height": 311
        },
        "outputId": "fb291995-a192-49fd-80f2-e972a894109c"
      },
      "source": [
        "# \"Close\", \"SMA7\", \"SMA14\" 시각화 하기\n",
        "df[[\"Close\", \"SMA7\", \"SMA14\"]].plot(figsize=(10,4), title=\"Simple Moving Average\")"
      ],
      "execution_count": 18,
      "outputs": [
        {
          "output_type": "execute_result",
          "data": {
            "text/plain": [
              "<matplotlib.axes._subplots.AxesSubplot at 0x7f5ba870ad90>"
            ]
          },
          "metadata": {},
          "execution_count": 18
        },
        {
          "output_type": "display_data",
          "data": {
            "image/png": "[encoded data removed]",
            "text/plain": [
              "<Figure size 720x288 with 1 Axes>"
            ]
          },
          "metadata": {
            "needs_background": "light"
          }
        }
      ]
    },
    {
      "cell_type": "markdown",
      "metadata": {
        "id": "BJ_fj48JQhCe"
      },
      "source": [
        "### 누적이동평균(Cumulative moving average)\n",
        "* expanding을 사용합니다. window 창이 시간의 흐름에 따라 증가합니다."
      ]
    },
    {
      "cell_type": "code",
      "metadata": {
        "id": "ghBIM94HQhCf"
      },
      "source": [
        "# expanding 을 사용하면 window가 시간의 흐름에 따라 증가합니다.\n",
        "df[\"CMA\"] = df[\"Close\"].expanding(14).mean()"
      ],
      "execution_count": 27,
      "outputs": []
    },
    {
      "cell_type": "code",
      "metadata": {
        "id": "-X1DhqrvQhCf",
        "colab": {
          "base_uri": "https://localhost:8080/",
          "height": 311
        },
        "outputId": "6b530584-8c83-4950-e159-aea692955433"
      },
      "source": [
        "# 누적이동평균 시각화\n",
        "df[[\"Close\", \"CMA\"]].plot(figsize=(10,4), title=\"Cumulative moving average\")"
      ],
      "execution_count": 28,
      "outputs": [
        {
          "output_type": "execute_result",
          "data": {
            "text/plain": [
              "<matplotlib.axes._subplots.AxesSubplot at 0x7f5ba83a6e50>"
            ]
          },
          "metadata": {},
          "execution_count": 28
        },
        {
          "output_type": "display_data",
          "data": {
            "image/png": "[encoded data removed]",
            "text/plain": [
              "<Figure size 720x288 with 1 Axes>"
            ]
          },
          "metadata": {
            "needs_background": "light"
          }
        }
      ]
    },
    {
      "cell_type": "markdown",
      "metadata": {
        "id": "-dGL7gyFQhCf"
      },
      "source": [
        "### 지수이동평균(Exponential Moving Average)\n",
        "* 최근 자료에 가중치를 부여하여 최근 가격 변동을 잘 나타냅니다."
      ]
    },
    {
      "cell_type": "code",
      "metadata": {
        "id": "m7iJ_9hwQhCg"
      },
      "source": [
        "# 최근 자료에 가중치를 더 주도록 지수 이동 평균을 구합니다.\n",
        "# exponential weighted moving\n",
        "df[\"EWM_short\"] = df[\"Close\"].ewm(span=12).mean()\n",
        "df[\"EWM_long\"] = df[\"Close\"].ewm(span=26).mean()"
      ],
      "execution_count": 30,
      "outputs": []
    },
    {
      "cell_type": "code",
      "metadata": {
        "id": "DmCiy6IxQhCg",
        "colab": {
          "base_uri": "https://localhost:8080/",
          "height": 311
        },
        "outputId": "0f13edd9-6d0e-4f90-8db2-2178baaf105f"
      },
      "source": [
        "# \"Close\", \"EWM_short\", \"EWM_long\" 시각화\n",
        "df[[\"Close\", \"EWM_short\", \"EWM_long\"]].plot(figsize=(10,4), title=\"Exponential Moving Average\")"
      ],
      "execution_count": 32,
      "outputs": [
        {
          "output_type": "execute_result",
          "data": {
            "text/plain": [
              "<matplotlib.axes._subplots.AxesSubplot at 0x7f5ba87a3510>"
            ]
          },
          "metadata": {},
          "execution_count": 32
        },
        {
          "output_type": "display_data",
          "data": {
            "image/png": "[encoded data removed]",
            "text/plain": [
              "<Figure size 720x288 with 1 Axes>"
            ]
          },
          "metadata": {
            "needs_background": "light"
          }
        }
      ]
    },
    {
      "cell_type": "code",
      "metadata": {
        "id": "EwyuvYtNQhCg",
        "colab": {
          "base_uri": "https://localhost:8080/",
          "height": 295
        },
        "outputId": "4a2eea31-5db0-43c9-be3d-6e7f422591e7"
      },
      "source": [
        "# 다양한 이동평균 비교하기\n",
        "df[[\"Close\", \"SMA7\", \"CMA\", \"EWM_long\"]].plot(figsize=(10,4))"
      ],
      "execution_count": 34,
      "outputs": [
        {
          "output_type": "execute_result",
          "data": {
            "text/plain": [
              "<matplotlib.axes._subplots.AxesSubplot at 0x7f5ba81bff90>"
            ]
          },
          "metadata": {},
          "execution_count": 34
        },
        {
          "output_type": "display_data",
          "data": {
            "image/png": "[encoded data removed]",
            "text/plain": [
              "<Figure size 720x288 with 1 Axes>"
            ]
          },
          "metadata": {
            "needs_background": "light"
          }
        }
      ]
    },
    {
      "cell_type": "markdown",
      "metadata": {
        "id": "bUIxVFvcQhCh"
      },
      "source": [
        "## 샘플링\n",
        "### asfreq\n",
        "* Convert TimeSeries to specified frequency.\n",
        "\n",
        "* asfreq : 특정 주기 데이터를 반환\n",
        "* resample : 특정 주기의 그룹화된 데이터를 반환"
      ]
    },
    {
      "cell_type": "code",
      "metadata": {
        "id": "uPGmTnaJQhCq",
        "colab": {
          "base_uri": "https://localhost:8080/"
        },
        "outputId": "82b05e6e-2bcd-426a-c82d-52ff24df44a6"
      },
      "source": [
        "# 인덱스의 데이터 타입이 datetime 형태라면 asfreq, resample을 통해 \n",
        "# 특정 기간만큼 샘플링 혹은 추출을 할 수 있습니다.\n",
        "df[\"Close\"]"
      ],
      "execution_count": 37,
      "outputs": [
        {
          "output_type": "execute_result",
          "data": {
            "text/plain": [
              "Date\n",
              "2020-01-02    55200\n",
              "2020-01-03    55500\n",
              "2020-01-06    55500\n",
              "2020-01-07    55800\n",
              "2020-01-08    56800\n",
              "              ...  \n",
              "2020-12-23    73900\n",
              "2020-12-24    77800\n",
              "2020-12-28    78700\n",
              "2020-12-29    78300\n",
              "2020-12-30    81000\n",
              "Name: Close, Length: 248, dtype: int64"
            ]
          },
          "metadata": {},
          "execution_count": 37
        }
      ]
    },
    {
      "cell_type": "code",
      "metadata": {
        "id": "ppJOZup7QhCs",
        "colab": {
          "base_uri": "https://localhost:8080/"
        },
        "outputId": "89d68891-908f-42ff-c140-8f1eabf98be8"
      },
      "source": [
        "# asfreq : D단위로 샘플링\n",
        "df[\"Close\"].asfreq(\"D\")"
      ],
      "execution_count": 38,
      "outputs": [
        {
          "output_type": "execute_result",
          "data": {
            "text/plain": [
              "Date\n",
              "2020-01-02    55200.0\n",
              "2020-01-03    55500.0\n",
              "2020-01-04        NaN\n",
              "2020-01-05        NaN\n",
              "2020-01-06    55500.0\n",
              "               ...   \n",
              "2020-12-26        NaN\n",
              "2020-12-27        NaN\n",
              "2020-12-28    78700.0\n",
              "2020-12-29    78300.0\n",
              "2020-12-30    81000.0\n",
              "Freq: D, Name: Close, Length: 364, dtype: float64"
            ]
          },
          "metadata": {},
          "execution_count": 38
        }
      ]
    },
    {
      "cell_type": "code",
      "metadata": {
        "id": "YETBLuWEQhCt",
        "colab": {
          "base_uri": "https://localhost:8080/"
        },
        "outputId": "38ad8553-a450-4306-c25d-7e05967d3b28"
      },
      "source": [
        "# 일 단위로 샘플링을 하면 영업일이 아닌 데이터들이 결측치(NaN)로 되어 있습니다.\n",
        "# fillna를 통해 method=\"ffill\" 로 채우면 이전 영업일 데이터로 값을 채울 수 있습니다.\n",
        "df[\"Close\"].asfreq(\"D\").fillna(method=\"ffill\")"
      ],
      "execution_count": 39,
      "outputs": [
        {
          "output_type": "execute_result",
          "data": {
            "text/plain": [
              "Date\n",
              "2020-01-02    55200.0\n",
              "2020-01-03    55500.0\n",
              "2020-01-04    55500.0\n",
              "2020-01-05    55500.0\n",
              "2020-01-06    55500.0\n",
              "               ...   \n",
              "2020-12-26    77800.0\n",
              "2020-12-27    77800.0\n",
              "2020-12-28    78700.0\n",
              "2020-12-29    78300.0\n",
              "2020-12-30    81000.0\n",
              "Freq: D, Name: Close, Length: 364, dtype: float64"
            ]
          },
          "metadata": {},
          "execution_count": 39
        }
      ]
    },
    {
      "cell_type": "code",
      "metadata": {
        "id": "w1Tq8Z3QQhCu"
      },
      "source": [
        "df.interpolate?"
      ],
      "execution_count": 41,
      "outputs": []
    },
    {
      "cell_type": "code",
      "metadata": {
        "id": "e81NGOKGQhCw",
        "colab": {
          "base_uri": "https://localhost:8080/"
        },
        "outputId": "b9145d21-e3ab-4f2f-82bd-d5b4b3f17192"
      },
      "source": [
        "df[\"Close\"].asfreq(\"D\").interpolate()"
      ],
      "execution_count": 40,
      "outputs": [
        {
          "output_type": "execute_result",
          "data": {
            "text/plain": [
              "Date\n",
              "2020-01-02    55200.0\n",
              "2020-01-03    55500.0\n",
              "2020-01-04    55500.0\n",
              "2020-01-05    55500.0\n",
              "2020-01-06    55500.0\n",
              "               ...   \n",
              "2020-12-26    78250.0\n",
              "2020-12-27    78475.0\n",
              "2020-12-28    78700.0\n",
              "2020-12-29    78300.0\n",
              "2020-12-30    81000.0\n",
              "Freq: D, Name: Close, Length: 364, dtype: float64"
            ]
          },
          "metadata": {},
          "execution_count": 40
        }
      ]
    },
    {
      "cell_type": "code",
      "metadata": {
        "id": "dkkuuF82QhCx",
        "colab": {
          "base_uri": "https://localhost:8080/"
        },
        "outputId": "6d789a17-d0f5-4c3e-b1fa-ae9aae457e54"
      },
      "source": [
        "# 특정 주기 단위로 샘플링 예) 4일\n",
        "df[\"Close\"].asfreq(\"4D\")"
      ],
      "execution_count": 42,
      "outputs": [
        {
          "output_type": "execute_result",
          "data": {
            "text/plain": [
              "Date\n",
              "2020-01-02    55200\n",
              "2020-01-03    55500\n",
              "2020-01-06    55500\n",
              "2020-01-07    55800\n",
              "2020-01-08    56800\n",
              "              ...  \n",
              "2020-12-23    73900\n",
              "2020-12-24    77800\n",
              "2020-12-28    78700\n",
              "2020-12-29    78300\n",
              "2020-12-30    81000\n",
              "Name: Close, Length: 248, dtype: int64"
            ]
          },
          "metadata": {},
          "execution_count": 42
        }
      ]
    },
    {
      "cell_type": "code",
      "metadata": {
        "id": "7i8iZnZAQhC2",
        "colab": {
          "base_uri": "https://localhost:8080/"
        },
        "outputId": "dba37d0e-0b1d-41e1-c412-e9168b28566d"
      },
      "source": [
        "# 특정 주기 단위로 샘플링 예) 월단위\n",
        "df[\"Close\"].asfreq(\"M\")"
      ],
      "execution_count": 45,
      "outputs": [
        {
          "output_type": "execute_result",
          "data": {
            "text/plain": [
              "Date\n",
              "2020-01-31    56400.0\n",
              "2020-02-29        NaN\n",
              "2020-03-31    47750.0\n",
              "2020-04-30        NaN\n",
              "2020-05-31        NaN\n",
              "2020-06-30    52800.0\n",
              "2020-07-31    57900.0\n",
              "2020-08-31    54000.0\n",
              "2020-09-30        NaN\n",
              "2020-10-31        NaN\n",
              "2020-11-30    66700.0\n",
              "Freq: M, Name: Close, dtype: float64"
            ]
          },
          "metadata": {},
          "execution_count": 45
        }
      ]
    },
    {
      "cell_type": "code",
      "metadata": {
        "id": "DBKmR6YYQhDC",
        "colab": {
          "base_uri": "https://localhost:8080/"
        },
        "outputId": "b247c6e1-03e7-4d26-ea7f-4214f92e1096"
      },
      "source": [
        "# 특정 주기 단위로 샘플링 예) 분기단위\n",
        "df[\"Close\"].asfreq(\"Q\")"
      ],
      "execution_count": 46,
      "outputs": [
        {
          "output_type": "execute_result",
          "data": {
            "text/plain": [
              "Date\n",
              "2020-03-31    47750.0\n",
              "2020-06-30    52800.0\n",
              "2020-09-30        NaN\n",
              "Freq: Q-DEC, Name: Close, dtype: float64"
            ]
          },
          "metadata": {},
          "execution_count": 46
        }
      ]
    },
    {
      "cell_type": "markdown",
      "metadata": {
        "id": "UNgeJNbLQhDC"
      },
      "source": [
        "### resample\n",
        "* Resample time-series data."
      ]
    },
    {
      "cell_type": "code",
      "metadata": {
        "id": "MuMwQWNxQhDD",
        "colab": {
          "base_uri": "https://localhost:8080/"
        },
        "outputId": "4ea462fe-691e-4eaf-9354-84e383c58af5"
      },
      "source": [
        "# 일간 평균 구하기\n",
        "df[\"Close\"].resample(\"D\").mean()"
      ],
      "execution_count": 48,
      "outputs": [
        {
          "output_type": "execute_result",
          "data": {
            "text/plain": [
              "Date\n",
              "2020-01-02    55200.0\n",
              "2020-01-03    55500.0\n",
              "2020-01-04        NaN\n",
              "2020-01-05        NaN\n",
              "2020-01-06    55500.0\n",
              "               ...   \n",
              "2020-12-26        NaN\n",
              "2020-12-27        NaN\n",
              "2020-12-28    78700.0\n",
              "2020-12-29    78300.0\n",
              "2020-12-30    81000.0\n",
              "Freq: D, Name: Close, Length: 364, dtype: float64"
            ]
          },
          "metadata": {},
          "execution_count": 48
        }
      ]
    },
    {
      "cell_type": "code",
      "metadata": {
        "id": "vP0wCl6yQhDH",
        "colab": {
          "base_uri": "https://localhost:8080/"
        },
        "outputId": "7173f3fc-de5f-4316-945a-0f4a2f05e531"
      },
      "source": [
        "# 월간 평균 구하기\n",
        "df[\"Close\"].resample(\"M\").mean()"
      ],
      "execution_count": 49,
      "outputs": [
        {
          "output_type": "execute_result",
          "data": {
            "text/plain": [
              "Date\n",
              "2020-01-31    58815.000000\n",
              "2020-02-29    59085.000000\n",
              "2020-03-31    50168.181818\n",
              "2020-04-30    49045.000000\n",
              "2020-05-31    49100.000000\n",
              "2020-06-30    52986.363636\n",
              "2020-07-31    54726.086957\n",
              "2020-08-31    56980.000000\n",
              "2020-09-30    58176.190476\n",
              "2020-10-31    59736.842105\n",
              "2020-11-30    63419.047619\n",
              "2020-12-31    73619.047619\n",
              "Freq: M, Name: Close, dtype: float64"
            ]
          },
          "metadata": {},
          "execution_count": 49
        }
      ]
    },
    {
      "cell_type": "code",
      "metadata": {
        "id": "r-jZ9SBGQhDI",
        "colab": {
          "base_uri": "https://localhost:8080/",
          "height": 309
        },
        "outputId": "98ffe3c1-a6e1-422e-ab3a-29c10a1ae0b4"
      },
      "source": [
        "# 월간 평균 시각화\n",
        "df[\"Close\"].resample(\"M\").mean().plot()"
      ],
      "execution_count": 50,
      "outputs": [
        {
          "output_type": "execute_result",
          "data": {
            "text/plain": [
              "<matplotlib.axes._subplots.AxesSubplot at 0x7f5ba804ae50>"
            ]
          },
          "metadata": {},
          "execution_count": 50
        },
        {
          "output_type": "display_data",
          "data": {
            "image/png": "[encoded data removed]",
            "text/plain": [
              "<Figure size 432x288 with 1 Axes>"
            ]
          },
          "metadata": {
            "needs_background": "light"
          }
        }
      ]
    },
    {
      "cell_type": "code",
      "metadata": {
        "id": "kwVOoIC2QhDI",
        "colab": {
          "base_uri": "https://localhost:8080/",
          "height": 309
        },
        "outputId": "fda7bac0-bfed-4e0d-9c94-83a63c7f503c"
      },
      "source": [
        "# 분기별 평균 구하기\n",
        "df[\"Close\"].resample(\"Q\").mean().plot()"
      ],
      "execution_count": 51,
      "outputs": [
        {
          "output_type": "execute_result",
          "data": {
            "text/plain": [
              "<matplotlib.axes._subplots.AxesSubplot at 0x7f5ba8030390>"
            ]
          },
          "metadata": {},
          "execution_count": 51
        },
        {
          "output_type": "display_data",
          "data": {
            "image/png": "[encoded data removed]",
            "text/plain": [
              "<Figure size 432x288 with 1 Axes>"
            ]
          },
          "metadata": {
            "needs_background": "light"
          }
        }
      ]
    },
    {
      "cell_type": "code",
      "metadata": {
        "id": "iWJgrGngQhDI",
        "colab": {
          "base_uri": "https://localhost:8080/",
          "height": 309
        },
        "outputId": "5de28222-9a31-4134-8932-65fb7eae7352"
      },
      "source": [
        "# 월별 평균 종가로 수익률 구하기\n",
        "month_change = df[\"Close\"].resample(\"M\").mean().pct_change()\n",
        "month_change.plot(figsize=(10,4))\n",
        "plt.axhline(0, c=\"k\", lw=1)"
      ],
      "execution_count": 55,
      "outputs": [
        {
          "output_type": "execute_result",
          "data": {
            "text/plain": [
              "<matplotlib.lines.Line2D at 0x7f5ba7b18a10>"
            ]
          },
          "metadata": {},
          "execution_count": 55
        },
        {
          "output_type": "display_data",
          "data": {
            "image/png": "[encoded data removed]",
            "text/plain": [
              "<Figure size 720x288 with 1 Axes>"
            ]
          },
          "metadata": {
            "needs_background": "light"
          }
        }
      ]
    }
  ]
}