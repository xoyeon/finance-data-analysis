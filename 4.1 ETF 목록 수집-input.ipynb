{
 "cells": [
  {
   "cell_type": "markdown",
   "metadata": {
    "id": "b6ZRO3Ic0jYm"
   },
   "source": [
    "[![Open In Colab](https://colab.research.google.com/assets/colab-badge.svg)](https://colab.research.google.com/github/corazzon/finance-data-analysis/blob/main/4.1%20ETF%20%EB%AA%A9%EB%A1%9D%20%EC%88%98%EC%A7%91-input.ipynb)\n",
    "\n",
    "\n",
    "## ETF란?\n",
    "* ETF(상장지수펀드)는 기초지수의 성과를 추적하는 것이 목표인 인덱스펀드로, 거래소에 상장되어 있어서 개별주식과 마찬가지로 기존의 주식계좌를 통해 거래를 할 수 있습니다. 그 구성종목과 수량 등 자산구성내역(PDF)이 투명하게 공개되어 있고, 장중에는 실시간으로 순자산가치(NAV)가 제공되어 거래에 참고하실 수 있습니다. ETF는 1좌를 거래할 수 있는 최소한의 금액만으로 분산투자 효과를 누릴 수 있어 효율적인 투자수단이며, 펀드보다 운용보수가 낮고 주식에 적용되는 거래세도 붙지 않습니다. \n",
    "    * 출처 : [ETF : 네이버 금융](https://finance.naver.com/sise/etf.nhn)\n",
    "\n",
    "\n",
    "## 크롬 브라우저의 네트워크 정보를 통한 데이터 수집\n",
    "* json 데이터 수집과 파일저장 방법\n",
    "\n",
    "* [ETF : 네이버 금융](https://finance.naver.com/sise/etf.nhn)\n",
    "\n"
   ]
  },
  {
   "cell_type": "code",
   "execution_count": 1,
   "metadata": {
    "id": "RzS961AR0jYn"
   },
   "outputs": [],
   "source": [
    "# 라이브러리를 불러옵니다.\n",
    "# 데이터 분석을 위한 pandas, 수치계산을 위한 numpy, http 요청을 위한 requests를 받아옵니다.\n",
    "import pandas as pd\n",
    "import numpy as np\n",
    "import requests"
   ]
  },
  {
   "cell_type": "code",
   "execution_count": 10,
   "metadata": {
    "id": "tNPvs5c50jYn"
   },
   "outputs": [
    {
     "data": {
      "text/plain": [
       "'https://finance.naver.com/api/sise/etfItemList.nhn'"
      ]
     },
     "execution_count": 10,
     "metadata": {},
     "output_type": "execute_result"
    }
   ],
   "source": [
    "# 수집할 url을 가져옵니다.\n",
    "url = \"https://finance.naver.com/api/sise/etfItemList.nhn\"\n",
    "url"
   ]
  },
  {
   "cell_type": "markdown",
   "metadata": {},
   "source": [
    "## Pandas를 통한 요청"
   ]
  },
  {
   "cell_type": "code",
   "execution_count": 3,
   "metadata": {},
   "outputs": [
    {
     "data": {
      "text/plain": [
       "[]"
      ]
     },
     "execution_count": 3,
     "metadata": {},
     "output_type": "execute_result"
    }
   ],
   "source": [
    "pd.read_html(url)"
   ]
  },
  {
   "cell_type": "markdown",
   "metadata": {},
   "source": [
    "## JSON \n",
    "\n",
    "<img src=\"https://upload.wikimedia.org/wikipedia/commons/thumb/c/c9/JSON_vector_logo.svg/300px-JSON_vector_logo.svg.png\" width=\"100\">\n",
    "\n",
    "JSON(제이슨, JavaScript Object Notation)은 속성-값 쌍( attribute–value pairs and array data types (or any other serializable value)) 또는 \"키-값 쌍\"으로 이루어진 데이터 오브젝트를 전달하기 위해 인간이 읽을 수 있는 텍스트를 사용하는 개방형 표준 포맷이다. 비동기 브라우저/서버 통신 (AJAX)을 위해, 넓게는 XML(AJAX가 사용)을 대체하는 주요 데이터 포맷이다. 특히, 인터넷에서 자료를 주고 받을 때 그 자료를 표현하는 방법으로 알려져 있다. 자료의 종류에 큰 제한은 없으며, 특히 컴퓨터 프로그램의 변수값을 표현하는 데 적합하다.\n",
    "본래는 자바스크립트 언어로부터 파생되어 자바스크립트의 구문 형식을 따르지만 언어 독립형 데이터 포맷이다. 즉, 프로그래밍 언어나 플랫폼에 독립적이므로, 구문 분석 및 JSON 데이터 생성을 위한 코드는 C, C++, C#, 자바, 자바스크립트, 펄, 파이썬 등 수많은 프로그래밍 언어에서 쉽게 이용할 수 있다.\n",
    "\n",
    "* 출처 : [JSON - 위키백과, 우리 모두의 백과사전](https://ko.wikipedia.org/wiki/JSON)"
   ]
  },
  {
   "cell_type": "markdown",
   "metadata": {},
   "source": [
    "## requests를 통한 HTTP 요청\n",
    "* [Requests: HTTP for Humans™ — Requests documentation](https://requests.readthedocs.io/en/master/)"
   ]
  },
  {
   "cell_type": "code",
   "execution_count": 11,
   "metadata": {
    "id": "Cuo_DDk80jYn"
   },
   "outputs": [
    {
     "data": {
      "text/plain": [
       "<Response [200]>"
      ]
     },
     "execution_count": 11,
     "metadata": {},
     "output_type": "execute_result"
    }
   ],
   "source": [
    "# requests 라이브러리를 통해 url을 받아옵니다.\n",
    "# 정상 출력 : <Response [200]>\n",
    "response = requests.get(url)\n",
    "response"
   ]
  },
  {
   "cell_type": "markdown",
   "metadata": {},
   "source": [
    "### JSON 타입으로 데이터 받기"
   ]
  },
  {
   "cell_type": "code",
   "execution_count": 12,
   "metadata": {
    "id": "BhFy-du10jYn",
    "scrolled": false
   },
   "outputs": [],
   "source": [
    "# requests 의 응답을 json 타입으로 받습니다.\n",
    "etf_json = response.json()"
   ]
  },
  {
   "cell_type": "markdown",
   "metadata": {},
   "source": [
    "### JSON 에서 원하는 데이터 찾기"
   ]
  },
  {
   "cell_type": "code",
   "execution_count": 14,
   "metadata": {
    "id": "5KX_Txxm0jYn"
   },
   "outputs": [
    {
     "data": {
      "text/plain": [
       "{'itemcode': '069500',\n",
       " 'etfTabCode': 1,\n",
       " 'itemname': 'KODEX 200',\n",
       " 'nowVal': 43005,\n",
       " 'risefall': '2',\n",
       " 'changeVal': 130,\n",
       " 'changeRate': 0.3,\n",
       " 'nav': 43027.0,\n",
       " 'threeMonthEarnRate': -0.7363,\n",
       " 'quant': 2409683,\n",
       " 'amonut': 103245,\n",
       " 'marketSum': 41672}"
      ]
     },
     "execution_count": 14,
     "metadata": {},
     "output_type": "execute_result"
    }
   ],
   "source": [
    "# result > etfItemList 의 하위 구조로 목록을 찾고자 하는 데이터를 가져옵니다.\n",
    "etfItemList = etf_json['result']['etfItemList']\n",
    "etfItemList[0]"
   ]
  },
  {
   "cell_type": "markdown",
   "metadata": {},
   "source": [
    "## 데이터프레임 변환\n",
    "### JSON 데이터를 pandas 의 데이터프레임 형태로 만들기"
   ]
  },
  {
   "cell_type": "code",
   "execution_count": 15,
   "metadata": {
    "id": "JCGehw-a0jYn"
   },
   "outputs": [
    {
     "data": {
      "text/plain": [
       "(489, 12)"
      ]
     },
     "execution_count": 15,
     "metadata": {},
     "output_type": "execute_result"
    }
   ],
   "source": [
    "# 키-값 형태의 데이터를 데이터프레임으로 만듭니다.\n",
    "df = pd.DataFrame(etfItemList)\n",
    "df.shape"
   ]
  },
  {
   "cell_type": "markdown",
   "metadata": {},
   "source": [
    "### 데이터 확인"
   ]
  },
  {
   "cell_type": "code",
   "execution_count": 17,
   "metadata": {
    "id": "H3t5Uj8-0jYn"
   },
   "outputs": [
    {
     "data": {
      "text/html": [
       "<div>\n",
       "<style scoped>\n",
       "    .dataframe tbody tr th:only-of-type {\n",
       "        vertical-align: middle;\n",
       "    }\n",
       "\n",
       "    .dataframe tbody tr th {\n",
       "        vertical-align: top;\n",
       "    }\n",
       "\n",
       "    .dataframe thead th {\n",
       "        text-align: right;\n",
       "    }\n",
       "</style>\n",
       "<table border=\"1\" class=\"dataframe\">\n",
       "  <thead>\n",
       "    <tr style=\"text-align: right;\">\n",
       "      <th></th>\n",
       "      <th>itemcode</th>\n",
       "      <th>etfTabCode</th>\n",
       "      <th>itemname</th>\n",
       "      <th>nowVal</th>\n",
       "      <th>risefall</th>\n",
       "      <th>changeVal</th>\n",
       "      <th>changeRate</th>\n",
       "      <th>nav</th>\n",
       "      <th>threeMonthEarnRate</th>\n",
       "      <th>quant</th>\n",
       "      <th>amonut</th>\n",
       "      <th>marketSum</th>\n",
       "    </tr>\n",
       "  </thead>\n",
       "  <tbody>\n",
       "    <tr>\n",
       "      <th>0</th>\n",
       "      <td>069500</td>\n",
       "      <td>1</td>\n",
       "      <td>KODEX 200</td>\n",
       "      <td>43005</td>\n",
       "      <td>2</td>\n",
       "      <td>130</td>\n",
       "      <td>0.30</td>\n",
       "      <td>43027.0</td>\n",
       "      <td>-0.7363</td>\n",
       "      <td>2409683</td>\n",
       "      <td>103245</td>\n",
       "      <td>41672</td>\n",
       "    </tr>\n",
       "    <tr>\n",
       "      <th>1</th>\n",
       "      <td>153130</td>\n",
       "      <td>6</td>\n",
       "      <td>KODEX 단기채권</td>\n",
       "      <td>102845</td>\n",
       "      <td>3</td>\n",
       "      <td>0</td>\n",
       "      <td>0.00</td>\n",
       "      <td>102846.0</td>\n",
       "      <td>0.0340</td>\n",
       "      <td>16993</td>\n",
       "      <td>1747</td>\n",
       "      <td>24206</td>\n",
       "    </tr>\n",
       "    <tr>\n",
       "      <th>2</th>\n",
       "      <td>252670</td>\n",
       "      <td>3</td>\n",
       "      <td>KODEX 200선물인버스2X</td>\n",
       "      <td>1930</td>\n",
       "      <td>5</td>\n",
       "      <td>-10</td>\n",
       "      <td>-0.52</td>\n",
       "      <td>1930.0</td>\n",
       "      <td>0.0000</td>\n",
       "      <td>208493318</td>\n",
       "      <td>404593</td>\n",
       "      <td>22070</td>\n",
       "    </tr>\n",
       "    <tr>\n",
       "      <th>3</th>\n",
       "      <td>102110</td>\n",
       "      <td>1</td>\n",
       "      <td>TIGER 200</td>\n",
       "      <td>43020</td>\n",
       "      <td>2</td>\n",
       "      <td>85</td>\n",
       "      <td>0.20</td>\n",
       "      <td>43060.0</td>\n",
       "      <td>-0.7054</td>\n",
       "      <td>917304</td>\n",
       "      <td>39354</td>\n",
       "      <td>21575</td>\n",
       "    </tr>\n",
       "    <tr>\n",
       "      <th>4</th>\n",
       "      <td>102780</td>\n",
       "      <td>2</td>\n",
       "      <td>KODEX 삼성그룹</td>\n",
       "      <td>10570</td>\n",
       "      <td>2</td>\n",
       "      <td>35</td>\n",
       "      <td>0.33</td>\n",
       "      <td>10594.0</td>\n",
       "      <td>3.2033</td>\n",
       "      <td>254361</td>\n",
       "      <td>2680</td>\n",
       "      <td>18180</td>\n",
       "    </tr>\n",
       "  </tbody>\n",
       "</table>\n",
       "</div>"
      ],
      "text/plain": [
       "  itemcode  etfTabCode          itemname  nowVal risefall  changeVal  \\\n",
       "0   069500           1         KODEX 200   43005        2        130   \n",
       "1   153130           6        KODEX 단기채권  102845        3          0   \n",
       "2   252670           3  KODEX 200선물인버스2X    1930        5        -10   \n",
       "3   102110           1         TIGER 200   43020        2         85   \n",
       "4   102780           2        KODEX 삼성그룹   10570        2         35   \n",
       "\n",
       "   changeRate       nav  threeMonthEarnRate      quant  amonut  marketSum  \n",
       "0        0.30   43027.0             -0.7363    2409683  103245      41672  \n",
       "1        0.00  102846.0              0.0340      16993    1747      24206  \n",
       "2       -0.52    1930.0              0.0000  208493318  404593      22070  \n",
       "3        0.20   43060.0             -0.7054     917304   39354      21575  \n",
       "4        0.33   10594.0              3.2033     254361    2680      18180  "
      ]
     },
     "execution_count": 17,
     "metadata": {},
     "output_type": "execute_result"
    }
   ],
   "source": [
    "# 데이터 프레임으로 잘 만들어 졌는지 상단 데이터의 일부만 미리보기 합니다.\n",
    "df.head()"
   ]
  },
  {
   "cell_type": "code",
   "execution_count": 18,
   "metadata": {
    "id": "CrEXrnVy0jYn"
   },
   "outputs": [
    {
     "data": {
      "text/html": [
       "<div>\n",
       "<style scoped>\n",
       "    .dataframe tbody tr th:only-of-type {\n",
       "        vertical-align: middle;\n",
       "    }\n",
       "\n",
       "    .dataframe tbody tr th {\n",
       "        vertical-align: top;\n",
       "    }\n",
       "\n",
       "    .dataframe thead th {\n",
       "        text-align: right;\n",
       "    }\n",
       "</style>\n",
       "<table border=\"1\" class=\"dataframe\">\n",
       "  <thead>\n",
       "    <tr style=\"text-align: right;\">\n",
       "      <th></th>\n",
       "      <th>itemcode</th>\n",
       "      <th>etfTabCode</th>\n",
       "      <th>itemname</th>\n",
       "      <th>nowVal</th>\n",
       "      <th>risefall</th>\n",
       "      <th>changeVal</th>\n",
       "      <th>changeRate</th>\n",
       "      <th>nav</th>\n",
       "      <th>threeMonthEarnRate</th>\n",
       "      <th>quant</th>\n",
       "      <th>amonut</th>\n",
       "      <th>marketSum</th>\n",
       "    </tr>\n",
       "  </thead>\n",
       "  <tbody>\n",
       "    <tr>\n",
       "      <th>484</th>\n",
       "      <td>267500</td>\n",
       "      <td>4</td>\n",
       "      <td>KBSTAR 미국장기국채선물인버스2X(합성 H)</td>\n",
       "      <td>5790</td>\n",
       "      <td>5</td>\n",
       "      <td>-60</td>\n",
       "      <td>-1.03</td>\n",
       "      <td>NaN</td>\n",
       "      <td>-11.8976</td>\n",
       "      <td>6161</td>\n",
       "      <td>35</td>\n",
       "      <td>26</td>\n",
       "    </tr>\n",
       "    <tr>\n",
       "      <th>485</th>\n",
       "      <td>287330</td>\n",
       "      <td>2</td>\n",
       "      <td>KBSTAR 200생활소비재</td>\n",
       "      <td>8880</td>\n",
       "      <td>2</td>\n",
       "      <td>30</td>\n",
       "      <td>0.34</td>\n",
       "      <td>8890.0</td>\n",
       "      <td>-1.7213</td>\n",
       "      <td>2235</td>\n",
       "      <td>19</td>\n",
       "      <td>21</td>\n",
       "    </tr>\n",
       "    <tr>\n",
       "      <th>486</th>\n",
       "      <td>334700</td>\n",
       "      <td>5</td>\n",
       "      <td>KBSTAR 팔라듐선물인버스(H)</td>\n",
       "      <td>4545</td>\n",
       "      <td>2</td>\n",
       "      <td>75</td>\n",
       "      <td>1.68</td>\n",
       "      <td>NaN</td>\n",
       "      <td>5.1764</td>\n",
       "      <td>1855</td>\n",
       "      <td>8</td>\n",
       "      <td>18</td>\n",
       "    </tr>\n",
       "    <tr>\n",
       "      <th>487</th>\n",
       "      <td>287310</td>\n",
       "      <td>2</td>\n",
       "      <td>KBSTAR 200경기소비재</td>\n",
       "      <td>11835</td>\n",
       "      <td>5</td>\n",
       "      <td>-80</td>\n",
       "      <td>-0.67</td>\n",
       "      <td>11871.0</td>\n",
       "      <td>3.1691</td>\n",
       "      <td>323</td>\n",
       "      <td>3</td>\n",
       "      <td>17</td>\n",
       "    </tr>\n",
       "    <tr>\n",
       "      <th>488</th>\n",
       "      <td>287320</td>\n",
       "      <td>2</td>\n",
       "      <td>KBSTAR 200산업재</td>\n",
       "      <td>13370</td>\n",
       "      <td>2</td>\n",
       "      <td>30</td>\n",
       "      <td>0.22</td>\n",
       "      <td>13371.0</td>\n",
       "      <td>9.1653</td>\n",
       "      <td>3382</td>\n",
       "      <td>45</td>\n",
       "      <td>16</td>\n",
       "    </tr>\n",
       "  </tbody>\n",
       "</table>\n",
       "</div>"
      ],
      "text/plain": [
       "    itemcode  etfTabCode                    itemname  nowVal risefall  \\\n",
       "484   267500           4  KBSTAR 미국장기국채선물인버스2X(합성 H)    5790        5   \n",
       "485   287330           2             KBSTAR 200생활소비재    8880        2   \n",
       "486   334700           5          KBSTAR 팔라듐선물인버스(H)    4545        2   \n",
       "487   287310           2             KBSTAR 200경기소비재   11835        5   \n",
       "488   287320           2               KBSTAR 200산업재   13370        2   \n",
       "\n",
       "     changeVal  changeRate      nav  threeMonthEarnRate  quant  amonut  \\\n",
       "484        -60       -1.03      NaN            -11.8976   6161      35   \n",
       "485         30        0.34   8890.0             -1.7213   2235      19   \n",
       "486         75        1.68      NaN              5.1764   1855       8   \n",
       "487        -80       -0.67  11871.0              3.1691    323       3   \n",
       "488         30        0.22  13371.0              9.1653   3382      45   \n",
       "\n",
       "     marketSum  \n",
       "484         26  \n",
       "485         21  \n",
       "486         18  \n",
       "487         17  \n",
       "488         16  "
      ]
     },
     "execution_count": 18,
     "metadata": {},
     "output_type": "execute_result"
    }
   ],
   "source": [
    "# 데이터 프레임으로 잘 만들어 졌는지 하단 데이터의 일부만 미리보기 합니다.\n",
    "df.tail()"
   ]
  },
  {
   "cell_type": "markdown",
   "metadata": {},
   "source": [
    "## 파일 저장\n",
    "### 파일명 만들기"
   ]
  },
  {
   "cell_type": "code",
   "execution_count": 20,
   "metadata": {
    "id": "WZTFTe620jYn"
   },
   "outputs": [
    {
     "data": {
      "text/plain": [
       "'21-07-28'"
      ]
     },
     "execution_count": 20,
     "metadata": {},
     "output_type": "execute_result"
    }
   ],
   "source": [
    "# 파이썬 표준라이브러리인 datetime을 불러옵니다.\n",
    "# 날짜를 만들어 저장하기 위해 오늘 날짜를 구합니다.\n",
    "import datetime\n",
    "today = datetime.datetime.today().strftime(\"%y-%m-%d\")\n",
    "today"
   ]
  },
  {
   "cell_type": "code",
   "execution_count": 22,
   "metadata": {
    "id": "dWw88foz0jYn",
    "scrolled": true
   },
   "outputs": [
    {
     "data": {
      "text/plain": [
       "'etf_21-07-28_raw.csv'"
      ]
     },
     "execution_count": 22,
     "metadata": {},
     "output_type": "execute_result"
    }
   ],
   "source": [
    "# f-string 방식으로 파일명을 만들어 줍니다.\n",
    "# eft_날짜_raw.csv 형태로 만듭니다.\n",
    "# file_name\n",
    "file_name = f\"etf_{today}_raw.csv\"\n",
    "file_name"
   ]
  },
  {
   "cell_type": "markdown",
   "metadata": {},
   "source": [
    "### 파일로 저장하고 불러오기"
   ]
  },
  {
   "cell_type": "code",
   "execution_count": 23,
   "metadata": {
    "id": "L8WaFl6d0jYn"
   },
   "outputs": [],
   "source": [
    "# csv 형태로 저장합니다. index 가 저장되지 않도록 합니다.\n",
    "df.to_csv(file_name, index=False)"
   ]
  },
  {
   "cell_type": "code",
   "execution_count": 25,
   "metadata": {
    "id": "2Vi0tnZL0jYn"
   },
   "outputs": [
    {
     "name": "stderr",
     "output_type": "stream",
     "text": [
      "<ipython-input-25-665a4fb0024e>:3: DeprecationWarning: `np.object` is a deprecated alias for the builtin `object`. To silence this warning, use `object` by itself. Doing this will not modify any behavior and is safe. \n",
      "Deprecated in NumPy 1.20; for more details and guidance: https://numpy.org/devdocs/release/1.20.0-notes.html#deprecations\n",
      "  pd.read_csv(file_name, dtype={\"itemcode\": np.object})\n"
     ]
    },
    {
     "data": {
      "text/html": [
       "<div>\n",
       "<style scoped>\n",
       "    .dataframe tbody tr th:only-of-type {\n",
       "        vertical-align: middle;\n",
       "    }\n",
       "\n",
       "    .dataframe tbody tr th {\n",
       "        vertical-align: top;\n",
       "    }\n",
       "\n",
       "    .dataframe thead th {\n",
       "        text-align: right;\n",
       "    }\n",
       "</style>\n",
       "<table border=\"1\" class=\"dataframe\">\n",
       "  <thead>\n",
       "    <tr style=\"text-align: right;\">\n",
       "      <th></th>\n",
       "      <th>itemcode</th>\n",
       "      <th>etfTabCode</th>\n",
       "      <th>itemname</th>\n",
       "      <th>nowVal</th>\n",
       "      <th>risefall</th>\n",
       "      <th>changeVal</th>\n",
       "      <th>changeRate</th>\n",
       "      <th>nav</th>\n",
       "      <th>threeMonthEarnRate</th>\n",
       "      <th>quant</th>\n",
       "      <th>amonut</th>\n",
       "      <th>marketSum</th>\n",
       "    </tr>\n",
       "  </thead>\n",
       "  <tbody>\n",
       "    <tr>\n",
       "      <th>0</th>\n",
       "      <td>069500</td>\n",
       "      <td>1</td>\n",
       "      <td>KODEX 200</td>\n",
       "      <td>43005</td>\n",
       "      <td>2</td>\n",
       "      <td>130</td>\n",
       "      <td>0.30</td>\n",
       "      <td>43027.0</td>\n",
       "      <td>-0.7363</td>\n",
       "      <td>2409683</td>\n",
       "      <td>103245</td>\n",
       "      <td>41672</td>\n",
       "    </tr>\n",
       "    <tr>\n",
       "      <th>1</th>\n",
       "      <td>153130</td>\n",
       "      <td>6</td>\n",
       "      <td>KODEX 단기채권</td>\n",
       "      <td>102845</td>\n",
       "      <td>3</td>\n",
       "      <td>0</td>\n",
       "      <td>0.00</td>\n",
       "      <td>102846.0</td>\n",
       "      <td>0.0340</td>\n",
       "      <td>16993</td>\n",
       "      <td>1747</td>\n",
       "      <td>24206</td>\n",
       "    </tr>\n",
       "    <tr>\n",
       "      <th>2</th>\n",
       "      <td>252670</td>\n",
       "      <td>3</td>\n",
       "      <td>KODEX 200선물인버스2X</td>\n",
       "      <td>1930</td>\n",
       "      <td>5</td>\n",
       "      <td>-10</td>\n",
       "      <td>-0.52</td>\n",
       "      <td>1930.0</td>\n",
       "      <td>0.0000</td>\n",
       "      <td>208493318</td>\n",
       "      <td>404593</td>\n",
       "      <td>22070</td>\n",
       "    </tr>\n",
       "    <tr>\n",
       "      <th>3</th>\n",
       "      <td>102110</td>\n",
       "      <td>1</td>\n",
       "      <td>TIGER 200</td>\n",
       "      <td>43020</td>\n",
       "      <td>2</td>\n",
       "      <td>85</td>\n",
       "      <td>0.20</td>\n",
       "      <td>43060.0</td>\n",
       "      <td>-0.7054</td>\n",
       "      <td>917304</td>\n",
       "      <td>39354</td>\n",
       "      <td>21575</td>\n",
       "    </tr>\n",
       "    <tr>\n",
       "      <th>4</th>\n",
       "      <td>102780</td>\n",
       "      <td>2</td>\n",
       "      <td>KODEX 삼성그룹</td>\n",
       "      <td>10570</td>\n",
       "      <td>2</td>\n",
       "      <td>35</td>\n",
       "      <td>0.33</td>\n",
       "      <td>10594.0</td>\n",
       "      <td>3.2033</td>\n",
       "      <td>254361</td>\n",
       "      <td>2680</td>\n",
       "      <td>18180</td>\n",
       "    </tr>\n",
       "    <tr>\n",
       "      <th>...</th>\n",
       "      <td>...</td>\n",
       "      <td>...</td>\n",
       "      <td>...</td>\n",
       "      <td>...</td>\n",
       "      <td>...</td>\n",
       "      <td>...</td>\n",
       "      <td>...</td>\n",
       "      <td>...</td>\n",
       "      <td>...</td>\n",
       "      <td>...</td>\n",
       "      <td>...</td>\n",
       "      <td>...</td>\n",
       "    </tr>\n",
       "    <tr>\n",
       "      <th>484</th>\n",
       "      <td>267500</td>\n",
       "      <td>4</td>\n",
       "      <td>KBSTAR 미국장기국채선물인버스2X(합성 H)</td>\n",
       "      <td>5790</td>\n",
       "      <td>5</td>\n",
       "      <td>-60</td>\n",
       "      <td>-1.03</td>\n",
       "      <td>NaN</td>\n",
       "      <td>-11.8976</td>\n",
       "      <td>6161</td>\n",
       "      <td>35</td>\n",
       "      <td>26</td>\n",
       "    </tr>\n",
       "    <tr>\n",
       "      <th>485</th>\n",
       "      <td>287330</td>\n",
       "      <td>2</td>\n",
       "      <td>KBSTAR 200생활소비재</td>\n",
       "      <td>8880</td>\n",
       "      <td>2</td>\n",
       "      <td>30</td>\n",
       "      <td>0.34</td>\n",
       "      <td>8890.0</td>\n",
       "      <td>-1.7213</td>\n",
       "      <td>2235</td>\n",
       "      <td>19</td>\n",
       "      <td>21</td>\n",
       "    </tr>\n",
       "    <tr>\n",
       "      <th>486</th>\n",
       "      <td>334700</td>\n",
       "      <td>5</td>\n",
       "      <td>KBSTAR 팔라듐선물인버스(H)</td>\n",
       "      <td>4545</td>\n",
       "      <td>2</td>\n",
       "      <td>75</td>\n",
       "      <td>1.68</td>\n",
       "      <td>NaN</td>\n",
       "      <td>5.1764</td>\n",
       "      <td>1855</td>\n",
       "      <td>8</td>\n",
       "      <td>18</td>\n",
       "    </tr>\n",
       "    <tr>\n",
       "      <th>487</th>\n",
       "      <td>287310</td>\n",
       "      <td>2</td>\n",
       "      <td>KBSTAR 200경기소비재</td>\n",
       "      <td>11835</td>\n",
       "      <td>5</td>\n",
       "      <td>-80</td>\n",
       "      <td>-0.67</td>\n",
       "      <td>11871.0</td>\n",
       "      <td>3.1691</td>\n",
       "      <td>323</td>\n",
       "      <td>3</td>\n",
       "      <td>17</td>\n",
       "    </tr>\n",
       "    <tr>\n",
       "      <th>488</th>\n",
       "      <td>287320</td>\n",
       "      <td>2</td>\n",
       "      <td>KBSTAR 200산업재</td>\n",
       "      <td>13370</td>\n",
       "      <td>2</td>\n",
       "      <td>30</td>\n",
       "      <td>0.22</td>\n",
       "      <td>13371.0</td>\n",
       "      <td>9.1653</td>\n",
       "      <td>3382</td>\n",
       "      <td>45</td>\n",
       "      <td>16</td>\n",
       "    </tr>\n",
       "  </tbody>\n",
       "</table>\n",
       "<p>489 rows × 12 columns</p>\n",
       "</div>"
      ],
      "text/plain": [
       "    itemcode  etfTabCode                    itemname  nowVal  risefall  \\\n",
       "0     069500           1                   KODEX 200   43005         2   \n",
       "1     153130           6                  KODEX 단기채권  102845         3   \n",
       "2     252670           3            KODEX 200선물인버스2X    1930         5   \n",
       "3     102110           1                   TIGER 200   43020         2   \n",
       "4     102780           2                  KODEX 삼성그룹   10570         2   \n",
       "..       ...         ...                         ...     ...       ...   \n",
       "484   267500           4  KBSTAR 미국장기국채선물인버스2X(합성 H)    5790         5   \n",
       "485   287330           2             KBSTAR 200생활소비재    8880         2   \n",
       "486   334700           5          KBSTAR 팔라듐선물인버스(H)    4545         2   \n",
       "487   287310           2             KBSTAR 200경기소비재   11835         5   \n",
       "488   287320           2               KBSTAR 200산업재   13370         2   \n",
       "\n",
       "     changeVal  changeRate       nav  threeMonthEarnRate      quant  amonut  \\\n",
       "0          130        0.30   43027.0             -0.7363    2409683  103245   \n",
       "1            0        0.00  102846.0              0.0340      16993    1747   \n",
       "2          -10       -0.52    1930.0              0.0000  208493318  404593   \n",
       "3           85        0.20   43060.0             -0.7054     917304   39354   \n",
       "4           35        0.33   10594.0              3.2033     254361    2680   \n",
       "..         ...         ...       ...                 ...        ...     ...   \n",
       "484        -60       -1.03       NaN            -11.8976       6161      35   \n",
       "485         30        0.34    8890.0             -1.7213       2235      19   \n",
       "486         75        1.68       NaN              5.1764       1855       8   \n",
       "487        -80       -0.67   11871.0              3.1691        323       3   \n",
       "488         30        0.22   13371.0              9.1653       3382      45   \n",
       "\n",
       "     marketSum  \n",
       "0        41672  \n",
       "1        24206  \n",
       "2        22070  \n",
       "3        21575  \n",
       "4        18180  \n",
       "..         ...  \n",
       "484         26  \n",
       "485         21  \n",
       "486         18  \n",
       "487         17  \n",
       "488         16  \n",
       "\n",
       "[489 rows x 12 columns]"
      ]
     },
     "execution_count": 25,
     "metadata": {},
     "output_type": "execute_result"
    }
   ],
   "source": [
    "# 저장된 csv 파일을 읽어옵니다.\n",
    "# itemcode 숫자 앞의 0 이 지워진다면 dtype={\"itemcode\": np.object} 로 타입을 지정해 주면 문자형태로 읽어옵니다.\n",
    "pd.read_csv(file_name, dtype={\"itemcode\": np.object})"
   ]
  },
  {
   "cell_type": "code",
   "execution_count": null,
   "metadata": {
    "id": "0VX-NE4e0jYn"
   },
   "outputs": [],
   "source": []
  },
  {
   "cell_type": "code",
   "execution_count": null,
   "metadata": {},
   "outputs": [],
   "source": []
  }
 ],
 "metadata": {
  "colab": {
   "collapsed_sections": [],
   "name": "7. naver_etf.ipynb",
   "provenance": [],
   "toc_visible": true
  },
  "kernelspec": {
   "display_name": "Python 3",
   "language": "python",
   "name": "python3"
  },
  "language_info": {
   "codemirror_mode": {
    "name": "ipython",
    "version": 3
   },
   "file_extension": ".py",
   "mimetype": "text/x-python",
   "name": "python",
   "nbconvert_exporter": "python",
   "pygments_lexer": "ipython3",
   "version": "3.8.8"
  },
  "toc": {
   "base_numbering": 1,
   "nav_menu": {},
   "number_sections": true,
   "sideBar": true,
   "skip_h1_title": false,
   "title_cell": "Table of Contents",
   "title_sidebar": "Contents",
   "toc_cell": false,
   "toc_position": {
    "height": "calc(100% - 180px)",
    "left": "10px",
    "top": "150px",
    "width": "204.8px"
   },
   "toc_section_display": true,
   "toc_window_display": true
  },
  "varInspector": {
   "cols": {
    "lenName": 16,
    "lenType": 16,
    "lenVar": 40
   },
   "kernels_config": {
    "python": {
     "delete_cmd_postfix": "",
     "delete_cmd_prefix": "del ",
     "library": "var_list.py",
     "varRefreshCmd": "print(var_dic_list())"
    },
    "r": {
     "delete_cmd_postfix": ") ",
     "delete_cmd_prefix": "rm(",
     "library": "var_list.r",
     "varRefreshCmd": "cat(var_dic_list()) "
    }
   },
   "types_to_exclude": [
    "module",
    "function",
    "builtin_function_or_method",
    "instance",
    "_Feature"
   ],
   "window_display": false
  }
 },
 "nbformat": 4,
 "nbformat_minor": 1
}
