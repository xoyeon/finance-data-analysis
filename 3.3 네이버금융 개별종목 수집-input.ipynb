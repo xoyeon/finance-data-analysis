{
 "cells": [
  {
   "cell_type": "markdown",
   "metadata": {
    "id": "pOdYzjmEAGhg"
   },
   "source": [
    "[![Open In Colab](https://colab.research.google.com/assets/colab-badge.svg)](https://colab.research.google.com/github/corazzon/finance-data-analysis/blob/main/3.3%20%EB%84%A4%EC%9D%B4%EB%B2%84%EA%B8%88%EC%9C%B5%20%EA%B0%9C%EB%B3%84%EC%A2%85%EB%AA%A9%20%EC%88%98%EC%A7%91-input.ipynb)\n",
    "\n",
    "\n",
    "## 네이버 금융 개별종목 수집\n",
    "* FinanceDataReader를 통해 수집했던 데이터를 네이버 증권 웹 페이지를 통해 직접 수집합니다.\n",
    "\n",
    "\n",
    "### Keyword\n",
    "\n",
    "* html 파일 읽어오기\n",
    "    * pd.read_html(url, encoding=\"cp949\")\n",
    "\n",
    "* 결측 데이터 제거하기(axis 0:행, 1:열)\n",
    "    * table[0].dropna()\n",
    "\n",
    "* 데이터 프레임 합치기\n",
    "    * pd.concat([df1, df2, df3])\n",
    "\n",
    "* 중복데이터 제거\n",
    "    * df.drop_duplicates()\n",
    "\n",
    "* 과학적 기수법\n",
    "    * 1.210000e+02 => 121\n",
    "\n",
    "* 날짜 column의 첫 row값 확인\n",
    "    * date = df.iloc[0][\"날짜\"]\n",
    "\n",
    "* 파일로 저장하기 \n",
    "    * df.to_csv(file_name, index=False)\n",
    "\n",
    "* 파일 읽어오기\n",
    "    * pd.read_csv(file_name)"
   ]
  },
  {
   "cell_type": "markdown",
   "metadata": {
    "id": "-lIn4AdJTMkA"
   },
   "source": [
    "## 수집할 페이지 보기\n",
    "\n",
    "* 네이버 금융 국내증시 : https://finance.naver.com/sise/\n",
    "* 2020년 주요 상장종목\n",
    "    * 빅히트 : https://finance.naver.com/item/main.nhn?code=352820\n",
    "    * 카카오게임즈 : https://finance.naver.com/item/main.nhn?code=293490\n",
    "    * SK바이오팜 : https://finance.naver.com/item/main.nhn?code=326030"
   ]
  },
  {
   "cell_type": "markdown",
   "metadata": {},
   "source": [
    "## 라이브러리 로드"
   ]
  },
  {
   "cell_type": "code",
   "execution_count": 64,
   "metadata": {
    "id": "6Mm8vuymTMkA"
   },
   "outputs": [],
   "source": [
    "# 라이브러리 로드\n",
    "import pandas as pd\n",
    "import numpy as np"
   ]
  },
  {
   "cell_type": "markdown",
   "metadata": {},
   "source": [
    "## 수집할 URL 정하기"
   ]
  },
  {
   "cell_type": "code",
   "execution_count": 65,
   "metadata": {
    "id": "QzZJoAvoTMkA"
   },
   "outputs": [],
   "source": [
    "# 종목번호와 상장사 이름을 item_code와 item_name으로 설정\n",
    "# item_code = \"352820\"\n",
    "# item_name = \"하이브\"\n",
    "\n",
    "item_code = \"326030\"\n",
    "item_name = \"SK바이오팜\"\n",
    "\n",
    "# 종목 URL 만들기\n",
    "# url = \"https://finance.naver.com/item/sise.nhn?code=005930\"\n",
    "url = \"https://finance.naver.com/item/sise_day.nhn?code=005930&page=10\""
   ]
  },
  {
   "cell_type": "markdown",
   "metadata": {},
   "source": [
    "## requests를 통한 HTTP 요청\n",
    "* [Requests: HTTP for Humans™ — Requests documentation](https://requests.readthedocs.io/en/master/)\n",
    "* [Quickstart — Requests documentation # custom-headers](https://requests.readthedocs.io/en/latest/user/quickstart/#custom-headers)"
   ]
  },
  {
   "cell_type": "code",
   "execution_count": 66,
   "metadata": {},
   "outputs": [
    {
     "data": {
      "text/plain": [
       "'2.25.1'"
      ]
     },
     "execution_count": 66,
     "metadata": {},
     "output_type": "execute_result"
    }
   ],
   "source": [
    "import requests\n",
    "requests.__version__"
   ]
  },
  {
   "cell_type": "code",
   "execution_count": 67,
   "metadata": {},
   "outputs": [
    {
     "name": "stdout",
     "output_type": "stream",
     "text": [
      "<class 'dict'>\n"
     ]
    },
    {
     "data": {
      "text/plain": [
       "{'user-agent': 'Mozilla/5.0 (Windows NT 10.0; Win64; x64) AppleWebKit/537.36 (KHTML, like Gecko) Chrome/92.0.4515.107 Safari/537.36'}"
      ]
     },
     "execution_count": 67,
     "metadata": {},
     "output_type": "execute_result"
    }
   ],
   "source": [
    "headers = {\"user-agent\": \"Mozilla/5.0 (Windows NT 10.0; Win64; x64) AppleWebKit/537.36 (KHTML, like Gecko) Chrome/92.0.4515.107 Safari/537.36\"}\n",
    "print(type(headers))\n",
    "headers"
   ]
  },
  {
   "cell_type": "code",
   "execution_count": 68,
   "metadata": {
    "scrolled": true
   },
   "outputs": [
    {
     "data": {
      "text/plain": [
       "'\\n<html lang=\"ko\">\\n<head>\\n<meta http-equiv=\"Content-Type\" content=\"text/html; charset=euc-kr\">\\n<title>네이버 금융</title>\\n\\n<link rel=\"stylesheet\" type=\"text/css\" href=\"https://ssl.pstatic.net/imgstock/static.pc/20210721200146/css/newstock.css\">\\n<link rel=\"stylesheet\" type=\"text/css\" href=\"https://ssl.pstatic.net/imgstock/static.pc/20210721200146/css/common.css\">\\n<link rel=\"stylesheet\" type=\"text/css\" href=\"https://ssl.pstatic.net/imgstock/static.pc/20210721200146/css/layout.css\">\\n<link rel=\"stylesheet\" type=\"text/css\" href=\"https://ssl.pstatic.net/imgstock/static.pc/20210721200146/css/main.css\">\\n<link rel=\"stylesheet\" type=\"text/css\" href=\"https://ssl.pstatic.net/imgstock/static.pc/20210721200146/css/newstock2.css\">\\n<link rel=\"stylesheet\" type=\"text/css\" href=\"https://ssl.pstatic.net/imgstock/static.pc/20210721200146/css/newstock3.css\">\\n<link rel=\"stylesheet\" type=\"text/css\" href=\"https://ssl.pstatic.net/imgstock/static.pc/20210721200146/css/world.css\">\\n</head>\\n<body>\\n<script language=\"JavaScript\">\\nfunction mouseOver(obj){\\n  obj.style.backgroundColor=\"#f6f4e5\";\\n}\\nfunction mouseOut(obj){\\n  obj.style.backgroundColor=\"#ffffff\";\\n}\\n</script>\\n\\t\\t\\t\\t<h4 class=\"tlline2\"><strong><span class=\"red03\">일별</span>시세</strong></h4>\\t\\t\\t\\n\\t\\t\\t\\t<table cellspacing=\"0\" class=\"type2\">\\n\\t\\t\\t\\t<tr>\\n\\t\\t\\t\\t<th>날짜</th>\\n\\t\\t\\t\\t<th>종가</th>\\n\\t\\t\\t\\t<th>전일비</th>\\n\\t\\t\\t\\t<th>시가</th>\\n\\t\\t\\t\\t<th>고가</th>\\n\\t\\t\\t\\t<th>저가</th>\\n\\t\\t\\t\\t<th>거래량</th>\\n\\t\\t\\t\\t</tr>\\n\\t\\t\\t\\t<tr>\\n\\t\\t\\t\\t<td colspan=\"7\" height=\"8\"></td>\\n\\t\\t\\t\\t</tr>\\n\\n\\n\\t\\n\\t\\n\\t\\n\\t\\t\\n\\t\\t\\t\\n\\t\\t\\t\\t\\n\\t\\t\\t\\t\\t<tr onMouseOver=\"mouseOver(this)\" onMouseOut=\"mouseOut(this)\">\\n\\t\\t\\t\\t\\t<td align=\"center\"><span class=\"tah p10 gray03\">2021.03.22</span></td>\\n\\t\\t\\t\\t\\t<td class=\"num\"><span class=\"tah p11\">82,000</span></td>\\n\\t\\t\\t\\t\\t<td class=\"num\">\\n\\t\\t\\t\\t<img src=\"https://ssl.pstatic.net/imgstock/images/images4/ico_up.gif\" width=\"7\" height=\"6\" style=\"margin-right:4px;\" alt=\"상승\"><span class=\"tah p11 red02\">\\n\\t\\t\\t\\t100\\n\\t\\t\\t\\t</span>\\n\\t\\t\\t</td>\\n\\t\\t\\t\\t\\t<td class=\"num\"><span class=\"tah p11\">82,000</span></td>\\n\\t\\t\\t\\t\\t<td class=\"num\"><span class=\"tah p11\">82,300</span></td>\\n\\t\\t\\t\\t\\t<td class=\"num\"><span class=\"tah p11\">81,700</span></td>\\n\\t\\t\\t\\t\\t<td class=\"num\"><span class=\"tah p11\">12,670,506</span></td>\\n\\t\\t\\t\\t\\t</tr>\\n\\t\\t\\t\\t\\n\\t\\t\\t\\t\\n\\t\\t\\t\\n\\t\\t\\t\\n\\t\\t\\t\\n\\t\\t\\t\\n\\t\\t\\t\\n\\t\\n\\t\\t\\n\\t\\t\\t\\n\\t\\t\\t\\t\\n\\t\\t\\t\\t\\t<tr onMouseOver=\"mouseOver(this)\" onMouseOut=\"mouseOut(this)\">\\n\\t\\t\\t\\t\\t<td align=\"center\"><span class=\"tah p10 gray03\">2021.03.19</span></td>\\n\\t\\t\\t\\t\\t<td class=\"num\"><span class=\"tah p11\">81,900</span></td>\\n\\t\\t\\t\\t\\t<td class=\"num\">\\n\\t\\t\\t\\t<img src=\"https://ssl.pstatic.net/imgstock/images/images4/ico_down.gif\" width=\"7\" height=\"6\" style=\"margin-right:4px;\" alt=\"하락\"><span class=\"tah p11 nv01\">\\n\\t\\t\\t\\t1,000\\n\\t\\t\\t\\t</span>\\n\\t\\t\\t</td>\\n\\t\\t\\t\\t\\t<td class=\"num\"><span class=\"tah p11\">82,100</span></td>\\n\\t\\t\\t\\t\\t<td class=\"num\"><span class=\"tah p11\">82,500</span></td>\\n\\t\\t\\t\\t\\t<td class=\"num\"><span class=\"tah p11\">81,800</span></td>\\n\\t\\t\\t\\t\\t<td class=\"num\"><span class=\"tah p11\">15,869,700</span></td>\\n\\t\\t\\t\\t\\t</tr>\\n\\t\\t\\t\\t\\n\\t\\t\\t\\t\\n\\t\\t\\t\\n\\t\\t\\t\\n\\t\\t\\t\\n\\t\\t\\t\\n\\t\\t\\t\\n\\t\\n\\t\\t\\n\\t\\t\\t\\n\\t\\t\\t\\t\\n\\t\\t\\t\\t\\t<tr onMouseOver=\"mouseOver(this)\" onMouseOut=\"mouseOut(this)\">\\n\\t\\t\\t\\t\\t<td align=\"center\"><span class=\"tah p10 gray03\">2021.03.18</span></td>\\n\\t\\t\\t\\t\\t<td class=\"num\"><span class=\"tah p11\">82,900</span></td>\\n\\t\\t\\t\\t\\t<td class=\"num\">\\n\\t\\t\\t\\t<img src=\"https://ssl.pstatic.net/imgstock/images/images4/ico_up.gif\" width=\"7\" height=\"6\" style=\"margin-right:4px;\" alt=\"상승\"><span class=\"tah p11 red02\">\\n\\t\\t\\t\\t600\\n\\t\\t\\t\\t</span>\\n\\t\\t\\t</td>\\n\\t\\t\\t\\t\\t<td class=\"num\"><span class=\"tah p11\">82,800</span></td>\\n\\t\\t\\t\\t\\t<td class=\"num\"><span class=\"tah p11\">83,800</span></td>\\n\\t\\t\\t\\t\\t<td class=\"num\"><span class=\"tah p11\">82,600</span></td>\\n\\t\\t\\t\\t\\t<td class=\"num\"><span class=\"tah p11\">18,585,244</span></td>\\n\\t\\t\\t\\t\\t</tr>\\n\\t\\t\\t\\t\\n\\t\\t\\t\\t\\n\\t\\t\\t\\n\\t\\t\\t\\n\\t\\t\\t\\n\\t\\t\\t\\n\\t\\t\\t\\n\\t\\n\\t\\t\\n\\t\\t\\t\\n\\t\\t\\t\\t\\n\\t\\t\\t\\t\\t<tr onMouseOver=\"mouseOver(this)\" onMouseOut=\"mouseOut(this)\">\\n\\t\\t\\t\\t\\t<td align=\"center\"><span class=\"tah p10 gray03\">2021.03.17</span></td>\\n\\t\\t\\t\\t\\t<td class=\"num\"><span class=\"tah p11\">82,300</span></td>\\n\\t\\t\\t\\t\\t<td class=\"num\">\\n\\t\\t\\t\\t<img src=\"https://ssl.pstatic.net/imgstock/images/images4/ico_down.gif\" width=\"7\" height=\"6\" style=\"margin-right:4px;\" alt=\"하락\"><span class=\"tah p11 nv01\">\\n\\t\\t\\t\\t500\\n\\t\\t\\t\\t</span>\\n\\t\\t\\t</td>\\n\\t\\t\\t\\t\\t<td class=\"num\"><span class=\"tah p11\">82,800</span></td>\\n\\t\\t\\t\\t\\t<td class=\"num\"><span class=\"tah p11\">82,900</span></td>\\n\\t\\t\\t\\t\\t<td class=\"num\"><span class=\"tah p11\">82,000</span></td>\\n\\t\\t\\t\\t\\t<td class=\"num\"><span class=\"tah p11\">11,625,146</span></td>\\n\\t\\t\\t\\t\\t</tr>\\n\\t\\t\\t\\t\\n\\t\\t\\t\\t\\n\\t\\t\\t\\n\\t\\t\\t\\n\\t\\t\\t\\n\\t\\t\\t\\n\\t\\t\\t\\n\\t\\n\\t\\t\\n\\t\\t\\t\\n\\t\\t\\t\\t\\n\\t\\t\\t\\t\\t<tr onMouseOver=\"mouseOver(this)\" onMouseOut=\"mouseOut(this)\">\\n\\t\\t\\t\\t\\t<td align=\"center\"><span class=\"tah p10 gray03\">2021.03.16</span></td>\\n\\t\\t\\t\\t\\t<td class=\"num\"><span class=\"tah p11\">82,800</span></td>\\n\\t\\t\\t\\t\\t<td class=\"num\">\\n\\t\\t\\t\\t<img src=\"https://ssl.pstatic.net/imgstock/images/images4/ico_up.gif\" width=\"7\" height=\"6\" style=\"margin-right:4px;\" alt=\"상승\"><span class=\"tah p11 red02\">\\n\\t\\t\\t\\t1,000\\n\\t\\t\\t\\t</span>\\n\\t\\t\\t</td>\\n\\t\\t\\t\\t\\t<td class=\"num\"><span class=\"tah p11\">82,200</span></td>\\n\\t\\t\\t\\t\\t<td class=\"num\"><span class=\"tah p11\">83,000</span></td>\\n\\t\\t\\t\\t\\t<td class=\"num\"><span class=\"tah p11\">82,100</span></td>\\n\\t\\t\\t\\t\\t<td class=\"num\"><span class=\"tah p11\">12,293,537</span></td>\\n\\t\\t\\t\\t\\t</tr>\\n\\t\\t\\t\\t\\n\\t\\t\\t\\t\\n\\t\\t\\t\\n\\t\\t\\t\\n\\t\\t\\t\\n\\t\\t\\t\\n\\t\\t\\t\\t<tr>\\n\\t\\t\\t\\t<td colspan=\"7\" height=\"8\"></td>\\n\\t\\t\\t\\t</tr>\\n\\t\\t\\t\\t<tr>\\n\\t\\t\\t\\t<td colspan=\"7\" height=\"1\" bgcolor=\"#e1e1e1\"></td>\\n\\t\\t\\t\\t</tr>\\n\\t\\t\\t\\t<tr>\\n\\t\\t\\t\\t<td colspan=\"7\" height=\"8\"></td>\\n\\t\\t\\t\\t</tr>\\n\\t\\t\\t\\n\\t\\t\\t\\n\\t\\n\\t\\t\\n\\t\\t\\t\\n\\t\\t\\t\\t\\n\\t\\t\\t\\t\\t<tr onMouseOver=\"mouseOver(this)\" onMouseOut=\"mouseOut(this)\">\\n\\t\\t\\t\\t\\t<td align=\"center\"><span class=\"tah p10 gray03\">2021.03.15</span></td>\\n\\t\\t\\t\\t\\t<td class=\"num\"><span class=\"tah p11\">81,800</span></td>\\n\\t\\t\\t\\t\\t<td class=\"num\">\\n\\t\\t\\t\\t<img src=\"https://ssl.pstatic.net/imgstock/images/images4/ico_down.gif\" width=\"7\" height=\"6\" style=\"margin-right:4px;\" alt=\"하락\"><span class=\"tah p11 nv01\">\\n\\t\\t\\t\\t1,000\\n\\t\\t\\t\\t</span>\\n\\t\\t\\t</td>\\n\\t\\t\\t\\t\\t<td class=\"num\"><span class=\"tah p11\">82,800</span></td>\\n\\t\\t\\t\\t\\t<td class=\"num\"><span class=\"tah p11\">82,900</span></td>\\n\\t\\t\\t\\t\\t<td class=\"num\"><span class=\"tah p11\">81,800</span></td>\\n\\t\\t\\t\\t\\t<td class=\"num\"><span class=\"tah p11\">13,735,798</span></td>\\n\\t\\t\\t\\t\\t</tr>\\n\\t\\t\\t\\t\\n\\t\\t\\t\\t\\n\\t\\t\\t\\n\\t\\t\\t\\n\\t\\t\\t\\n\\t\\t\\t\\n\\t\\t\\t\\n\\t\\n\\t\\t\\n\\t\\t\\t\\n\\t\\t\\t\\t\\n\\t\\t\\t\\t\\t<tr onMouseOver=\"mouseOver(this)\" onMouseOut=\"mouseOut(this)\">\\n\\t\\t\\t\\t\\t<td align=\"center\"><span class=\"tah p10 gray03\">2021.03.12</span></td>\\n\\t\\t\\t\\t\\t<td class=\"num\"><span class=\"tah p11\">82,800</span></td>\\n\\t\\t\\t\\t\\t<td class=\"num\">\\n\\t\\t\\t\\t<img src=\"https://ssl.pstatic.net/imgstock/images/images4/ico_up.gif\" width=\"7\" height=\"6\" style=\"margin-right:4px;\" alt=\"상승\"><span class=\"tah p11 red02\">\\n\\t\\t\\t\\t800\\n\\t\\t\\t\\t</span>\\n\\t\\t\\t</td>\\n\\t\\t\\t\\t\\t<td class=\"num\"><span class=\"tah p11\">83,100</span></td>\\n\\t\\t\\t\\t\\t<td class=\"num\"><span class=\"tah p11\">83,500</span></td>\\n\\t\\t\\t\\t\\t<td class=\"num\"><span class=\"tah p11\">82,400</span></td>\\n\\t\\t\\t\\t\\t<td class=\"num\"><span class=\"tah p11\">13,530,573</span></td>\\n\\t\\t\\t\\t\\t</tr>\\n\\t\\t\\t\\t\\n\\t\\t\\t\\t\\n\\t\\t\\t\\n\\t\\t\\t\\n\\t\\t\\t\\n\\t\\t\\t\\n\\t\\t\\t\\n\\t\\n\\t\\t\\n\\t\\t\\t\\n\\t\\t\\t\\t\\n\\t\\t\\t\\t\\t<tr onMouseOver=\"mouseOver(this)\" onMouseOut=\"mouseOut(this)\">\\n\\t\\t\\t\\t\\t<td align=\"center\"><span class=\"tah p10 gray03\">2021.03.11</span></td>\\n\\t\\t\\t\\t\\t<td class=\"num\"><span class=\"tah p11\">82,000</span></td>\\n\\t\\t\\t\\t\\t<td class=\"num\">\\n\\t\\t\\t\\t<img src=\"https://ssl.pstatic.net/imgstock/images/images4/ico_up.gif\" width=\"7\" height=\"6\" style=\"margin-right:4px;\" alt=\"상승\"><span class=\"tah p11 red02\">\\n\\t\\t\\t\\t1,100\\n\\t\\t\\t\\t</span>\\n\\t\\t\\t</td>\\n\\t\\t\\t\\t\\t<td class=\"num\"><span class=\"tah p11\">81,000</span></td>\\n\\t\\t\\t\\t\\t<td class=\"num\"><span class=\"tah p11\">82,500</span></td>\\n\\t\\t\\t\\t\\t<td class=\"num\"><span class=\"tah p11\">81,000</span></td>\\n\\t\\t\\t\\t\\t<td class=\"num\"><span class=\"tah p11\">23,818,297</span></td>\\n\\t\\t\\t\\t\\t</tr>\\n\\t\\t\\t\\t\\n\\t\\t\\t\\t\\n\\t\\t\\t\\n\\t\\t\\t\\n\\t\\t\\t\\n\\t\\t\\t\\n\\t\\t\\t\\n\\t\\n\\t\\t\\n\\t\\t\\t\\n\\t\\t\\t\\t\\n\\t\\t\\t\\t\\t<tr onMouseOver=\"mouseOver(this)\" onMouseOut=\"mouseOut(this)\">\\n\\t\\t\\t\\t\\t<td align=\"center\"><span class=\"tah p10 gray03\">2021.03.10</span></td>\\n\\t\\t\\t\\t\\t<td class=\"num\"><span class=\"tah p11\">80,900</span></td>\\n\\t\\t\\t\\t\\t<td class=\"num\">\\n\\t\\t\\t\\t<img src=\"https://ssl.pstatic.net/imgstock/images/images4/ico_down.gif\" width=\"7\" height=\"6\" style=\"margin-right:4px;\" alt=\"하락\"><span class=\"tah p11 nv01\">\\n\\t\\t\\t\\t500\\n\\t\\t\\t\\t</span>\\n\\t\\t\\t</td>\\n\\t\\t\\t\\t\\t<td class=\"num\"><span class=\"tah p11\">82,400</span></td>\\n\\t\\t\\t\\t\\t<td class=\"num\"><span class=\"tah p11\">82,500</span></td>\\n\\t\\t\\t\\t\\t<td class=\"num\"><span class=\"tah p11\">80,700</span></td>\\n\\t\\t\\t\\t\\t<td class=\"num\"><span class=\"tah p11\">20,038,422</span></td>\\n\\t\\t\\t\\t\\t</tr>\\n\\t\\t\\t\\t\\n\\t\\t\\t\\t\\n\\t\\t\\t\\n\\t\\t\\t\\n\\t\\t\\t\\n\\t\\t\\t\\n\\t\\t\\t\\n\\t\\n\\t\\t\\n\\t\\t\\t\\n\\t\\t\\t\\t\\n\\t\\t\\t\\t\\t<tr onMouseOver=\"mouseOver(this)\" onMouseOut=\"mouseOut(this)\">\\n\\t\\t\\t\\t\\t<td align=\"center\"><span class=\"tah p10 gray03\">2021.03.09</span></td>\\n\\t\\t\\t\\t\\t<td class=\"num\"><span class=\"tah p11\">81,400</span></td>\\n\\t\\t\\t\\t\\t<td class=\"num\">\\n\\t\\t\\t\\t<img src=\"https://ssl.pstatic.net/imgstock/images/images4/ico_down.gif\" width=\"7\" height=\"6\" style=\"margin-right:4px;\" alt=\"하락\"><span class=\"tah p11 nv01\">\\n\\t\\t\\t\\t600\\n\\t\\t\\t\\t</span>\\n\\t\\t\\t</td>\\n\\t\\t\\t\\t\\t<td class=\"num\"><span class=\"tah p11\">81,400</span></td>\\n\\t\\t\\t\\t\\t<td class=\"num\"><span class=\"tah p11\">81,900</span></td>\\n\\t\\t\\t\\t\\t<td class=\"num\"><span class=\"tah p11\">80,600</span></td>\\n\\t\\t\\t\\t\\t<td class=\"num\"><span class=\"tah p11\">25,420,764</span></td>\\n\\t\\t\\t\\t\\t</tr>\\n\\t\\t\\t\\t\\n\\t\\t\\t\\t\\n\\t\\t\\t\\n\\t\\t\\t\\n\\t\\t\\t\\n\\t\\t\\t\\n\\t\\t\\t\\n\\t\\n\\t\\t\\n\\t\\n\\n\\t\\t\\t\\t<tr>\\n\\t\\t\\t\\t<td colspan=\"7\" height=\"8\"></td>\\n\\t\\t\\t\\t</tr>\\n\\t\\t\\t\\t</table>\\n\\t\\t\\t\\t<!--- 페이지 네비게이션 시작--->\\n\\t\\t\\t\\t<table summary=\"페이지 네비게이션 리스트\" class=\"Nnavi\" align=\"center\">\\n\\t\\t\\t\\t<caption>페이지 네비게이션</caption>\\n\\t\\t\\t\\t<tr>\\t\\t\\n\\t\\t\\t\\n\\t\\t\\t\\t<td class=\"pgLL\">\\n\\t\\t\\t\\t<a href=\"/item/sise_day.nhn?code=005930&amp;page=1\"  >\\n\\t\\t\\t\\t<img src=\"https://ssl.pstatic.net/static/n/cmn/bu_pgarLL.gif\" width=\"7\" height=\"5\" alt=\"\">맨앞\\n\\t\\t\\t\\t</a>\\n\\t\\t\\t\\t</td>\\n\\n                \\n                <td>\\n\\t\\t\\t\\t<a href=\"/item/sise_day.nhn?code=005930&amp;page=1\"  >1</a>\\n\\t\\t\\t\\t</td>\\n<td>\\n\\t\\t\\t\\t<a href=\"/item/sise_day.nhn?code=005930&amp;page=2\"  >2</a>\\n\\t\\t\\t\\t</td>\\n<td>\\n\\t\\t\\t\\t<a href=\"/item/sise_day.nhn?code=005930&amp;page=3\"  >3</a>\\n\\t\\t\\t\\t</td>\\n<td>\\n\\t\\t\\t\\t<a href=\"/item/sise_day.nhn?code=005930&amp;page=4\"  >4</a>\\n\\t\\t\\t\\t</td>\\n<td>\\n\\t\\t\\t\\t<a href=\"/item/sise_day.nhn?code=005930&amp;page=5\"  >5</a>\\n\\t\\t\\t\\t</td>\\n<td>\\n\\t\\t\\t\\t<a href=\"/item/sise_day.nhn?code=005930&amp;page=6\"  >6</a>\\n\\t\\t\\t\\t</td>\\n<td>\\n\\t\\t\\t\\t<a href=\"/item/sise_day.nhn?code=005930&amp;page=7\"  >7</a>\\n\\t\\t\\t\\t</td>\\n<td>\\n\\t\\t\\t\\t<a href=\"/item/sise_day.nhn?code=005930&amp;page=8\"  >8</a>\\n\\t\\t\\t\\t</td>\\n<td>\\n\\t\\t\\t\\t<a href=\"/item/sise_day.nhn?code=005930&amp;page=9\"  >9</a>\\n\\t\\t\\t\\t</td>\\n<td class=\"on\">\\n\\t\\t\\t\\t<a href=\"/item/sise_day.nhn?code=005930&amp;page=10\"  >10</a>\\n\\t\\t\\t\\t</td>\\n\\n                <td class=\"pgR\">\\n\\t\\t\\t\\t<a href=\"/item/sise_day.nhn?code=005930&amp;page=11\"  >\\n\\t\\t\\t\\t다음<img src=\"https://ssl.pstatic.net/static/n/cmn/bu_pgarR.gif\" width=\"3\" height=\"5\" alt=\"\" border=\"0\">\\n\\t\\t\\t\\t</a>\\n\\t\\t\\t\\t</td>\\n\\n                <td class=\"pgRR\">\\n\\t\\t\\t\\t<a href=\"/item/sise_day.nhn?code=005930&amp;page=631\"  >맨뒤\\n\\t\\t\\t\\t<img src=\"https://ssl.pstatic.net/static/n/cmn/bu_pgarRR.gif\" width=\"8\" height=\"5\" alt=\"\" border=\"0\">\\n\\t\\t\\t\\t</a>\\n\\t\\t\\t\\t</td>\\n\\n            \\n\\t\\t\\t\\t</tr>\\n\\t\\t\\t\\t</table>\\n\\t\\t\\t\\t<!--- 페이지 네비게이션 끝--->\\n\\n\\n\\t<script type=\"text/javascript\" src=\"https://ssl.pstatic.net/imgstock/static.pc/20210721200146/js/jindo.min.ns.1.5.3.euckr.js\"></script>\\n\\t<script type=\"text/javascript\" src=\"https://ssl.pstatic.net/imgstock/static.pc/20210721200146/js/lcslog.js\"></script>\\n\\t<script type=\"text/javascript\">\\n        ;(function(){\\n            var eventType = \"onpageshow\" in window ? \"pageshow\" : \"load\";\\n            jindo.$Fn(function(){\\n                lcs_do();\\n            }).attach(window, eventType);\\n        })();\\n\\t</script>\\n\\n</body>'"
      ]
     },
     "execution_count": 68,
     "metadata": {},
     "output_type": "execute_result"
    }
   ],
   "source": [
    "response = requests.get(url, headers = headers)\n",
    "response.text"
   ]
  },
  {
   "cell_type": "markdown",
   "metadata": {},
   "source": [
    "## BeautifulSoup 을 통한 table 태그 찾기\n",
    "\n",
    "* [Beautiful Soup Documentation — Beautiful Soup 4.9.0 documentation](https://www.crummy.com/software/BeautifulSoup/bs4/doc/)"
   ]
  },
  {
   "cell_type": "code",
   "execution_count": 69,
   "metadata": {},
   "outputs": [],
   "source": [
    "from bs4 import BeautifulSoup as bs\n",
    "html = bs(response.text, \"lxml\")"
   ]
  },
  {
   "cell_type": "code",
   "execution_count": 70,
   "metadata": {},
   "outputs": [
    {
     "data": {
      "text/plain": [
       "2"
      ]
     },
     "execution_count": 70,
     "metadata": {},
     "output_type": "execute_result"
    }
   ],
   "source": [
    "tables = html.select(\"table\")\n",
    "len(tables)"
   ]
  },
  {
   "cell_type": "code",
   "execution_count": 71,
   "metadata": {},
   "outputs": [
    {
     "data": {
      "text/plain": [
       "'4.59.0'"
      ]
     },
     "execution_count": 71,
     "metadata": {},
     "output_type": "execute_result"
    }
   ],
   "source": [
    "import tqdm\n",
    "tqdm.__version__"
   ]
  },
  {
   "cell_type": "markdown",
   "metadata": {},
   "source": [
    "## pandas 코드 한 줄로 데이터 수집하기"
   ]
  },
  {
   "cell_type": "code",
   "execution_count": 72,
   "metadata": {},
   "outputs": [
    {
     "name": "stdout",
     "output_type": "stream",
     "text": [
      "https://finance.naver.com/item/sise_day.nhn?code=005930&page=10\n"
     ]
    }
   ],
   "source": [
    "print(url)"
   ]
  },
  {
   "cell_type": "code",
   "execution_count": 73,
   "metadata": {
    "id": "T3e0Jt0mTMkA"
   },
   "outputs": [
    {
     "data": {
      "text/plain": [
       "[            날짜       종가     전일비       시가       고가       저가         거래량\n",
       " 0          NaN      NaN     NaN      NaN      NaN      NaN         NaN\n",
       " 1   2021.03.22  82000.0   100.0  82000.0  82300.0  81700.0  12670506.0\n",
       " 2   2021.03.19  81900.0  1000.0  82100.0  82500.0  81800.0  15869700.0\n",
       " 3   2021.03.18  82900.0   600.0  82800.0  83800.0  82600.0  18585244.0\n",
       " 4   2021.03.17  82300.0   500.0  82800.0  82900.0  82000.0  11625146.0\n",
       " 5   2021.03.16  82800.0  1000.0  82200.0  83000.0  82100.0  12293537.0\n",
       " 6          NaN      NaN     NaN      NaN      NaN      NaN         NaN\n",
       " 7          NaN      NaN     NaN      NaN      NaN      NaN         NaN\n",
       " 8          NaN      NaN     NaN      NaN      NaN      NaN         NaN\n",
       " 9   2021.03.15  81800.0  1000.0  82800.0  82900.0  81800.0  13735798.0\n",
       " 10  2021.03.12  82800.0   800.0  83100.0  83500.0  82400.0  13530573.0\n",
       " 11  2021.03.11  82000.0  1100.0  81000.0  82500.0  81000.0  23818297.0\n",
       " 12  2021.03.10  80900.0   500.0  82400.0  82500.0  80700.0  20038422.0\n",
       " 13  2021.03.09  81400.0   600.0  81400.0  81900.0  80600.0  25420764.0\n",
       " 14         NaN      NaN     NaN      NaN      NaN      NaN         NaN,\n",
       "    0   1   2   3   4   5   6   7   8   9   10  11  12\n",
       " 0  맨앞   1   2   3   4   5   6   7   8   9  10  다음  맨뒤]"
      ]
     },
     "execution_count": 73,
     "metadata": {},
     "output_type": "execute_result"
    }
   ],
   "source": [
    "# read_html을 이용하여 url의 page내의 값을 DataFrame으로 받아옵니다.\n",
    "# cp949는 한글 인코딩을 위해 사용합니다. 기본 인코딩 설정은 utf-8 이며, \n",
    "# 네이버의 일별 시세는 cp949 인코딩으로 불러올 수 있습니다.\n",
    "# 데이터를 로드 했을 때 한글 인코딩이 깨진다면 대부분 cp949 로 불러올 수 있습니다.\n",
    "\n",
    "table = pd.read_html(str(tables))\n",
    "table"
   ]
  },
  {
   "cell_type": "code",
   "execution_count": 74,
   "metadata": {
    "id": "GQ_LCYp0TMkA"
   },
   "outputs": [
    {
     "data": {
      "text/html": [
       "<div>\n",
       "<style scoped>\n",
       "    .dataframe tbody tr th:only-of-type {\n",
       "        vertical-align: middle;\n",
       "    }\n",
       "\n",
       "    .dataframe tbody tr th {\n",
       "        vertical-align: top;\n",
       "    }\n",
       "\n",
       "    .dataframe thead th {\n",
       "        text-align: right;\n",
       "    }\n",
       "</style>\n",
       "<table border=\"1\" class=\"dataframe\">\n",
       "  <thead>\n",
       "    <tr style=\"text-align: right;\">\n",
       "      <th></th>\n",
       "      <th>날짜</th>\n",
       "      <th>종가</th>\n",
       "      <th>전일비</th>\n",
       "      <th>시가</th>\n",
       "      <th>고가</th>\n",
       "      <th>저가</th>\n",
       "      <th>거래량</th>\n",
       "    </tr>\n",
       "  </thead>\n",
       "  <tbody>\n",
       "    <tr>\n",
       "      <th>0</th>\n",
       "      <td>NaN</td>\n",
       "      <td>NaN</td>\n",
       "      <td>NaN</td>\n",
       "      <td>NaN</td>\n",
       "      <td>NaN</td>\n",
       "      <td>NaN</td>\n",
       "      <td>NaN</td>\n",
       "    </tr>\n",
       "    <tr>\n",
       "      <th>1</th>\n",
       "      <td>2021.03.22</td>\n",
       "      <td>82000.0</td>\n",
       "      <td>100.0</td>\n",
       "      <td>82000.0</td>\n",
       "      <td>82300.0</td>\n",
       "      <td>81700.0</td>\n",
       "      <td>12670506.0</td>\n",
       "    </tr>\n",
       "    <tr>\n",
       "      <th>2</th>\n",
       "      <td>2021.03.19</td>\n",
       "      <td>81900.0</td>\n",
       "      <td>1000.0</td>\n",
       "      <td>82100.0</td>\n",
       "      <td>82500.0</td>\n",
       "      <td>81800.0</td>\n",
       "      <td>15869700.0</td>\n",
       "    </tr>\n",
       "    <tr>\n",
       "      <th>3</th>\n",
       "      <td>2021.03.18</td>\n",
       "      <td>82900.0</td>\n",
       "      <td>600.0</td>\n",
       "      <td>82800.0</td>\n",
       "      <td>83800.0</td>\n",
       "      <td>82600.0</td>\n",
       "      <td>18585244.0</td>\n",
       "    </tr>\n",
       "    <tr>\n",
       "      <th>4</th>\n",
       "      <td>2021.03.17</td>\n",
       "      <td>82300.0</td>\n",
       "      <td>500.0</td>\n",
       "      <td>82800.0</td>\n",
       "      <td>82900.0</td>\n",
       "      <td>82000.0</td>\n",
       "      <td>11625146.0</td>\n",
       "    </tr>\n",
       "    <tr>\n",
       "      <th>5</th>\n",
       "      <td>2021.03.16</td>\n",
       "      <td>82800.0</td>\n",
       "      <td>1000.0</td>\n",
       "      <td>82200.0</td>\n",
       "      <td>83000.0</td>\n",
       "      <td>82100.0</td>\n",
       "      <td>12293537.0</td>\n",
       "    </tr>\n",
       "    <tr>\n",
       "      <th>6</th>\n",
       "      <td>NaN</td>\n",
       "      <td>NaN</td>\n",
       "      <td>NaN</td>\n",
       "      <td>NaN</td>\n",
       "      <td>NaN</td>\n",
       "      <td>NaN</td>\n",
       "      <td>NaN</td>\n",
       "    </tr>\n",
       "    <tr>\n",
       "      <th>7</th>\n",
       "      <td>NaN</td>\n",
       "      <td>NaN</td>\n",
       "      <td>NaN</td>\n",
       "      <td>NaN</td>\n",
       "      <td>NaN</td>\n",
       "      <td>NaN</td>\n",
       "      <td>NaN</td>\n",
       "    </tr>\n",
       "    <tr>\n",
       "      <th>8</th>\n",
       "      <td>NaN</td>\n",
       "      <td>NaN</td>\n",
       "      <td>NaN</td>\n",
       "      <td>NaN</td>\n",
       "      <td>NaN</td>\n",
       "      <td>NaN</td>\n",
       "      <td>NaN</td>\n",
       "    </tr>\n",
       "    <tr>\n",
       "      <th>9</th>\n",
       "      <td>2021.03.15</td>\n",
       "      <td>81800.0</td>\n",
       "      <td>1000.0</td>\n",
       "      <td>82800.0</td>\n",
       "      <td>82900.0</td>\n",
       "      <td>81800.0</td>\n",
       "      <td>13735798.0</td>\n",
       "    </tr>\n",
       "    <tr>\n",
       "      <th>10</th>\n",
       "      <td>2021.03.12</td>\n",
       "      <td>82800.0</td>\n",
       "      <td>800.0</td>\n",
       "      <td>83100.0</td>\n",
       "      <td>83500.0</td>\n",
       "      <td>82400.0</td>\n",
       "      <td>13530573.0</td>\n",
       "    </tr>\n",
       "    <tr>\n",
       "      <th>11</th>\n",
       "      <td>2021.03.11</td>\n",
       "      <td>82000.0</td>\n",
       "      <td>1100.0</td>\n",
       "      <td>81000.0</td>\n",
       "      <td>82500.0</td>\n",
       "      <td>81000.0</td>\n",
       "      <td>23818297.0</td>\n",
       "    </tr>\n",
       "    <tr>\n",
       "      <th>12</th>\n",
       "      <td>2021.03.10</td>\n",
       "      <td>80900.0</td>\n",
       "      <td>500.0</td>\n",
       "      <td>82400.0</td>\n",
       "      <td>82500.0</td>\n",
       "      <td>80700.0</td>\n",
       "      <td>20038422.0</td>\n",
       "    </tr>\n",
       "    <tr>\n",
       "      <th>13</th>\n",
       "      <td>2021.03.09</td>\n",
       "      <td>81400.0</td>\n",
       "      <td>600.0</td>\n",
       "      <td>81400.0</td>\n",
       "      <td>81900.0</td>\n",
       "      <td>80600.0</td>\n",
       "      <td>25420764.0</td>\n",
       "    </tr>\n",
       "    <tr>\n",
       "      <th>14</th>\n",
       "      <td>NaN</td>\n",
       "      <td>NaN</td>\n",
       "      <td>NaN</td>\n",
       "      <td>NaN</td>\n",
       "      <td>NaN</td>\n",
       "      <td>NaN</td>\n",
       "      <td>NaN</td>\n",
       "    </tr>\n",
       "  </tbody>\n",
       "</table>\n",
       "</div>"
      ],
      "text/plain": [
       "            날짜       종가     전일비       시가       고가       저가         거래량\n",
       "0          NaN      NaN     NaN      NaN      NaN      NaN         NaN\n",
       "1   2021.03.22  82000.0   100.0  82000.0  82300.0  81700.0  12670506.0\n",
       "2   2021.03.19  81900.0  1000.0  82100.0  82500.0  81800.0  15869700.0\n",
       "3   2021.03.18  82900.0   600.0  82800.0  83800.0  82600.0  18585244.0\n",
       "4   2021.03.17  82300.0   500.0  82800.0  82900.0  82000.0  11625146.0\n",
       "5   2021.03.16  82800.0  1000.0  82200.0  83000.0  82100.0  12293537.0\n",
       "6          NaN      NaN     NaN      NaN      NaN      NaN         NaN\n",
       "7          NaN      NaN     NaN      NaN      NaN      NaN         NaN\n",
       "8          NaN      NaN     NaN      NaN      NaN      NaN         NaN\n",
       "9   2021.03.15  81800.0  1000.0  82800.0  82900.0  81800.0  13735798.0\n",
       "10  2021.03.12  82800.0   800.0  83100.0  83500.0  82400.0  13530573.0\n",
       "11  2021.03.11  82000.0  1100.0  81000.0  82500.0  81000.0  23818297.0\n",
       "12  2021.03.10  80900.0   500.0  82400.0  82500.0  80700.0  20038422.0\n",
       "13  2021.03.09  81400.0   600.0  81400.0  81900.0  80600.0  25420764.0\n",
       "14         NaN      NaN     NaN      NaN      NaN      NaN         NaN"
      ]
     },
     "execution_count": 74,
     "metadata": {},
     "output_type": "execute_result"
    }
   ],
   "source": [
    "# table[0]와 table[1]을 확인하여 보면 table[0]에 필요한 데이터들이 있습니다.\n",
    "table[0]"
   ]
  },
  {
   "cell_type": "code",
   "execution_count": 75,
   "metadata": {
    "id": "0gI1rNUbTMkA"
   },
   "outputs": [
    {
     "data": {
      "text/html": [
       "<div>\n",
       "<style scoped>\n",
       "    .dataframe tbody tr th:only-of-type {\n",
       "        vertical-align: middle;\n",
       "    }\n",
       "\n",
       "    .dataframe tbody tr th {\n",
       "        vertical-align: top;\n",
       "    }\n",
       "\n",
       "    .dataframe thead th {\n",
       "        text-align: right;\n",
       "    }\n",
       "</style>\n",
       "<table border=\"1\" class=\"dataframe\">\n",
       "  <thead>\n",
       "    <tr style=\"text-align: right;\">\n",
       "      <th></th>\n",
       "      <th>날짜</th>\n",
       "      <th>종가</th>\n",
       "      <th>전일비</th>\n",
       "      <th>시가</th>\n",
       "      <th>고가</th>\n",
       "      <th>저가</th>\n",
       "      <th>거래량</th>\n",
       "    </tr>\n",
       "  </thead>\n",
       "  <tbody>\n",
       "    <tr>\n",
       "      <th>1</th>\n",
       "      <td>2021.03.22</td>\n",
       "      <td>82000.0</td>\n",
       "      <td>100.0</td>\n",
       "      <td>82000.0</td>\n",
       "      <td>82300.0</td>\n",
       "      <td>81700.0</td>\n",
       "      <td>12670506.0</td>\n",
       "    </tr>\n",
       "    <tr>\n",
       "      <th>2</th>\n",
       "      <td>2021.03.19</td>\n",
       "      <td>81900.0</td>\n",
       "      <td>1000.0</td>\n",
       "      <td>82100.0</td>\n",
       "      <td>82500.0</td>\n",
       "      <td>81800.0</td>\n",
       "      <td>15869700.0</td>\n",
       "    </tr>\n",
       "    <tr>\n",
       "      <th>3</th>\n",
       "      <td>2021.03.18</td>\n",
       "      <td>82900.0</td>\n",
       "      <td>600.0</td>\n",
       "      <td>82800.0</td>\n",
       "      <td>83800.0</td>\n",
       "      <td>82600.0</td>\n",
       "      <td>18585244.0</td>\n",
       "    </tr>\n",
       "    <tr>\n",
       "      <th>4</th>\n",
       "      <td>2021.03.17</td>\n",
       "      <td>82300.0</td>\n",
       "      <td>500.0</td>\n",
       "      <td>82800.0</td>\n",
       "      <td>82900.0</td>\n",
       "      <td>82000.0</td>\n",
       "      <td>11625146.0</td>\n",
       "    </tr>\n",
       "    <tr>\n",
       "      <th>5</th>\n",
       "      <td>2021.03.16</td>\n",
       "      <td>82800.0</td>\n",
       "      <td>1000.0</td>\n",
       "      <td>82200.0</td>\n",
       "      <td>83000.0</td>\n",
       "      <td>82100.0</td>\n",
       "      <td>12293537.0</td>\n",
       "    </tr>\n",
       "    <tr>\n",
       "      <th>9</th>\n",
       "      <td>2021.03.15</td>\n",
       "      <td>81800.0</td>\n",
       "      <td>1000.0</td>\n",
       "      <td>82800.0</td>\n",
       "      <td>82900.0</td>\n",
       "      <td>81800.0</td>\n",
       "      <td>13735798.0</td>\n",
       "    </tr>\n",
       "    <tr>\n",
       "      <th>10</th>\n",
       "      <td>2021.03.12</td>\n",
       "      <td>82800.0</td>\n",
       "      <td>800.0</td>\n",
       "      <td>83100.0</td>\n",
       "      <td>83500.0</td>\n",
       "      <td>82400.0</td>\n",
       "      <td>13530573.0</td>\n",
       "    </tr>\n",
       "    <tr>\n",
       "      <th>11</th>\n",
       "      <td>2021.03.11</td>\n",
       "      <td>82000.0</td>\n",
       "      <td>1100.0</td>\n",
       "      <td>81000.0</td>\n",
       "      <td>82500.0</td>\n",
       "      <td>81000.0</td>\n",
       "      <td>23818297.0</td>\n",
       "    </tr>\n",
       "    <tr>\n",
       "      <th>12</th>\n",
       "      <td>2021.03.10</td>\n",
       "      <td>80900.0</td>\n",
       "      <td>500.0</td>\n",
       "      <td>82400.0</td>\n",
       "      <td>82500.0</td>\n",
       "      <td>80700.0</td>\n",
       "      <td>20038422.0</td>\n",
       "    </tr>\n",
       "    <tr>\n",
       "      <th>13</th>\n",
       "      <td>2021.03.09</td>\n",
       "      <td>81400.0</td>\n",
       "      <td>600.0</td>\n",
       "      <td>81400.0</td>\n",
       "      <td>81900.0</td>\n",
       "      <td>80600.0</td>\n",
       "      <td>25420764.0</td>\n",
       "    </tr>\n",
       "  </tbody>\n",
       "</table>\n",
       "</div>"
      ],
      "text/plain": [
       "            날짜       종가     전일비       시가       고가       저가         거래량\n",
       "1   2021.03.22  82000.0   100.0  82000.0  82300.0  81700.0  12670506.0\n",
       "2   2021.03.19  81900.0  1000.0  82100.0  82500.0  81800.0  15869700.0\n",
       "3   2021.03.18  82900.0   600.0  82800.0  83800.0  82600.0  18585244.0\n",
       "4   2021.03.17  82300.0   500.0  82800.0  82900.0  82000.0  11625146.0\n",
       "5   2021.03.16  82800.0  1000.0  82200.0  83000.0  82100.0  12293537.0\n",
       "9   2021.03.15  81800.0  1000.0  82800.0  82900.0  81800.0  13735798.0\n",
       "10  2021.03.12  82800.0   800.0  83100.0  83500.0  82400.0  13530573.0\n",
       "11  2021.03.11  82000.0  1100.0  81000.0  82500.0  81000.0  23818297.0\n",
       "12  2021.03.10  80900.0   500.0  82400.0  82500.0  80700.0  20038422.0\n",
       "13  2021.03.09  81400.0   600.0  81400.0  81900.0  80600.0  25420764.0"
      ]
     },
     "execution_count": 75,
     "metadata": {},
     "output_type": "execute_result"
    }
   ],
   "source": [
    "# dropna를 통해 결측치가 들어있는 row를 제거합니다.\n",
    "temp = table[0].dropna()\n",
    "temp"
   ]
  },
  {
   "cell_type": "markdown",
   "metadata": {
    "id": "CKhsb94wTMkA"
   },
   "source": [
    "## 페이지별 데이터 수집 함수 만들기"
   ]
  },
  {
   "cell_type": "code",
   "execution_count": 76,
   "metadata": {},
   "outputs": [
    {
     "name": "stdout",
     "output_type": "stream",
     "text": [
      "https://finance.naver.com/item/sise_day.nhn?code=005930&page=10\n"
     ]
    }
   ],
   "source": [
    "print(url)"
   ]
  },
  {
   "cell_type": "code",
   "execution_count": 77,
   "metadata": {},
   "outputs": [
    {
     "data": {
      "text/plain": [
       "{'user-agent': 'Mozilla/5.0 (Windows NT 10.0; Win64; x64) AppleWebKit/537.36 (KHTML, like Gecko) Chrome/92.0.4515.107 Safari/537.36'}"
      ]
     },
     "execution_count": 77,
     "metadata": {},
     "output_type": "execute_result"
    }
   ],
   "source": [
    "headers"
   ]
  },
  {
   "cell_type": "code",
   "execution_count": 78,
   "metadata": {
    "id": "gJugcyoiTMkA"
   },
   "outputs": [],
   "source": [
    "# 종목 번호를 이용해 page에 따라 데이터를 읽어오는 함수\n",
    "# \"\"\" 는 이 두개 사이의 행들은 주석 처리되며, 함수의 docstring 으로 사용됩니다.\n",
    "\n",
    "def get_day_list(item_code, page_no):\n",
    "    \"\"\"\n",
    "    일자별 시세를 페이지별로 수집\n",
    "    \"\"\" \n",
    "    url = f\"https://finance.naver.com/item/sise_day.nhn?code={item_code}&page={page_no}\"\n",
    "#     print(url)\n",
    "    headers = {'user-agent':'Mozilla/5.0 (Windows NT 10.0; Win64; x64) AppleWebKit/537.36 (KHTML, like Gecko) Chrome/92.0.4515.107 Safari/537.36'}\n",
    "    response = requests.get(url, headers=headers)\n",
    "    html = bs(response.text, 'lxml')\n",
    "    tables = html.select(\"table\")\n",
    "    table = pd.read_html(str(tables))\n",
    "    df_page = table[0].dropna()\n",
    "    return df_page"
   ]
  },
  {
   "cell_type": "code",
   "execution_count": 79,
   "metadata": {
    "id": "evjinapgTMkA"
   },
   "outputs": [
    {
     "data": {
      "text/html": [
       "<div>\n",
       "<style scoped>\n",
       "    .dataframe tbody tr th:only-of-type {\n",
       "        vertical-align: middle;\n",
       "    }\n",
       "\n",
       "    .dataframe tbody tr th {\n",
       "        vertical-align: top;\n",
       "    }\n",
       "\n",
       "    .dataframe thead th {\n",
       "        text-align: right;\n",
       "    }\n",
       "</style>\n",
       "<table border=\"1\" class=\"dataframe\">\n",
       "  <thead>\n",
       "    <tr style=\"text-align: right;\">\n",
       "      <th></th>\n",
       "      <th>날짜</th>\n",
       "      <th>종가</th>\n",
       "      <th>전일비</th>\n",
       "      <th>시가</th>\n",
       "      <th>고가</th>\n",
       "      <th>저가</th>\n",
       "      <th>거래량</th>\n",
       "    </tr>\n",
       "  </thead>\n",
       "  <tbody>\n",
       "    <tr>\n",
       "      <th>1</th>\n",
       "      <td>2020.10.23</td>\n",
       "      <td>161000.0</td>\n",
       "      <td>1500.0</td>\n",
       "      <td>161000.0</td>\n",
       "      <td>162000.0</td>\n",
       "      <td>159500.0</td>\n",
       "      <td>191225.0</td>\n",
       "    </tr>\n",
       "    <tr>\n",
       "      <th>2</th>\n",
       "      <td>2020.10.22</td>\n",
       "      <td>162500.0</td>\n",
       "      <td>1000.0</td>\n",
       "      <td>161000.0</td>\n",
       "      <td>163500.0</td>\n",
       "      <td>158000.0</td>\n",
       "      <td>287992.0</td>\n",
       "    </tr>\n",
       "    <tr>\n",
       "      <th>3</th>\n",
       "      <td>2020.10.21</td>\n",
       "      <td>161500.0</td>\n",
       "      <td>6500.0</td>\n",
       "      <td>156000.0</td>\n",
       "      <td>162000.0</td>\n",
       "      <td>154500.0</td>\n",
       "      <td>449038.0</td>\n",
       "    </tr>\n",
       "    <tr>\n",
       "      <th>4</th>\n",
       "      <td>2020.10.20</td>\n",
       "      <td>155000.0</td>\n",
       "      <td>500.0</td>\n",
       "      <td>153500.0</td>\n",
       "      <td>156000.0</td>\n",
       "      <td>152500.0</td>\n",
       "      <td>232226.0</td>\n",
       "    </tr>\n",
       "    <tr>\n",
       "      <th>5</th>\n",
       "      <td>2020.10.19</td>\n",
       "      <td>154500.0</td>\n",
       "      <td>1000.0</td>\n",
       "      <td>151000.0</td>\n",
       "      <td>156000.0</td>\n",
       "      <td>149000.0</td>\n",
       "      <td>270633.0</td>\n",
       "    </tr>\n",
       "    <tr>\n",
       "      <th>9</th>\n",
       "      <td>2020.10.16</td>\n",
       "      <td>153500.0</td>\n",
       "      <td>1500.0</td>\n",
       "      <td>153000.0</td>\n",
       "      <td>159000.0</td>\n",
       "      <td>153000.0</td>\n",
       "      <td>486968.0</td>\n",
       "    </tr>\n",
       "    <tr>\n",
       "      <th>10</th>\n",
       "      <td>2020.10.15</td>\n",
       "      <td>152000.0</td>\n",
       "      <td>1000.0</td>\n",
       "      <td>153000.0</td>\n",
       "      <td>153000.0</td>\n",
       "      <td>146500.0</td>\n",
       "      <td>402884.0</td>\n",
       "    </tr>\n",
       "    <tr>\n",
       "      <th>11</th>\n",
       "      <td>2020.10.14</td>\n",
       "      <td>153000.0</td>\n",
       "      <td>5500.0</td>\n",
       "      <td>166500.0</td>\n",
       "      <td>170000.0</td>\n",
       "      <td>152500.0</td>\n",
       "      <td>1784912.0</td>\n",
       "    </tr>\n",
       "    <tr>\n",
       "      <th>12</th>\n",
       "      <td>2020.10.13</td>\n",
       "      <td>147500.0</td>\n",
       "      <td>2500.0</td>\n",
       "      <td>151000.0</td>\n",
       "      <td>151500.0</td>\n",
       "      <td>146000.0</td>\n",
       "      <td>301158.0</td>\n",
       "    </tr>\n",
       "    <tr>\n",
       "      <th>13</th>\n",
       "      <td>2020.10.12</td>\n",
       "      <td>150000.0</td>\n",
       "      <td>2500.0</td>\n",
       "      <td>149000.0</td>\n",
       "      <td>150000.0</td>\n",
       "      <td>147500.0</td>\n",
       "      <td>369263.0</td>\n",
       "    </tr>\n",
       "  </tbody>\n",
       "</table>\n",
       "</div>"
      ],
      "text/plain": [
       "            날짜        종가     전일비        시가        고가        저가        거래량\n",
       "1   2020.10.23  161000.0  1500.0  161000.0  162000.0  159500.0   191225.0\n",
       "2   2020.10.22  162500.0  1000.0  161000.0  163500.0  158000.0   287992.0\n",
       "3   2020.10.21  161500.0  6500.0  156000.0  162000.0  154500.0   449038.0\n",
       "4   2020.10.20  155000.0   500.0  153500.0  156000.0  152500.0   232226.0\n",
       "5   2020.10.19  154500.0  1000.0  151000.0  156000.0  149000.0   270633.0\n",
       "9   2020.10.16  153500.0  1500.0  153000.0  159000.0  153000.0   486968.0\n",
       "10  2020.10.15  152000.0  1000.0  153000.0  153000.0  146500.0   402884.0\n",
       "11  2020.10.14  153000.0  5500.0  166500.0  170000.0  152500.0  1784912.0\n",
       "12  2020.10.13  147500.0  2500.0  151000.0  151500.0  146000.0   301158.0\n",
       "13  2020.10.12  150000.0  2500.0  149000.0  150000.0  147500.0   369263.0"
      ]
     },
     "execution_count": 79,
     "metadata": {},
     "output_type": "execute_result"
    }
   ],
   "source": [
    "# 함수가 잘 만들어졌는지 확인하기\n",
    "page_no = 20\n",
    "get_day_list(item_code, page_no)"
   ]
  },
  {
   "cell_type": "markdown",
   "metadata": {},
   "source": [
    "## 종목토론실, 뉴스공시 수집 하신 분들은 스크린샷을 스레드로 올려주세요."
   ]
  },
  {
   "cell_type": "code",
   "execution_count": 80,
   "metadata": {},
   "outputs": [],
   "source": [
    "### 뉴스공시 수집\n",
    "def find_day_news(item_code, page_num):\n",
    "    \"\"\"\n",
    "    일자별 종목 뉴스 수집\n",
    "    \"\"\"\n",
    "    url = f\"https://finance.naver.com/item/news_news.nhn?code={item_code}&page={page_num}&sm=title_entity_id.basic&clusterId=\"\n",
    "    headers = {\"User-Agent\" : \"Mozilla/5.0 (Windows NT 10.0; Win64; x64) AppleWebKit/537.36 (KHTML, like Gecko) Chrome/92.0.4515.107 Safari/537.36\"}\n",
    "    response = requests.get(url, headers = headers)\n",
    "    html = bs(response.text, \"lxml\")\n",
    "    tables = html.select(\"table\")\n",
    "    table = pd.read_html(str(tables))\n",
    "    news_page = table[0]\n",
    "    news_page_result = news_page[~news_page.get(\"제목\").str.contains(\"연관기사\")]\n",
    "    return news_page_result"
   ]
  },
  {
   "cell_type": "code",
   "execution_count": 81,
   "metadata": {},
   "outputs": [
    {
     "data": {
      "text/html": [
       "<div>\n",
       "<style scoped>\n",
       "    .dataframe tbody tr th:only-of-type {\n",
       "        vertical-align: middle;\n",
       "    }\n",
       "\n",
       "    .dataframe tbody tr th {\n",
       "        vertical-align: top;\n",
       "    }\n",
       "\n",
       "    .dataframe thead th {\n",
       "        text-align: right;\n",
       "    }\n",
       "</style>\n",
       "<table border=\"1\" class=\"dataframe\">\n",
       "  <thead>\n",
       "    <tr style=\"text-align: right;\">\n",
       "      <th></th>\n",
       "      <th>제목</th>\n",
       "      <th>정보제공</th>\n",
       "      <th>날짜</th>\n",
       "    </tr>\n",
       "  </thead>\n",
       "  <tbody>\n",
       "    <tr>\n",
       "      <th>0</th>\n",
       "      <td>다음달 3.2억주 의무보유 해제…SK바이오팜 5873만주 풀린다</td>\n",
       "      <td>조선비즈</td>\n",
       "      <td>2020.12.31 11:09</td>\n",
       "    </tr>\n",
       "    <tr>\n",
       "      <th>2</th>\n",
       "      <td>내달 코스피·코스닥 3.2억株 의무보유 해제…수량 1위 ‘SK바이오팜...</td>\n",
       "      <td>이데일리</td>\n",
       "      <td>2020.12.31 09:47</td>\n",
       "    </tr>\n",
       "    <tr>\n",
       "      <th>3</th>\n",
       "      <td>SK바이오팜 \"중국 등 아시아로 글로벌 파트너십 확대\"</td>\n",
       "      <td>한국경제</td>\n",
       "      <td>2020.12.29 14:19</td>\n",
       "    </tr>\n",
       "    <tr>\n",
       "      <th>4</th>\n",
       "      <td>SK바이오팜 5,800만 주 보호예수 내년 1월 1일 종료</td>\n",
       "      <td>서울경제</td>\n",
       "      <td>2020.12.29 11:32</td>\n",
       "    </tr>\n",
       "    <tr>\n",
       "      <th>5</th>\n",
       "      <td>[2020자본투자대상]한투證, SK바이오팜 등 빅3 상장 주관 IPO ...</td>\n",
       "      <td>아시아경제</td>\n",
       "      <td>2020.12.09 14:00</td>\n",
       "    </tr>\n",
       "    <tr>\n",
       "      <th>6</th>\n",
       "      <td>[마켓인사이트]‘3조’ 대어 SK바이오사이언스, 상장 준비 본격화......</td>\n",
       "      <td>한국경제</td>\n",
       "      <td>2020.12.04 11:00</td>\n",
       "    </tr>\n",
       "    <tr>\n",
       "      <th>7</th>\n",
       "      <td>SK바이오사이언스, 코스피 상장 추진…제2의 SK바이오팜 될까</td>\n",
       "      <td>머니투데이</td>\n",
       "      <td>2020.11.27 16:56</td>\n",
       "    </tr>\n",
       "    <tr>\n",
       "      <th>8</th>\n",
       "      <td>올해 공모주 수익률 상위권 휩쓴 바이오株… 상승률 1위는 SK바이오팜</td>\n",
       "      <td>조선비즈</td>\n",
       "      <td>2020.11.27 14:00</td>\n",
       "    </tr>\n",
       "    <tr>\n",
       "      <th>9</th>\n",
       "      <td>SK바이오팜 \"세노바메이트 美 승인 1주년…월평균 2260건 처방\"</td>\n",
       "      <td>한국경제</td>\n",
       "      <td>2020.11.23 09:46</td>\n",
       "    </tr>\n",
       "    <tr>\n",
       "      <th>11</th>\n",
       "      <td>SK바이오팜 뇌전증 혁신신약 세노바메이트, 美 FDA 승인 1주년 맞...</td>\n",
       "      <td>파이낸셜뉴스</td>\n",
       "      <td>2020.11.23 08:56</td>\n",
       "    </tr>\n",
       "    <tr>\n",
       "      <th>12</th>\n",
       "      <td>SK바이오팜, “3분기 잠정실적 매출 39억원 영업손실 630억원…엑스...</td>\n",
       "      <td>한국경제</td>\n",
       "      <td>2020.11.12 11:02</td>\n",
       "    </tr>\n",
       "    <tr>\n",
       "      <th>14</th>\n",
       "      <td>SK바이오팜, 3분기 실적 발표…성장세 유지·R&amp;D 확대</td>\n",
       "      <td>헤럴드경제</td>\n",
       "      <td>2020.11.12 10:23</td>\n",
       "    </tr>\n",
       "    <tr>\n",
       "      <th>15</th>\n",
       "      <td>SK바이오팜, 3분기 매출 39억원…R&amp;D 투자 확대</td>\n",
       "      <td>머니투데이</td>\n",
       "      <td>2020.11.12 10:21</td>\n",
       "    </tr>\n",
       "    <tr>\n",
       "      <th>16</th>\n",
       "      <td>SK바이오팜, 3분기 영업손실 630억원…매출은 성장세</td>\n",
       "      <td>이데일리</td>\n",
       "      <td>2020.11.12 10:07</td>\n",
       "    </tr>\n",
       "    <tr>\n",
       "      <th>17</th>\n",
       "      <td>\"R&amp;D 가속화 위한 투자 확대\" SK바이오팜, 3분기 영업손실 63...</td>\n",
       "      <td>매일경제</td>\n",
       "      <td>2020.11.12 10:07</td>\n",
       "    </tr>\n",
       "    <tr>\n",
       "      <th>18</th>\n",
       "      <td>SK바이오팜, 3분기 영업손실 630억원…판매관리비 증가 영향</td>\n",
       "      <td>아시아경제</td>\n",
       "      <td>2020.11.12 10:35</td>\n",
       "    </tr>\n",
       "    <tr>\n",
       "      <th>20</th>\n",
       "      <td>'공모주 대박' SK바이오팜, 3분기 영업손실 확대에 주가 ↓</td>\n",
       "      <td>머니투데이</td>\n",
       "      <td>2020.11.12 10:25</td>\n",
       "    </tr>\n",
       "    <tr>\n",
       "      <th>21</th>\n",
       "      <td>SK바이오팜, 3·4분기 매출 39억원·영업손실 630억</td>\n",
       "      <td>서울경제</td>\n",
       "      <td>2020.11.12 09:53</td>\n",
       "    </tr>\n",
       "  </tbody>\n",
       "</table>\n",
       "</div>"
      ],
      "text/plain": [
       "                                            제목    정보제공                날짜\n",
       "0          다음달 3.2억주 의무보유 해제…SK바이오팜 5873만주 풀린다    조선비즈  2020.12.31 11:09\n",
       "2    내달 코스피·코스닥 3.2억株 의무보유 해제…수량 1위 ‘SK바이오팜...    이데일리  2020.12.31 09:47\n",
       "3               SK바이오팜 \"중국 등 아시아로 글로벌 파트너십 확대\"    한국경제  2020.12.29 14:19\n",
       "4             SK바이오팜 5,800만 주 보호예수 내년 1월 1일 종료    서울경제  2020.12.29 11:32\n",
       "5   [2020자본투자대상]한투證, SK바이오팜 등 빅3 상장 주관 IPO ...   아시아경제  2020.12.09 14:00\n",
       "6   [마켓인사이트]‘3조’ 대어 SK바이오사이언스, 상장 준비 본격화......    한국경제  2020.12.04 11:00\n",
       "7           SK바이오사이언스, 코스피 상장 추진…제2의 SK바이오팜 될까   머니투데이  2020.11.27 16:56\n",
       "8       올해 공모주 수익률 상위권 휩쓴 바이오株… 상승률 1위는 SK바이오팜    조선비즈  2020.11.27 14:00\n",
       "9        SK바이오팜 \"세노바메이트 美 승인 1주년…월평균 2260건 처방\"    한국경제  2020.11.23 09:46\n",
       "11   SK바이오팜 뇌전증 혁신신약 세노바메이트, 美 FDA 승인 1주년 맞...  파이낸셜뉴스  2020.11.23 08:56\n",
       "12  SK바이오팜, “3분기 잠정실적 매출 39억원 영업손실 630억원…엑스...    한국경제  2020.11.12 11:02\n",
       "14             SK바이오팜, 3분기 실적 발표…성장세 유지·R&D 확대   헤럴드경제  2020.11.12 10:23\n",
       "15               SK바이오팜, 3분기 매출 39억원…R&D 투자 확대   머니투데이  2020.11.12 10:21\n",
       "16              SK바이오팜, 3분기 영업손실 630억원…매출은 성장세    이데일리  2020.11.12 10:07\n",
       "17   \"R&D 가속화 위한 투자 확대\" SK바이오팜, 3분기 영업손실 63...    매일경제  2020.11.12 10:07\n",
       "18          SK바이오팜, 3분기 영업손실 630억원…판매관리비 증가 영향   아시아경제  2020.11.12 10:35\n",
       "20          '공모주 대박' SK바이오팜, 3분기 영업손실 확대에 주가 ↓   머니투데이  2020.11.12 10:25\n",
       "21             SK바이오팜, 3·4분기 매출 39억원·영업손실 630억    서울경제  2020.11.12 09:53"
      ]
     },
     "execution_count": 81,
     "metadata": {},
     "output_type": "execute_result"
    }
   ],
   "source": [
    "# 함수가 잘 만들어졌는지 확인하기\n",
    "page_num = 20\n",
    "find_day_news(item_code, page_num)"
   ]
  },
  {
   "cell_type": "code",
   "execution_count": 82,
   "metadata": {},
   "outputs": [],
   "source": [
    "### 종목 토론 수집\n",
    "def get_day_debate(item_code, page_num):\n",
    "    \"\"\"\n",
    "    종목 토론 수집\n",
    "    \"\"\"\n",
    "    url = f\"https://finance.naver.com/item/board.nhn?code=005930&page={page_num}\"\n",
    "    headers = {\"user-agent\": \"Mozilla/5.0 (Windows NT 10.0; Win64; x64) AppleWebKit/537.36 (KHTML, like Gecko) Chrome/92.0.4515.107 Safari/537.36\"}\n",
    "    response = requests.get(url, headers = headers)\n",
    "    html = bs(response.text, \"lxml\")\n",
    "    tables = html.select(\"table\")\n",
    "    table = pd.read_html(str(tables))\n",
    "    table_page = table[1]\n",
    "    df_debate = table_page.iloc[:,:6]\n",
    "    debate_page_result = df_debate.dropna()\n",
    "    return debate_page_result"
   ]
  },
  {
   "cell_type": "code",
   "execution_count": 83,
   "metadata": {},
   "outputs": [
    {
     "data": {
      "text/html": [
       "<div>\n",
       "<style scoped>\n",
       "    .dataframe tbody tr th:only-of-type {\n",
       "        vertical-align: middle;\n",
       "    }\n",
       "\n",
       "    .dataframe tbody tr th {\n",
       "        vertical-align: top;\n",
       "    }\n",
       "\n",
       "    .dataframe thead th {\n",
       "        text-align: right;\n",
       "    }\n",
       "</style>\n",
       "<table border=\"1\" class=\"dataframe\">\n",
       "  <thead>\n",
       "    <tr style=\"text-align: right;\">\n",
       "      <th></th>\n",
       "      <th>날짜</th>\n",
       "      <th>제목</th>\n",
       "      <th>글쓴이</th>\n",
       "      <th>조회</th>\n",
       "      <th>공감</th>\n",
       "      <th>비공감</th>\n",
       "    </tr>\n",
       "  </thead>\n",
       "  <tbody>\n",
       "    <tr>\n",
       "      <th>1</th>\n",
       "      <td>2021.07.28 09:10</td>\n",
       "      <td>어째 하는짓거리가 6만원대 찍을거 같습니...</td>\n",
       "      <td>krpc****</td>\n",
       "      <td>71.0</td>\n",
       "      <td>0.0</td>\n",
       "      <td>1.0</td>\n",
       "    </tr>\n",
       "    <tr>\n",
       "      <th>2</th>\n",
       "      <td>2021.07.28 09:10</td>\n",
       "      <td>손절 버튼 누르지말고 참아봐라</td>\n",
       "      <td>yang****</td>\n",
       "      <td>74.0</td>\n",
       "      <td>2.0</td>\n",
       "      <td>0.0</td>\n",
       "    </tr>\n",
       "    <tr>\n",
       "      <th>3</th>\n",
       "      <td>2021.07.28 09:10</td>\n",
       "      <td>56도 비싸다  [1]</td>\n",
       "      <td>ciel****</td>\n",
       "      <td>110.0</td>\n",
       "      <td>2.0</td>\n",
       "      <td>3.0</td>\n",
       "    </tr>\n",
       "    <tr>\n",
       "      <th>4</th>\n",
       "      <td>2021.07.28 09:10</td>\n",
       "      <td>벌허</td>\n",
       "      <td>ct27****</td>\n",
       "      <td>46.0</td>\n",
       "      <td>1.0</td>\n",
       "      <td>1.0</td>\n",
       "    </tr>\n",
       "    <tr>\n",
       "      <th>5</th>\n",
       "      <td>2021.07.28 09:10</td>\n",
       "      <td>■썩은 반자본주의 좌파사상과 착취로 국...</td>\n",
       "      <td>perp****</td>\n",
       "      <td>41.0</td>\n",
       "      <td>0.0</td>\n",
       "      <td>0.0</td>\n",
       "    </tr>\n",
       "    <tr>\n",
       "      <th>7</th>\n",
       "      <td>2021.07.28 09:10</td>\n",
       "      <td>답답하네</td>\n",
       "      <td>seji****</td>\n",
       "      <td>49.0</td>\n",
       "      <td>0.0</td>\n",
       "      <td>0.0</td>\n",
       "    </tr>\n",
       "    <tr>\n",
       "      <th>8</th>\n",
       "      <td>2021.07.28 09:09</td>\n",
       "      <td>오늘도  [1]</td>\n",
       "      <td>gose****</td>\n",
       "      <td>82.0</td>\n",
       "      <td>0.0</td>\n",
       "      <td>0.0</td>\n",
       "    </tr>\n",
       "    <tr>\n",
       "      <th>9</th>\n",
       "      <td>2021.07.28 09:09</td>\n",
       "      <td>삼전 45000부터 분할 매수 시작하시면...</td>\n",
       "      <td>capp****</td>\n",
       "      <td>87.0</td>\n",
       "      <td>1.0</td>\n",
       "      <td>2.0</td>\n",
       "    </tr>\n",
       "    <tr>\n",
       "      <th>10</th>\n",
       "      <td>2021.07.28 09:09</td>\n",
       "      <td>안되겠다ㅋㅋㄲ</td>\n",
       "      <td>tmda****</td>\n",
       "      <td>52.0</td>\n",
       "      <td>0.0</td>\n",
       "      <td>0.0</td>\n",
       "    </tr>\n",
       "    <tr>\n",
       "      <th>11</th>\n",
       "      <td>2021.07.28 09:09</td>\n",
       "      <td>거지가 되고싶니?????</td>\n",
       "      <td>mado****</td>\n",
       "      <td>59.0</td>\n",
       "      <td>0.0</td>\n",
       "      <td>0.0</td>\n",
       "    </tr>\n",
       "    <tr>\n",
       "      <th>13</th>\n",
       "      <td>2021.07.28 09:08</td>\n",
       "      <td>10만전자 풋~~~</td>\n",
       "      <td>hown****</td>\n",
       "      <td>68.0</td>\n",
       "      <td>0.0</td>\n",
       "      <td>0.0</td>\n",
       "    </tr>\n",
       "    <tr>\n",
       "      <th>14</th>\n",
       "      <td>2021.07.28 09:08</td>\n",
       "      <td>무주식이</td>\n",
       "      <td>hyun****</td>\n",
       "      <td>58.0</td>\n",
       "      <td>1.0</td>\n",
       "      <td>0.0</td>\n",
       "    </tr>\n",
       "    <tr>\n",
       "      <th>15</th>\n",
       "      <td>2021.07.28 09:08</td>\n",
       "      <td>유투브로 삼성전자 보지마 이제 니주관것...</td>\n",
       "      <td>s121****</td>\n",
       "      <td>56.0</td>\n",
       "      <td>0.0</td>\n",
       "      <td>0.0</td>\n",
       "    </tr>\n",
       "    <tr>\n",
       "      <th>16</th>\n",
       "      <td>2021.07.28 09:07</td>\n",
       "      <td>자 6만원가자</td>\n",
       "      <td>nero****</td>\n",
       "      <td>78.0</td>\n",
       "      <td>0.0</td>\n",
       "      <td>0.0</td>\n",
       "    </tr>\n",
       "    <tr>\n",
       "      <th>17</th>\n",
       "      <td>2021.07.28 09:07</td>\n",
       "      <td>필라델피아 반도체지수 -2%에 선방하네</td>\n",
       "      <td>herb****</td>\n",
       "      <td>90.0</td>\n",
       "      <td>0.0</td>\n",
       "      <td>0.0</td>\n",
       "    </tr>\n",
       "    <tr>\n",
       "      <th>19</th>\n",
       "      <td>2021.07.28 09:07</td>\n",
       "      <td>개잡주</td>\n",
       "      <td>kmc5****</td>\n",
       "      <td>69.0</td>\n",
       "      <td>0.0</td>\n",
       "      <td>0.0</td>\n",
       "    </tr>\n",
       "    <tr>\n",
       "      <th>20</th>\n",
       "      <td>2021.07.28 09:07</td>\n",
       "      <td>와 삼전을 상대로</td>\n",
       "      <td>styl****</td>\n",
       "      <td>174.0</td>\n",
       "      <td>0.0</td>\n",
       "      <td>1.0</td>\n",
       "    </tr>\n",
       "    <tr>\n",
       "      <th>21</th>\n",
       "      <td>2021.07.28 09:06</td>\n",
       "      <td>하아.....</td>\n",
       "      <td>bbob****</td>\n",
       "      <td>57.0</td>\n",
       "      <td>0.0</td>\n",
       "      <td>0.0</td>\n",
       "    </tr>\n",
       "    <tr>\n",
       "      <th>22</th>\n",
       "      <td>2021.07.28 09:06</td>\n",
       "      <td>No. Problem</td>\n",
       "      <td>osuk****</td>\n",
       "      <td>63.0</td>\n",
       "      <td>0.0</td>\n",
       "      <td>0.0</td>\n",
       "    </tr>\n",
       "    <tr>\n",
       "      <th>23</th>\n",
       "      <td>2021.07.28 09:06</td>\n",
       "      <td>종가 77700  [1]</td>\n",
       "      <td>ljsr****</td>\n",
       "      <td>139.0</td>\n",
       "      <td>0.0</td>\n",
       "      <td>0.0</td>\n",
       "    </tr>\n",
       "  </tbody>\n",
       "</table>\n",
       "</div>"
      ],
      "text/plain": [
       "                  날짜                         제목       글쓴이     조회   공감  비공감\n",
       "1   2021.07.28 09:10  어째 하는짓거리가 6만원대 찍을거 같습니...  krpc****   71.0  0.0  1.0\n",
       "2   2021.07.28 09:10           손절 버튼 누르지말고 참아봐라  yang****   74.0  2.0  0.0\n",
       "3   2021.07.28 09:10               56도 비싸다  [1]  ciel****  110.0  2.0  3.0\n",
       "4   2021.07.28 09:10                         벌허  ct27****   46.0  1.0  1.0\n",
       "5   2021.07.28 09:10   ■썩은 반자본주의 좌파사상과 착취로 국...  perp****   41.0  0.0  0.0\n",
       "7   2021.07.28 09:10                       답답하네  seji****   49.0  0.0  0.0\n",
       "8   2021.07.28 09:09                   오늘도  [1]  gose****   82.0  0.0  0.0\n",
       "9   2021.07.28 09:09  삼전 45000부터 분할 매수 시작하시면...  capp****   87.0  1.0  2.0\n",
       "10  2021.07.28 09:09                    안되겠다ㅋㅋㄲ  tmda****   52.0  0.0  0.0\n",
       "11  2021.07.28 09:09              거지가 되고싶니?????  mado****   59.0  0.0  0.0\n",
       "13  2021.07.28 09:08                 10만전자 풋~~~  hown****   68.0  0.0  0.0\n",
       "14  2021.07.28 09:08                       무주식이  hyun****   58.0  1.0  0.0\n",
       "15  2021.07.28 09:08   유투브로 삼성전자 보지마 이제 니주관것...  s121****   56.0  0.0  0.0\n",
       "16  2021.07.28 09:07                    자 6만원가자  nero****   78.0  0.0  0.0\n",
       "17  2021.07.28 09:07      필라델피아 반도체지수 -2%에 선방하네  herb****   90.0  0.0  0.0\n",
       "19  2021.07.28 09:07                        개잡주  kmc5****   69.0  0.0  0.0\n",
       "20  2021.07.28 09:07                  와 삼전을 상대로  styl****  174.0  0.0  1.0\n",
       "21  2021.07.28 09:06                    하아.....  bbob****   57.0  0.0  0.0\n",
       "22  2021.07.28 09:06                No. Problem  osuk****   63.0  0.0  0.0\n",
       "23  2021.07.28 09:06              종가 77700  [1]  ljsr****  139.0  0.0  0.0"
      ]
     },
     "execution_count": 83,
     "metadata": {},
     "output_type": "execute_result"
    }
   ],
   "source": [
    "# 함수가 잘 만들어졌는지 확인하기\n",
    "page_num = 20\n",
    "get_day_debate(item_code, page_num)"
   ]
  },
  {
   "cell_type": "markdown",
   "metadata": {
    "id": "uuaac8XTTMkA"
   },
   "source": [
    "## 반복문을 통한 전체 일자 데이터 수집하기\n",
    "* (주의) 기간이 긴 데이터를 수집할때는 서버에 부담을 주지 않기 위해 time.sleep()값을 주세요."
   ]
  },
  {
   "cell_type": "code",
   "execution_count": 84,
   "metadata": {},
   "outputs": [
    {
     "name": "stdout",
     "output_type": "stream",
     "text": [
      "1\n",
      "2\n",
      "Wall time: 3.01 s\n"
     ]
    }
   ],
   "source": [
    "%%time\n",
    "print(1)\n",
    "time.sleep(3)\n",
    "print(2)"
   ]
  },
  {
   "cell_type": "code",
   "execution_count": 85,
   "metadata": {},
   "outputs": [
    {
     "data": {
      "text/plain": [
       "'https://finance.naver.com/item/sise_day.nhn?code=005930&page=10'"
      ]
     },
     "execution_count": 85,
     "metadata": {},
     "output_type": "execute_result"
    }
   ],
   "source": [
    "url"
   ]
  },
  {
   "cell_type": "code",
   "execution_count": 86,
   "metadata": {
    "id": "EQs1C6C_TMkA"
   },
   "outputs": [
    {
     "name": "stdout",
     "output_type": "stream",
     "text": [
      "1\n",
      "2\n",
      "3\n",
      "4\n",
      "5\n",
      "6\n",
      "7\n",
      "8\n",
      "9\n"
     ]
    },
    {
     "data": {
      "text/plain": [
       "[            날짜        종가     전일비        시가        고가        저가       거래량\n",
       " 1   2021.07.28  121000.0  1000.0  121500.0  122500.0  121000.0   54417.0\n",
       " 2   2021.07.27  122000.0  1500.0  121000.0  122500.0  120500.0  146705.0\n",
       " 3   2021.07.26  120500.0  1500.0  122500.0  123000.0  120000.0  221231.0\n",
       " 4   2021.07.23  122000.0  2000.0  124000.0  125000.0  122000.0  235444.0\n",
       " 5   2021.07.22  124000.0  1000.0  125000.0  125000.0  123000.0  155904.0\n",
       " 9   2021.07.21  125000.0   500.0  125500.0  127000.0  124000.0  194282.0\n",
       " 10  2021.07.20  124500.0  1000.0  123500.0  125500.0  123000.0  198884.0\n",
       " 11  2021.07.19  125500.0     0.0  124000.0  127000.0  123000.0  216944.0\n",
       " 12  2021.07.16  125500.0  3000.0  127500.0  128500.0  125500.0  327694.0\n",
       " 13  2021.07.15  128500.0  2000.0  130500.0  131500.0  128000.0  228926.0,\n",
       "             날짜        종가     전일비        시가        고가        저가        거래량\n",
       " 1   2021.07.14  130500.0  2000.0  132500.0  132500.0  129500.0   214600.0\n",
       " 2   2021.07.13  132500.0  5000.0  129000.0  133000.0  128000.0   354269.0\n",
       " 3   2021.07.12  127500.0   500.0  128500.0  128500.0  126500.0   181619.0\n",
       " 4   2021.07.09  128000.0  2000.0  129000.0  130000.0  125000.0   425244.0\n",
       " 5   2021.07.08  130000.0   500.0  129500.0  135000.0  129500.0   570279.0\n",
       " 9   2021.07.07  129500.0  2000.0  131500.0  132000.0  128500.0   308334.0\n",
       " 10  2021.07.06  131500.0   500.0  133000.0  133000.0  129500.0   302620.0\n",
       " 11  2021.07.05  132000.0  3000.0  134500.0  137500.0  132000.0   645056.0\n",
       " 12  2021.07.02  135000.0  7000.0  129000.0  135000.0  127000.0  1121805.0\n",
       " 13  2021.07.01  128000.0  5000.0  123000.0  128500.0  122000.0   588182.0,\n",
       "             날짜        종가     전일비        시가        고가        저가       거래량\n",
       " 1   2021.06.30  123000.0  2000.0  125000.0  125500.0  123000.0  231375.0\n",
       " 2   2021.06.29  125000.0  2000.0  123500.0  126000.0  123000.0  316209.0\n",
       " 3   2021.06.28  123000.0  1000.0  122000.0  124500.0  121000.0  250417.0\n",
       " 4   2021.06.25  122000.0     0.0  122500.0  123000.0  121000.0  207002.0\n",
       " 5   2021.06.24  122000.0   500.0  121500.0  123000.0  121000.0  225303.0\n",
       " 9   2021.06.23  121500.0   500.0  121000.0  123000.0  119500.0  257022.0\n",
       " 10  2021.06.22  121000.0  2500.0  125000.0  125500.0  120500.0  442181.0\n",
       " 11  2021.06.21  123500.0  4000.0  127500.0  128500.0  123000.0  446269.0\n",
       " 12  2021.06.18  127500.0  1000.0  127000.0  127500.0  124500.0  423591.0\n",
       " 13  2021.06.17  126500.0  3000.0  123500.0  128000.0  123000.0  740335.0,\n",
       "             날짜        종가     전일비        시가        고가        저가        거래량\n",
       " 1   2021.06.16  123500.0  4500.0  119500.0  124000.0  119000.0   564885.0\n",
       " 2   2021.06.15  119000.0     0.0  118500.0  120500.0  117000.0   346677.0\n",
       " 3   2021.06.14  119000.0  2500.0  122000.0  122500.0  119000.0   354305.0\n",
       " 4   2021.06.11  121500.0   500.0  121000.0  122000.0  118500.0   363126.0\n",
       " 5   2021.06.10  121000.0  2000.0  118000.0  122000.0  117500.0   721843.0\n",
       " 9   2021.06.09  119000.0  1000.0  120500.0  121000.0  116500.0   562473.0\n",
       " 10  2021.06.08  120000.0  6000.0  114500.0  120500.0  114000.0  1184944.0\n",
       " 11  2021.06.07  114000.0   500.0  114000.0  114500.0  112500.0   194269.0\n",
       " 12  2021.06.04  113500.0   500.0  112500.0  113500.0  111500.0   201488.0\n",
       " 13  2021.06.03  113000.0   500.0  113000.0  114000.0  112000.0   220038.0,\n",
       "             날짜        종가     전일비        시가        고가        저가       거래량\n",
       " 1   2021.06.02  112500.0   500.0  112000.0  113500.0  111500.0  201131.0\n",
       " 2   2021.06.01  112000.0  1500.0  113500.0  115000.0  112000.0  221321.0\n",
       " 3   2021.05.31  113500.0   500.0  112500.0  113500.0  111000.0  195806.0\n",
       " 4   2021.05.28  113000.0  1000.0  113500.0  113500.0  111500.0  230342.0\n",
       " 5   2021.05.27  114000.0  3500.0  110500.0  114000.0  108000.0  418439.0\n",
       " 9   2021.05.26  110500.0  2000.0  113000.0  113000.0  110500.0  186569.0\n",
       " 10  2021.05.25  112500.0  1500.0  111500.0  113500.0  110500.0  186693.0\n",
       " 11  2021.05.24  111000.0  1500.0  113000.0  113500.0  109000.0  260775.0\n",
       " 12  2021.05.21  112500.0   500.0  114500.0  114500.0  111500.0  185480.0\n",
       " 13  2021.05.20  113000.0     0.0  113000.0  114000.0  111500.0  198742.0,\n",
       "             날짜        종가     전일비        시가        고가        저가       거래량\n",
       " 1   2021.05.18  113000.0  2000.0  112000.0  113000.0  110500.0  223112.0\n",
       " 2   2021.05.17  111000.0   500.0  111500.0  114000.0  110000.0  352455.0\n",
       " 3   2021.05.14  110500.0  2500.0  108500.0  112000.0  108500.0  225513.0\n",
       " 4   2021.05.13  108000.0   500.0  106500.0  109000.0  105000.0  303192.0\n",
       " 5   2021.05.12  107500.0  1000.0  108000.0  114500.0  107000.0  860584.0\n",
       " 9   2021.05.11  106500.0  3000.0  109000.0  109000.0  106000.0  210598.0\n",
       " 10  2021.05.10  109500.0  1500.0  108500.0  110000.0  107500.0  212041.0\n",
       " 11  2021.05.07  108000.0  2000.0  106500.0  108500.0  106000.0  174741.0\n",
       " 12  2021.05.06  106000.0  1500.0  104000.0  107500.0  103500.0  264179.0\n",
       " 13  2021.05.04  104500.0   500.0  103500.0  105500.0  102500.0  445119.0,\n",
       "             날짜        종가     전일비        시가        고가        저가       거래량\n",
       " 1   2021.05.03  105000.0  4000.0  109000.0  109500.0  104500.0  390931.0\n",
       " 2   2021.04.30  109000.0  2500.0  111500.0  111500.0  108500.0  264892.0\n",
       " 3   2021.04.29  111500.0  3500.0  115000.0  115000.0  111000.0  315054.0\n",
       " 4   2021.04.28  115000.0   500.0  114500.0  115500.0  112000.0  305629.0\n",
       " 5   2021.04.27  114500.0  3000.0  118000.0  118500.0  114000.0  334035.0\n",
       " 9   2021.04.26  117500.0  1000.0  119500.0  120000.0  117000.0  338233.0\n",
       " 10  2021.04.23  118500.0  1000.0  116000.0  119000.0  115500.0  283501.0\n",
       " 11  2021.04.22  117500.0  2500.0  120500.0  121000.0  117000.0  383676.0\n",
       " 12  2021.04.21  120000.0  1000.0  118500.0  121000.0  117500.0  654108.0\n",
       " 13  2021.04.20  119000.0  5500.0  114500.0  119500.0  114000.0  727766.0,\n",
       "             날짜        종가     전일비        시가        고가        저가       거래량\n",
       " 1   2021.04.19  113500.0  2000.0  111000.0  115500.0  110500.0  622540.0\n",
       " 2   2021.04.16  111500.0   500.0  112500.0  113500.0  111000.0  242747.0\n",
       " 3   2021.04.15  112000.0   500.0  112000.0  112000.0  109000.0  292030.0\n",
       " 4   2021.04.14  111500.0  2500.0  114500.0  115000.0  111000.0  389050.0\n",
       " 5   2021.04.13  114000.0  4000.0  111000.0  115500.0  111000.0  906936.0\n",
       " 9   2021.04.12  110000.0  1000.0  110000.0  110500.0  107000.0  374629.0\n",
       " 10  2021.04.09  109000.0  3500.0  106500.0  109500.0  105500.0  645787.0\n",
       " 11  2021.04.08  105500.0  3000.0  102500.0  107000.0  101500.0  609482.0\n",
       " 12  2021.04.07  102500.0   500.0  101500.0  103000.0  101000.0  252175.0\n",
       " 13  2021.04.06  102000.0  1500.0  104000.0  104500.0  101000.0  346579.0,\n",
       "             날짜        종가     전일비        시가        고가        저가       거래량\n",
       " 1   2021.04.05  103500.0  1500.0  105500.0  106000.0  103000.0  217828.0\n",
       " 2   2021.04.02  105000.0   500.0  105000.0  106000.0  104000.0  315577.0\n",
       " 3   2021.04.01  104500.0  1500.0  103500.0  105000.0  102000.0  285824.0\n",
       " 4   2021.03.31  103000.0  1000.0  108000.0  109000.0  102500.0  675835.0\n",
       " 5   2021.03.30  104000.0  3000.0  101500.0  104500.0  100500.0  395848.0\n",
       " 9   2021.03.29  101000.0  3000.0  104500.0  104500.0  100000.0  523105.0\n",
       " 10  2021.03.26  104000.0   500.0  105000.0  105000.0  102000.0  300995.0\n",
       " 11  2021.03.25  104500.0  2000.0  106000.0  106000.0  104000.0  328715.0\n",
       " 12  2021.03.24  106500.0  1500.0  105500.0  107000.0  105000.0  232456.0\n",
       " 13  2021.03.23  105000.0     0.0  106000.0  107500.0  104500.0  290725.0]"
      ]
     },
     "execution_count": 86,
     "metadata": {},
     "output_type": "execute_result"
    }
   ],
   "source": [
    "import time\n",
    "# web page 시작번호\n",
    "page_no = 1\n",
    "# 데이터를 저장할 빈 변수 선언\n",
    "item_list = []\n",
    "for page_no in range(page_no,10):\n",
    "    temp = get_day_list(item_code, page_no)\n",
    "    item_list.append(temp)\n",
    "    print(page_no)\n",
    "    \n",
    "item_list"
   ]
  },
  {
   "cell_type": "code",
   "execution_count": 87,
   "metadata": {},
   "outputs": [
    {
     "name": "stderr",
     "output_type": "stream",
     "text": [
      "100%|████████████████████████████████████████████████████████████████████████████████████| 9/9 [00:01<00:00,  8.48it/s]\n"
     ]
    }
   ],
   "source": [
    "import time\n",
    "from tqdm import trange\n",
    "# web page 시작번호\n",
    "start_no = 1\n",
    "end_no = 9\n",
    "# 데이터를 저장할 빈 변수 선언\n",
    "item_list = []\n",
    "for page_no in trange(start_no,end_no+1):\n",
    "    temp = get_day_list(item_code, page_no)\n",
    "    item_list.append(temp)\n",
    "    \n",
    "# item_list"
   ]
  },
  {
   "cell_type": "code",
   "execution_count": 88,
   "metadata": {},
   "outputs": [
    {
     "name": "stdout",
     "output_type": "stream",
     "text": [
      "5\n",
      "10\n",
      "15\n",
      "20\n",
      "25\n"
     ]
    }
   ],
   "source": [
    "item_code = '326030'\n",
    "item_name = 'SK바이오팜'\n",
    "\n",
    "# 페이지 별 과를 받을 리스트를 초기화\n",
    "item_list = []\n",
    "\n",
    "# while\n",
    "page_no = 1\n",
    "\n",
    "while True:\n",
    "    # 수집함수\n",
    "    temp = get_day_list(item_code, page_no)\n",
    "    item_list.append(temp)\n",
    "    \n",
    "    # 서버에 부담을 주지 않기 위해 시간차를 두고 가져옴\n",
    "    random_time = np.random.uniform(0.1, 0.5)\n",
    "    time.sleep(random_time)\n",
    "    \n",
    "    # 페이지 번호를 하나씩 증가 시키고\n",
    "    page_no = page_no + 1\n",
    "    \n",
    "    # 5페이지 단위로 현재 몇페이지인지를 출력\n",
    "    if page_no % 5 == 0:\n",
    "        print(page_no)\n",
    "        \n",
    "    # 일별시세는 10개씩 행이 있기 때문에, 행이 10개보다 적으면 마지막 페이지로 보고 break\n",
    "    if temp.shape[0] != 10:\n",
    "        break"
   ]
  },
  {
   "cell_type": "markdown",
   "metadata": {
    "id": "iEFBJv5XTMkA"
   },
   "source": [
    "## 수집한 데이터 하나의 데이터프레임으로 합치기\n",
    "\n",
    "<img src=\"https://pandas.pydata.org/docs/_images/merging_concat_basic.png\">\n",
    "\n",
    "* [Merge, join, concatenate and compare documentation](https://pandas.pydata.org/docs/user_guide/merging.html#merge-join-concatenate-and-compare)"
   ]
  },
  {
   "cell_type": "code",
   "execution_count": 89,
   "metadata": {
    "id": "mUcxeTMFTMkA"
   },
   "outputs": [],
   "source": [
    "# DataFrame들이 list의 형태로 저장된 것을 concat을 이용하여 합치면서 하나의 DataFrame으로 만듭니다.\n",
    "df = pd.concat(item_list)"
   ]
  },
  {
   "cell_type": "markdown",
   "metadata": {},
   "source": [
    "<img src=\"https://pandas.pydata.org/docs/_images/08_concat_row.svg\">"
   ]
  },
  {
   "cell_type": "code",
   "execution_count": 90,
   "metadata": {
    "id": "Ep3NWfM-TMkA"
   },
   "outputs": [
    {
     "data": {
      "text/html": [
       "<div>\n",
       "<style scoped>\n",
       "    .dataframe tbody tr th:only-of-type {\n",
       "        vertical-align: middle;\n",
       "    }\n",
       "\n",
       "    .dataframe tbody tr th {\n",
       "        vertical-align: top;\n",
       "    }\n",
       "\n",
       "    .dataframe thead th {\n",
       "        text-align: right;\n",
       "    }\n",
       "</style>\n",
       "<table border=\"1\" class=\"dataframe\">\n",
       "  <thead>\n",
       "    <tr style=\"text-align: right;\">\n",
       "      <th></th>\n",
       "      <th>날짜</th>\n",
       "      <th>종가</th>\n",
       "      <th>전일비</th>\n",
       "      <th>시가</th>\n",
       "      <th>고가</th>\n",
       "      <th>저가</th>\n",
       "      <th>거래량</th>\n",
       "    </tr>\n",
       "  </thead>\n",
       "  <tbody>\n",
       "    <tr>\n",
       "      <th>1</th>\n",
       "      <td>2021.07.28</td>\n",
       "      <td>121000.0</td>\n",
       "      <td>1000.0</td>\n",
       "      <td>121500.0</td>\n",
       "      <td>122500.0</td>\n",
       "      <td>121000.0</td>\n",
       "      <td>54417.0</td>\n",
       "    </tr>\n",
       "    <tr>\n",
       "      <th>2</th>\n",
       "      <td>2021.07.27</td>\n",
       "      <td>122000.0</td>\n",
       "      <td>1500.0</td>\n",
       "      <td>121000.0</td>\n",
       "      <td>122500.0</td>\n",
       "      <td>120500.0</td>\n",
       "      <td>146705.0</td>\n",
       "    </tr>\n",
       "    <tr>\n",
       "      <th>3</th>\n",
       "      <td>2021.07.26</td>\n",
       "      <td>120500.0</td>\n",
       "      <td>1500.0</td>\n",
       "      <td>122500.0</td>\n",
       "      <td>123000.0</td>\n",
       "      <td>120000.0</td>\n",
       "      <td>221231.0</td>\n",
       "    </tr>\n",
       "    <tr>\n",
       "      <th>4</th>\n",
       "      <td>2021.07.23</td>\n",
       "      <td>122000.0</td>\n",
       "      <td>2000.0</td>\n",
       "      <td>124000.0</td>\n",
       "      <td>125000.0</td>\n",
       "      <td>122000.0</td>\n",
       "      <td>235444.0</td>\n",
       "    </tr>\n",
       "    <tr>\n",
       "      <th>5</th>\n",
       "      <td>2021.07.22</td>\n",
       "      <td>124000.0</td>\n",
       "      <td>1000.0</td>\n",
       "      <td>125000.0</td>\n",
       "      <td>125000.0</td>\n",
       "      <td>123000.0</td>\n",
       "      <td>155904.0</td>\n",
       "    </tr>\n",
       "  </tbody>\n",
       "</table>\n",
       "</div>"
      ],
      "text/plain": [
       "           날짜        종가     전일비        시가        고가        저가       거래량\n",
       "1  2021.07.28  121000.0  1000.0  121500.0  122500.0  121000.0   54417.0\n",
       "2  2021.07.27  122000.0  1500.0  121000.0  122500.0  120500.0  146705.0\n",
       "3  2021.07.26  120500.0  1500.0  122500.0  123000.0  120000.0  221231.0\n",
       "4  2021.07.23  122000.0  2000.0  124000.0  125000.0  122000.0  235444.0\n",
       "5  2021.07.22  124000.0  1000.0  125000.0  125000.0  123000.0  155904.0"
      ]
     },
     "execution_count": 90,
     "metadata": {},
     "output_type": "execute_result"
    }
   ],
   "source": [
    "# head와 tail로 데이터의 일부를 가져와서 봅니다.\n",
    "df.head()"
   ]
  },
  {
   "cell_type": "code",
   "execution_count": 91,
   "metadata": {
    "id": "hHcKUo8iTMkA"
   },
   "outputs": [
    {
     "data": {
      "text/html": [
       "<div>\n",
       "<style scoped>\n",
       "    .dataframe tbody tr th:only-of-type {\n",
       "        vertical-align: middle;\n",
       "    }\n",
       "\n",
       "    .dataframe tbody tr th {\n",
       "        vertical-align: top;\n",
       "    }\n",
       "\n",
       "    .dataframe thead th {\n",
       "        text-align: right;\n",
       "    }\n",
       "</style>\n",
       "<table border=\"1\" class=\"dataframe\">\n",
       "  <thead>\n",
       "    <tr style=\"text-align: right;\">\n",
       "      <th></th>\n",
       "      <th>날짜</th>\n",
       "      <th>종가</th>\n",
       "      <th>전일비</th>\n",
       "      <th>시가</th>\n",
       "      <th>고가</th>\n",
       "      <th>저가</th>\n",
       "      <th>거래량</th>\n",
       "    </tr>\n",
       "  </thead>\n",
       "  <tbody>\n",
       "    <tr>\n",
       "      <th>3</th>\n",
       "      <td>2020.07.08</td>\n",
       "      <td>217000.0</td>\n",
       "      <td>500.0</td>\n",
       "      <td>214500.0</td>\n",
       "      <td>225000.0</td>\n",
       "      <td>198000.0</td>\n",
       "      <td>5990009.0</td>\n",
       "    </tr>\n",
       "    <tr>\n",
       "      <th>4</th>\n",
       "      <td>2020.07.07</td>\n",
       "      <td>216500.0</td>\n",
       "      <td>2000.0</td>\n",
       "      <td>219000.0</td>\n",
       "      <td>269500.0</td>\n",
       "      <td>210000.0</td>\n",
       "      <td>10105187.0</td>\n",
       "    </tr>\n",
       "    <tr>\n",
       "      <th>5</th>\n",
       "      <td>2020.07.06</td>\n",
       "      <td>214500.0</td>\n",
       "      <td>49500.0</td>\n",
       "      <td>214500.0</td>\n",
       "      <td>214500.0</td>\n",
       "      <td>193500.0</td>\n",
       "      <td>7126211.0</td>\n",
       "    </tr>\n",
       "    <tr>\n",
       "      <th>9</th>\n",
       "      <td>2020.07.03</td>\n",
       "      <td>165000.0</td>\n",
       "      <td>38000.0</td>\n",
       "      <td>165000.0</td>\n",
       "      <td>165000.0</td>\n",
       "      <td>165000.0</td>\n",
       "      <td>711921.0</td>\n",
       "    </tr>\n",
       "    <tr>\n",
       "      <th>10</th>\n",
       "      <td>2020.07.02</td>\n",
       "      <td>127000.0</td>\n",
       "      <td>29000.0</td>\n",
       "      <td>98000.0</td>\n",
       "      <td>127000.0</td>\n",
       "      <td>98000.0</td>\n",
       "      <td>698642.0</td>\n",
       "    </tr>\n",
       "  </tbody>\n",
       "</table>\n",
       "</div>"
      ],
      "text/plain": [
       "            날짜        종가      전일비        시가        고가        저가         거래량\n",
       "3   2020.07.08  217000.0    500.0  214500.0  225000.0  198000.0   5990009.0\n",
       "4   2020.07.07  216500.0   2000.0  219000.0  269500.0  210000.0  10105187.0\n",
       "5   2020.07.06  214500.0  49500.0  214500.0  214500.0  193500.0   7126211.0\n",
       "9   2020.07.03  165000.0  38000.0  165000.0  165000.0  165000.0    711921.0\n",
       "10  2020.07.02  127000.0  29000.0   98000.0  127000.0   98000.0    698642.0"
      ]
     },
     "execution_count": 91,
     "metadata": {},
     "output_type": "execute_result"
    }
   ],
   "source": [
    "df.tail()"
   ]
  },
  {
   "cell_type": "markdown",
   "metadata": {
    "id": "DdML6w8yTMkA"
   },
   "source": [
    "## 데이터프레임에 종목코드와 종목명을 추가하기\n",
    "* 파생변수 만들기"
   ]
  },
  {
   "cell_type": "code",
   "execution_count": 92,
   "metadata": {
    "id": "-yIDnlZHTMkA"
   },
   "outputs": [],
   "source": [
    "# '종목코드'와 '종목명' column을 추가하면서 각각 item_code와 item_name 값을 입력합니다.\n",
    "df[\"종목코드\"] = item_code\n",
    "df[\"종목명\"] = item_name"
   ]
  },
  {
   "cell_type": "code",
   "execution_count": 93,
   "metadata": {
    "id": "bwDA0C4PTMkA"
   },
   "outputs": [
    {
     "data": {
      "text/html": [
       "<div>\n",
       "<style scoped>\n",
       "    .dataframe tbody tr th:only-of-type {\n",
       "        vertical-align: middle;\n",
       "    }\n",
       "\n",
       "    .dataframe tbody tr th {\n",
       "        vertical-align: top;\n",
       "    }\n",
       "\n",
       "    .dataframe thead th {\n",
       "        text-align: right;\n",
       "    }\n",
       "</style>\n",
       "<table border=\"1\" class=\"dataframe\">\n",
       "  <thead>\n",
       "    <tr style=\"text-align: right;\">\n",
       "      <th></th>\n",
       "      <th>날짜</th>\n",
       "      <th>종가</th>\n",
       "      <th>전일비</th>\n",
       "      <th>시가</th>\n",
       "      <th>고가</th>\n",
       "      <th>저가</th>\n",
       "      <th>거래량</th>\n",
       "      <th>종목코드</th>\n",
       "      <th>종목명</th>\n",
       "    </tr>\n",
       "  </thead>\n",
       "  <tbody>\n",
       "    <tr>\n",
       "      <th>1</th>\n",
       "      <td>2021.07.28</td>\n",
       "      <td>121000.0</td>\n",
       "      <td>1000.0</td>\n",
       "      <td>121500.0</td>\n",
       "      <td>122500.0</td>\n",
       "      <td>121000.0</td>\n",
       "      <td>54417.0</td>\n",
       "      <td>326030</td>\n",
       "      <td>SK바이오팜</td>\n",
       "    </tr>\n",
       "    <tr>\n",
       "      <th>2</th>\n",
       "      <td>2021.07.27</td>\n",
       "      <td>122000.0</td>\n",
       "      <td>1500.0</td>\n",
       "      <td>121000.0</td>\n",
       "      <td>122500.0</td>\n",
       "      <td>120500.0</td>\n",
       "      <td>146705.0</td>\n",
       "      <td>326030</td>\n",
       "      <td>SK바이오팜</td>\n",
       "    </tr>\n",
       "  </tbody>\n",
       "</table>\n",
       "</div>"
      ],
      "text/plain": [
       "           날짜        종가     전일비        시가        고가        저가       거래량  \\\n",
       "1  2021.07.28  121000.0  1000.0  121500.0  122500.0  121000.0   54417.0   \n",
       "2  2021.07.27  122000.0  1500.0  121000.0  122500.0  120500.0  146705.0   \n",
       "\n",
       "     종목코드     종목명  \n",
       "1  326030  SK바이오팜  \n",
       "2  326030  SK바이오팜  "
      ]
     },
     "execution_count": 93,
     "metadata": {},
     "output_type": "execute_result"
    }
   ],
   "source": [
    "df.head(2)"
   ]
  },
  {
   "cell_type": "markdown",
   "metadata": {
    "id": "3RlnKPE1TMkA"
   },
   "source": [
    "## 컬럼 순서 변경하기"
   ]
  },
  {
   "cell_type": "code",
   "execution_count": 94,
   "metadata": {
    "id": "JblNSbuRTMkA"
   },
   "outputs": [
    {
     "data": {
      "text/plain": [
       "Index(['날짜', '종가', '전일비', '시가', '고가', '저가', '거래량', '종목코드', '종목명'], dtype='object')"
      ]
     },
     "execution_count": 94,
     "metadata": {},
     "output_type": "execute_result"
    }
   ],
   "source": [
    "# DataFrame에서 column 들의 이름을 순서를 조정하여 column순서를 변경할 수 있습니다.\n",
    "df.columns"
   ]
  },
  {
   "cell_type": "code",
   "execution_count": 95,
   "metadata": {},
   "outputs": [
    {
     "data": {
      "text/html": [
       "<div>\n",
       "<style scoped>\n",
       "    .dataframe tbody tr th:only-of-type {\n",
       "        vertical-align: middle;\n",
       "    }\n",
       "\n",
       "    .dataframe tbody tr th {\n",
       "        vertical-align: top;\n",
       "    }\n",
       "\n",
       "    .dataframe thead th {\n",
       "        text-align: right;\n",
       "    }\n",
       "</style>\n",
       "<table border=\"1\" class=\"dataframe\">\n",
       "  <thead>\n",
       "    <tr style=\"text-align: right;\">\n",
       "      <th></th>\n",
       "      <th>종목코드</th>\n",
       "      <th>종목명</th>\n",
       "      <th>날짜</th>\n",
       "      <th>종가</th>\n",
       "      <th>전일비</th>\n",
       "      <th>시가</th>\n",
       "      <th>고가</th>\n",
       "      <th>저가</th>\n",
       "      <th>거래량</th>\n",
       "    </tr>\n",
       "  </thead>\n",
       "  <tbody>\n",
       "    <tr>\n",
       "      <th>1</th>\n",
       "      <td>326030</td>\n",
       "      <td>SK바이오팜</td>\n",
       "      <td>2021.07.28</td>\n",
       "      <td>121000.0</td>\n",
       "      <td>1000.0</td>\n",
       "      <td>121500.0</td>\n",
       "      <td>122500.0</td>\n",
       "      <td>121000.0</td>\n",
       "      <td>54417.0</td>\n",
       "    </tr>\n",
       "    <tr>\n",
       "      <th>2</th>\n",
       "      <td>326030</td>\n",
       "      <td>SK바이오팜</td>\n",
       "      <td>2021.07.27</td>\n",
       "      <td>122000.0</td>\n",
       "      <td>1500.0</td>\n",
       "      <td>121000.0</td>\n",
       "      <td>122500.0</td>\n",
       "      <td>120500.0</td>\n",
       "      <td>146705.0</td>\n",
       "    </tr>\n",
       "  </tbody>\n",
       "</table>\n",
       "</div>"
      ],
      "text/plain": [
       "     종목코드     종목명          날짜        종가     전일비        시가        고가        저가  \\\n",
       "1  326030  SK바이오팜  2021.07.28  121000.0  1000.0  121500.0  122500.0  121000.0   \n",
       "2  326030  SK바이오팜  2021.07.27  122000.0  1500.0  121000.0  122500.0  120500.0   \n",
       "\n",
       "        거래량  \n",
       "1   54417.0  \n",
       "2  146705.0  "
      ]
     },
     "execution_count": 95,
     "metadata": {},
     "output_type": "execute_result"
    }
   ],
   "source": [
    "cols = ['종목코드', '종목명', '날짜', '종가', '전일비', '시가', '고가', '저가', '거래량']\n",
    "df = df[cols]\n",
    "df.head(2)"
   ]
  },
  {
   "cell_type": "markdown",
   "metadata": {
    "id": "_-SXjeiSTMkA"
   },
   "source": [
    "## 중복데이터 제거하기\n",
    "* drop_duplicates 를 통해 중복된 데이터가 있다면 제거합니다."
   ]
  },
  {
   "cell_type": "code",
   "execution_count": 96,
   "metadata": {
    "id": "F0VZGMNRTMkA"
   },
   "outputs": [
    {
     "name": "stdout",
     "output_type": "stream",
     "text": [
      "(267, 9)\n"
     ]
    },
    {
     "data": {
      "text/plain": [
       "(267, 9)"
      ]
     },
     "execution_count": 96,
     "metadata": {},
     "output_type": "execute_result"
    }
   ],
   "source": [
    "# drop_duplicates : row들 끼리 data를 비교하여 같은 값이 있으면 row중 하나를 삭제\n",
    "# df.shape를 전/후로 출력하여 삭제된 row가 있는지 확인\n",
    "print(df.shape)\n",
    "df.drop_duplicates()\n",
    "df.shape\n",
    "# 중복 데이터 없음을 확인"
   ]
  },
  {
   "cell_type": "markdown",
   "metadata": {
    "id": "viEbEi4iTMkB"
   },
   "source": [
    "## 기술통계값 구하기"
   ]
  },
  {
   "cell_type": "code",
   "execution_count": 97,
   "metadata": {
    "id": "Q-gV-QPPTMkB"
   },
   "outputs": [
    {
     "data": {
      "text/html": [
       "<div>\n",
       "<style scoped>\n",
       "    .dataframe tbody tr th:only-of-type {\n",
       "        vertical-align: middle;\n",
       "    }\n",
       "\n",
       "    .dataframe tbody tr th {\n",
       "        vertical-align: top;\n",
       "    }\n",
       "\n",
       "    .dataframe thead th {\n",
       "        text-align: right;\n",
       "    }\n",
       "</style>\n",
       "<table border=\"1\" class=\"dataframe\">\n",
       "  <thead>\n",
       "    <tr style=\"text-align: right;\">\n",
       "      <th></th>\n",
       "      <th>종가</th>\n",
       "      <th>전일비</th>\n",
       "      <th>시가</th>\n",
       "      <th>고가</th>\n",
       "      <th>저가</th>\n",
       "      <th>거래량</th>\n",
       "    </tr>\n",
       "  </thead>\n",
       "  <tbody>\n",
       "    <tr>\n",
       "      <th>count</th>\n",
       "      <td>267.000000</td>\n",
       "      <td>267.000000</td>\n",
       "      <td>267.000000</td>\n",
       "      <td>267.000000</td>\n",
       "      <td>267.000000</td>\n",
       "      <td>2.670000e+02</td>\n",
       "    </tr>\n",
       "    <tr>\n",
       "      <th>mean</th>\n",
       "      <td>146775.280899</td>\n",
       "      <td>3059.925094</td>\n",
       "      <td>147204.119850</td>\n",
       "      <td>149719.101124</td>\n",
       "      <td>144250.936330</td>\n",
       "      <td>5.912933e+05</td>\n",
       "    </tr>\n",
       "    <tr>\n",
       "      <th>std</th>\n",
       "      <td>29285.444873</td>\n",
       "      <td>4921.199040</td>\n",
       "      <td>29689.883689</td>\n",
       "      <td>30863.964960</td>\n",
       "      <td>28628.432898</td>\n",
       "      <td>1.166652e+06</td>\n",
       "    </tr>\n",
       "    <tr>\n",
       "      <th>min</th>\n",
       "      <td>101000.000000</td>\n",
       "      <td>0.000000</td>\n",
       "      <td>98000.000000</td>\n",
       "      <td>103000.000000</td>\n",
       "      <td>98000.000000</td>\n",
       "      <td>5.441700e+04</td>\n",
       "    </tr>\n",
       "    <tr>\n",
       "      <th>25%</th>\n",
       "      <td>118750.000000</td>\n",
       "      <td>1000.000000</td>\n",
       "      <td>118250.000000</td>\n",
       "      <td>120750.000000</td>\n",
       "      <td>116000.000000</td>\n",
       "      <td>2.116635e+05</td>\n",
       "    </tr>\n",
       "    <tr>\n",
       "      <th>50%</th>\n",
       "      <td>150500.000000</td>\n",
       "      <td>2000.000000</td>\n",
       "      <td>151000.000000</td>\n",
       "      <td>153000.000000</td>\n",
       "      <td>149000.000000</td>\n",
       "      <td>3.155770e+05</td>\n",
       "    </tr>\n",
       "    <tr>\n",
       "      <th>75%</th>\n",
       "      <td>171000.000000</td>\n",
       "      <td>3500.000000</td>\n",
       "      <td>171000.000000</td>\n",
       "      <td>173000.000000</td>\n",
       "      <td>168500.000000</td>\n",
       "      <td>5.579945e+05</td>\n",
       "    </tr>\n",
       "    <tr>\n",
       "      <th>max</th>\n",
       "      <td>217000.000000</td>\n",
       "      <td>49500.000000</td>\n",
       "      <td>219000.000000</td>\n",
       "      <td>269500.000000</td>\n",
       "      <td>210000.000000</td>\n",
       "      <td>1.242668e+07</td>\n",
       "    </tr>\n",
       "  </tbody>\n",
       "</table>\n",
       "</div>"
      ],
      "text/plain": [
       "                  종가           전일비             시가             고가  \\\n",
       "count     267.000000    267.000000     267.000000     267.000000   \n",
       "mean   146775.280899   3059.925094  147204.119850  149719.101124   \n",
       "std     29285.444873   4921.199040   29689.883689   30863.964960   \n",
       "min    101000.000000      0.000000   98000.000000  103000.000000   \n",
       "25%    118750.000000   1000.000000  118250.000000  120750.000000   \n",
       "50%    150500.000000   2000.000000  151000.000000  153000.000000   \n",
       "75%    171000.000000   3500.000000  171000.000000  173000.000000   \n",
       "max    217000.000000  49500.000000  219000.000000  269500.000000   \n",
       "\n",
       "                  저가           거래량  \n",
       "count     267.000000  2.670000e+02  \n",
       "mean   144250.936330  5.912933e+05  \n",
       "std     28628.432898  1.166652e+06  \n",
       "min     98000.000000  5.441700e+04  \n",
       "25%    116000.000000  2.116635e+05  \n",
       "50%    149000.000000  3.155770e+05  \n",
       "75%    168500.000000  5.579945e+05  \n",
       "max    210000.000000  1.242668e+07  "
      ]
     },
     "execution_count": 97,
     "metadata": {},
     "output_type": "execute_result"
    }
   ],
   "source": [
    "# describe는 기본적으로 수치데이터에 대한 기술통계값을 구하게 됩니다.\n",
    "df.describe()"
   ]
  },
  {
   "cell_type": "markdown",
   "metadata": {},
   "source": [
    "* 참고 : E notation\n",
    "[과학적 기수법 - 위키백과, 우리 모두의 백과사전](https://ko.wikipedia.org/wiki/%EA%B3%BC%ED%95%99%EC%A0%81_%EA%B8%B0%EC%88%98%EB%B2%95)\n",
    "\n",
    "과학적 기수법, 과학적 표기법(scientific notation, scientific form, standard index form, standard form)은 너무 크거나 너무 작은 숫자들을 십진법으로 편하게 작성하여 표현하는 방법이다. 과학자, 수학자, 공학자들이 공통적으로 사용하는데, 부분적인 이유는 특정한 산술을 단순화시켜 주기 때문이다. 과학 계산기에서는 \"SCI\" 디스플레이 모드라는 이름으로 알려져 있다."
   ]
  },
  {
   "cell_type": "code",
   "execution_count": 98,
   "metadata": {},
   "outputs": [
    {
     "data": {
      "text/plain": [
       "36168.0"
      ]
     },
     "execution_count": 98,
     "metadata": {},
     "output_type": "execute_result"
    }
   ],
   "source": [
    "# 거래량의 과학적 기수법 읽기\n",
    "3.616800e+04"
   ]
  },
  {
   "cell_type": "markdown",
   "metadata": {
    "id": "Ql0phnyuTMkB"
   },
   "source": [
    "## 최근 날짜 구해서 파일명 만들기"
   ]
  },
  {
   "cell_type": "code",
   "execution_count": 99,
   "metadata": {
    "id": "_dyLUpVVTMkB"
   },
   "outputs": [
    {
     "data": {
      "text/plain": [
       "'2021.07.28'"
      ]
     },
     "execution_count": 99,
     "metadata": {},
     "output_type": "execute_result"
    }
   ],
   "source": [
    "# 날짜 column의 첫 row값 확인\n",
    "# date\n",
    "date = df.iloc[0, 2]\n",
    "date"
   ]
  },
  {
   "cell_type": "code",
   "execution_count": 100,
   "metadata": {
    "id": "teInPugvTMkB"
   },
   "outputs": [
    {
     "data": {
      "text/plain": [
       "'SK바이오팜_326030_2021.07.28.csv'"
      ]
     },
     "execution_count": 100,
     "metadata": {},
     "output_type": "execute_result"
    }
   ],
   "source": [
    "# 종목명, 종목코드, 날짜를 이름으로 하는 csv 파일명 만들기\n",
    "file_name = f\"{item_name}_{item_code}_{date}.csv\"\n",
    "file_name"
   ]
  },
  {
   "cell_type": "markdown",
   "metadata": {
    "id": "1LXe-dutTMkB"
   },
   "source": [
    "## 파일로 저장하기"
   ]
  },
  {
   "cell_type": "code",
   "execution_count": 101,
   "metadata": {
    "id": "dBRXOwIxTMkB"
   },
   "outputs": [],
   "source": [
    "# 파일로 저장하기 \n",
    "# index=False 로 데이터프레임의 기본 index 는 저장하지 않도록 합니다.\n",
    "df.to_csv(file_name, index = False)"
   ]
  },
  {
   "cell_type": "code",
   "execution_count": 102,
   "metadata": {
    "id": "EEfm9Yk9TMkB"
   },
   "outputs": [
    {
     "data": {
      "text/html": [
       "<div>\n",
       "<style scoped>\n",
       "    .dataframe tbody tr th:only-of-type {\n",
       "        vertical-align: middle;\n",
       "    }\n",
       "\n",
       "    .dataframe tbody tr th {\n",
       "        vertical-align: top;\n",
       "    }\n",
       "\n",
       "    .dataframe thead th {\n",
       "        text-align: right;\n",
       "    }\n",
       "</style>\n",
       "<table border=\"1\" class=\"dataframe\">\n",
       "  <thead>\n",
       "    <tr style=\"text-align: right;\">\n",
       "      <th></th>\n",
       "      <th>종목코드</th>\n",
       "      <th>종목명</th>\n",
       "      <th>날짜</th>\n",
       "      <th>종가</th>\n",
       "      <th>전일비</th>\n",
       "      <th>시가</th>\n",
       "      <th>고가</th>\n",
       "      <th>저가</th>\n",
       "      <th>거래량</th>\n",
       "    </tr>\n",
       "  </thead>\n",
       "  <tbody>\n",
       "    <tr>\n",
       "      <th>0</th>\n",
       "      <td>326030</td>\n",
       "      <td>SK바이오팜</td>\n",
       "      <td>2021.07.28</td>\n",
       "      <td>121000.0</td>\n",
       "      <td>1000.0</td>\n",
       "      <td>121500.0</td>\n",
       "      <td>122500.0</td>\n",
       "      <td>121000.0</td>\n",
       "      <td>54417.0</td>\n",
       "    </tr>\n",
       "    <tr>\n",
       "      <th>1</th>\n",
       "      <td>326030</td>\n",
       "      <td>SK바이오팜</td>\n",
       "      <td>2021.07.27</td>\n",
       "      <td>122000.0</td>\n",
       "      <td>1500.0</td>\n",
       "      <td>121000.0</td>\n",
       "      <td>122500.0</td>\n",
       "      <td>120500.0</td>\n",
       "      <td>146705.0</td>\n",
       "    </tr>\n",
       "    <tr>\n",
       "      <th>2</th>\n",
       "      <td>326030</td>\n",
       "      <td>SK바이오팜</td>\n",
       "      <td>2021.07.26</td>\n",
       "      <td>120500.0</td>\n",
       "      <td>1500.0</td>\n",
       "      <td>122500.0</td>\n",
       "      <td>123000.0</td>\n",
       "      <td>120000.0</td>\n",
       "      <td>221231.0</td>\n",
       "    </tr>\n",
       "    <tr>\n",
       "      <th>3</th>\n",
       "      <td>326030</td>\n",
       "      <td>SK바이오팜</td>\n",
       "      <td>2021.07.23</td>\n",
       "      <td>122000.0</td>\n",
       "      <td>2000.0</td>\n",
       "      <td>124000.0</td>\n",
       "      <td>125000.0</td>\n",
       "      <td>122000.0</td>\n",
       "      <td>235444.0</td>\n",
       "    </tr>\n",
       "    <tr>\n",
       "      <th>4</th>\n",
       "      <td>326030</td>\n",
       "      <td>SK바이오팜</td>\n",
       "      <td>2021.07.22</td>\n",
       "      <td>124000.0</td>\n",
       "      <td>1000.0</td>\n",
       "      <td>125000.0</td>\n",
       "      <td>125000.0</td>\n",
       "      <td>123000.0</td>\n",
       "      <td>155904.0</td>\n",
       "    </tr>\n",
       "    <tr>\n",
       "      <th>...</th>\n",
       "      <td>...</td>\n",
       "      <td>...</td>\n",
       "      <td>...</td>\n",
       "      <td>...</td>\n",
       "      <td>...</td>\n",
       "      <td>...</td>\n",
       "      <td>...</td>\n",
       "      <td>...</td>\n",
       "      <td>...</td>\n",
       "    </tr>\n",
       "    <tr>\n",
       "      <th>262</th>\n",
       "      <td>326030</td>\n",
       "      <td>SK바이오팜</td>\n",
       "      <td>2020.07.08</td>\n",
       "      <td>217000.0</td>\n",
       "      <td>500.0</td>\n",
       "      <td>214500.0</td>\n",
       "      <td>225000.0</td>\n",
       "      <td>198000.0</td>\n",
       "      <td>5990009.0</td>\n",
       "    </tr>\n",
       "    <tr>\n",
       "      <th>263</th>\n",
       "      <td>326030</td>\n",
       "      <td>SK바이오팜</td>\n",
       "      <td>2020.07.07</td>\n",
       "      <td>216500.0</td>\n",
       "      <td>2000.0</td>\n",
       "      <td>219000.0</td>\n",
       "      <td>269500.0</td>\n",
       "      <td>210000.0</td>\n",
       "      <td>10105187.0</td>\n",
       "    </tr>\n",
       "    <tr>\n",
       "      <th>264</th>\n",
       "      <td>326030</td>\n",
       "      <td>SK바이오팜</td>\n",
       "      <td>2020.07.06</td>\n",
       "      <td>214500.0</td>\n",
       "      <td>49500.0</td>\n",
       "      <td>214500.0</td>\n",
       "      <td>214500.0</td>\n",
       "      <td>193500.0</td>\n",
       "      <td>7126211.0</td>\n",
       "    </tr>\n",
       "    <tr>\n",
       "      <th>265</th>\n",
       "      <td>326030</td>\n",
       "      <td>SK바이오팜</td>\n",
       "      <td>2020.07.03</td>\n",
       "      <td>165000.0</td>\n",
       "      <td>38000.0</td>\n",
       "      <td>165000.0</td>\n",
       "      <td>165000.0</td>\n",
       "      <td>165000.0</td>\n",
       "      <td>711921.0</td>\n",
       "    </tr>\n",
       "    <tr>\n",
       "      <th>266</th>\n",
       "      <td>326030</td>\n",
       "      <td>SK바이오팜</td>\n",
       "      <td>2020.07.02</td>\n",
       "      <td>127000.0</td>\n",
       "      <td>29000.0</td>\n",
       "      <td>98000.0</td>\n",
       "      <td>127000.0</td>\n",
       "      <td>98000.0</td>\n",
       "      <td>698642.0</td>\n",
       "    </tr>\n",
       "  </tbody>\n",
       "</table>\n",
       "<p>267 rows × 9 columns</p>\n",
       "</div>"
      ],
      "text/plain": [
       "       종목코드     종목명          날짜        종가      전일비        시가        고가  \\\n",
       "0    326030  SK바이오팜  2021.07.28  121000.0   1000.0  121500.0  122500.0   \n",
       "1    326030  SK바이오팜  2021.07.27  122000.0   1500.0  121000.0  122500.0   \n",
       "2    326030  SK바이오팜  2021.07.26  120500.0   1500.0  122500.0  123000.0   \n",
       "3    326030  SK바이오팜  2021.07.23  122000.0   2000.0  124000.0  125000.0   \n",
       "4    326030  SK바이오팜  2021.07.22  124000.0   1000.0  125000.0  125000.0   \n",
       "..      ...     ...         ...       ...      ...       ...       ...   \n",
       "262  326030  SK바이오팜  2020.07.08  217000.0    500.0  214500.0  225000.0   \n",
       "263  326030  SK바이오팜  2020.07.07  216500.0   2000.0  219000.0  269500.0   \n",
       "264  326030  SK바이오팜  2020.07.06  214500.0  49500.0  214500.0  214500.0   \n",
       "265  326030  SK바이오팜  2020.07.03  165000.0  38000.0  165000.0  165000.0   \n",
       "266  326030  SK바이오팜  2020.07.02  127000.0  29000.0   98000.0  127000.0   \n",
       "\n",
       "           저가         거래량  \n",
       "0    121000.0     54417.0  \n",
       "1    120500.0    146705.0  \n",
       "2    120000.0    221231.0  \n",
       "3    122000.0    235444.0  \n",
       "4    123000.0    155904.0  \n",
       "..        ...         ...  \n",
       "262  198000.0   5990009.0  \n",
       "263  210000.0  10105187.0  \n",
       "264  193500.0   7126211.0  \n",
       "265  165000.0    711921.0  \n",
       "266   98000.0    698642.0  \n",
       "\n",
       "[267 rows x 9 columns]"
      ]
     },
     "execution_count": 102,
     "metadata": {},
     "output_type": "execute_result"
    }
   ],
   "source": [
    "# 제대로 저장되었는지 파일을 읽어서 확인합니다.\n",
    "pd.read_csv(file_name)"
   ]
  },
  {
   "cell_type": "markdown",
   "metadata": {},
   "source": [
    "## 전체 과정을 하나의 함수로 만들기"
   ]
  },
  {
   "cell_type": "code",
   "execution_count": 110,
   "metadata": {},
   "outputs": [],
   "source": [
    "def get_item_list(item_code, item_name):\n",
    "    \"\"\"\n",
    "    일별 시세를 수집하는 함수\n",
    "    \"\"\"\n",
    "    # 반복문\n",
    "    # 페이지 별 과를 받을 리스트를 초기화\n",
    "    item_list = []\n",
    "\n",
    "    # 페이지 번호 초기화\n",
    "    page_no = 1\n",
    "\n",
    "    while True:\n",
    "        # 수집함수\n",
    "        temp = get_day_list(item_code, page_no)\n",
    "        \n",
    "        # 두번째 페이지부터 확인\n",
    "        if page_no > 1:\n",
    "            pre_date = item_list[-1]['날짜'].tolist()[0]\n",
    "            now_date = temp['날짜'].tolist()[0]\n",
    "            if pre_date == now_date :\n",
    "                break\n",
    "                \n",
    "        item_list.append(temp)\n",
    "\n",
    "        # 서버에 부담을 주지 않기 위해 시간차를 두고 가져옴\n",
    "        random_time = np.random.uniform(0.1, 0.5)\n",
    "        time.sleep(random_time)\n",
    "\n",
    "        # 페이지 번호를 하나씩 증가 시키고\n",
    "        page_no = page_no + 1\n",
    "\n",
    "        # 5페이지 단위로 현재 몇페이지인지를 출력\n",
    "        if page_no % 5 == 0:\n",
    "            print(page_no)\n",
    "\n",
    "        # 일별시세는 10개씩 행이 있기 때문에, 행이 10개보다 적으면 마지막 페이지로 보고 break\n",
    "        if temp.shape[0] != 10:\n",
    "            break\n",
    "\n",
    "    # 전처리\n",
    "    df = pd.concat(item_list)\n",
    "    df['종목코드'] = item_code\n",
    "    df['종목명'] = item_name\n",
    "    cols = ['종목코드', '종목명', '날짜', '종가', '전일비', '시가', '고가', '저가', '거래량']\n",
    "    df = df[cols].copy()\n",
    "    \n",
    "    # 파일저장\n",
    "    date = df.iloc[0,2]\n",
    "    file_name = f\"{item_name}_{item_code}_{date}.csv\"\n",
    "    df.to_csv(file_name, index = False)\n",
    "    return True"
   ]
  },
  {
   "cell_type": "code",
   "execution_count": 111,
   "metadata": {},
   "outputs": [
    {
     "name": "stdout",
     "output_type": "stream",
     "text": [
      "5\n",
      "10\n",
      "15\n",
      "20\n",
      "25\n"
     ]
    },
    {
     "data": {
      "text/plain": [
       "True"
      ]
     },
     "execution_count": 111,
     "metadata": {},
     "output_type": "execute_result"
    }
   ],
   "source": [
    "# item_code = \"352820\"\n",
    "# item_name = \"하이브\"\n",
    "# 빅히트의 사명이 하이브로 변경되었습니다.\n",
    "\n",
    "item_code = \"326030\"\n",
    "item_name = \"SK바이오팜\"\n",
    "get_item_list(item_code, item_name)"
   ]
  },
  {
   "cell_type": "markdown",
   "metadata": {},
   "source": [
    "## 내가 만든 함수의 기능과 소스코드가 궁금하다면?"
   ]
  },
  {
   "cell_type": "code",
   "execution_count": null,
   "metadata": {},
   "outputs": [],
   "source": [
    "# 도움말 보기\n",
    "# get_item_list?"
   ]
  },
  {
   "cell_type": "code",
   "execution_count": null,
   "metadata": {},
   "outputs": [],
   "source": [
    "# 소스코드 보기\n",
    "# get_item_list??"
   ]
  },
  {
   "cell_type": "code",
   "execution_count": null,
   "metadata": {},
   "outputs": [],
   "source": []
  }
 ],
 "metadata": {
  "colab": {
   "collapsed_sections": [],
   "name": "3. 네이버금융 개별종목 수집.ipynb",
   "provenance": [],
   "toc_visible": true
  },
  "kernelspec": {
   "display_name": "Python 3",
   "language": "python",
   "name": "python3"
  },
  "language_info": {
   "codemirror_mode": {
    "name": "ipython",
    "version": 3
   },
   "file_extension": ".py",
   "mimetype": "text/x-python",
   "name": "python",
   "nbconvert_exporter": "python",
   "pygments_lexer": "ipython3",
   "version": "3.8.8"
  },
  "toc": {
   "base_numbering": 1,
   "nav_menu": {},
   "number_sections": true,
   "sideBar": true,
   "skip_h1_title": false,
   "title_cell": "Table of Contents",
   "title_sidebar": "Contents",
   "toc_cell": false,
   "toc_position": {
    "height": "calc(100% - 180px)",
    "left": "10px",
    "top": "150px",
    "width": "204.797px"
   },
   "toc_section_display": true,
   "toc_window_display": true
  },
  "varInspector": {
   "cols": {
    "lenName": 16,
    "lenType": 16,
    "lenVar": 40
   },
   "kernels_config": {
    "python": {
     "delete_cmd_postfix": "",
     "delete_cmd_prefix": "del ",
     "library": "var_list.py",
     "varRefreshCmd": "print(var_dic_list())"
    },
    "r": {
     "delete_cmd_postfix": ") ",
     "delete_cmd_prefix": "rm(",
     "library": "var_list.r",
     "varRefreshCmd": "cat(var_dic_list()) "
    }
   },
   "types_to_exclude": [
    "module",
    "function",
    "builtin_function_or_method",
    "instance",
    "_Feature"
   ],
   "window_display": false
  }
 },
 "nbformat": 4,
 "nbformat_minor": 1
}
